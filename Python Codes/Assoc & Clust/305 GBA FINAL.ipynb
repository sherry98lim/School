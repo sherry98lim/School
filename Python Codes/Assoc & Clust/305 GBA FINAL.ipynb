{
 "cells": [
  {
   "cell_type": "markdown",
   "id": "56f80493-d158-48db-b786-f2ce1b82d21b",
   "metadata": {},
   "source": [
    "### Assoc and Clust"
   ]
  },
  {
   "cell_type": "code",
   "execution_count": null,
   "id": "19287231-8a12-4881-9700-18bd67655678",
   "metadata": {},
   "outputs": [],
   "source": [
    "import pandas as pd\n",
    "import matplotlib.pyplot as plt\n",
    "\n",
    "game_df = pd.read_csv(\"appstore_games.csv\", na_filter = True)\n",
    "game_df"
   ]
  },
  {
   "cell_type": "code",
   "execution_count": null,
   "id": "a5333789-9879-47f2-b47c-b55b177cf98b",
   "metadata": {},
   "outputs": [],
   "source": [
    "game_df.isnull().sum(axis=0) "
   ]
  },
  {
   "cell_type": "code",
   "execution_count": null,
   "id": "1503ea02-52a1-40d1-8826-eb4b433db552",
   "metadata": {},
   "outputs": [],
   "source": [
    "duplicates = game_df.duplicated()\n",
    "total_duplicates = duplicates.sum()\n",
    "\n",
    "print(\"Total duplicates:\", total_duplicates)"
   ]
  },
  {
   "cell_type": "code",
   "execution_count": null,
   "id": "b25b1b74-c002-4e84-b045-5e7c2476fe00",
   "metadata": {},
   "outputs": [],
   "source": [
    "game_df1 = game_df.drop_duplicates()\n",
    "\n",
    "display(game_df1)"
   ]
  },
  {
   "cell_type": "code",
   "execution_count": null,
   "id": "3a315d93-69b3-4ce9-8b77-a03e26a0f001",
   "metadata": {},
   "outputs": [],
   "source": [
    "clean1 = game_df1.drop(['URL', 'Subtitle', 'Icon URL','Description', 'Developer','Original Release Date'], axis=1)\n",
    "\n",
    "display(clean1)"
   ]
  },
  {
   "cell_type": "code",
   "execution_count": null,
   "id": "c29e200b-b68b-4497-8681-1f8a170d6afa",
   "metadata": {},
   "outputs": [],
   "source": [
    "# Remove languages and user rating count null\n",
    "\n",
    "clean2 = clean1.dropna(subset=['User Rating Count','Languages'])\n",
    "display(clean2)"
   ]
  },
  {
   "cell_type": "code",
   "execution_count": null,
   "id": "de8e3590-12c6-4253-9dc7-af59f24ad980",
   "metadata": {},
   "outputs": [],
   "source": [
    "clean2.isnull().sum(axis=0) "
   ]
  },
  {
   "cell_type": "code",
   "execution_count": null,
   "id": "9067935d-5f21-4715-bae9-dd1ebbbd29d9",
   "metadata": {},
   "outputs": [],
   "source": [
    "# Primary genre = Games\n",
    "clean3 = clean2[clean2['Primary Genre'] == 'Games']\n",
    "display(clean3)"
   ]
  },
  {
   "cell_type": "code",
   "execution_count": null,
   "id": "2e864363-257b-485a-aad9-8a55ae83a671",
   "metadata": {},
   "outputs": [],
   "source": [
    "# Filter out 2019 games\n",
    "clean4  = clean3[clean3['Current Version Release Date'].str.contains('2019', case=False, na=False)]\n",
    "display(clean4)"
   ]
  },
  {
   "cell_type": "code",
   "execution_count": null,
   "id": "d22bd3b7-14a6-46a5-9a66-7cd5d3f8c31a",
   "metadata": {},
   "outputs": [],
   "source": [
    "clean5 = clean4[clean4['User Rating Count'] > 500]\n",
    "\n",
    "display(clean5)"
   ]
  },
  {
   "cell_type": "code",
   "execution_count": null,
   "id": "1235ef9e",
   "metadata": {},
   "outputs": [],
   "source": [
    "# Split the 'Languages' column by comma and count the number of languages\n",
    "clean5['Number of Languages'] = clean5['Languages'].apply(lambda x: len(x.split(', ')))\n",
    "\n",
    "display(clean5)"
   ]
  },
  {
   "cell_type": "code",
   "execution_count": null,
   "id": "0264c052",
   "metadata": {},
   "outputs": [],
   "source": [
    "# Split the 'Genres' column by comma and count the number of genres\n",
    "clean5['Number of Genres'] = clean5['Genres'].apply(lambda x: len(x.split(', ')))\n",
    "\n",
    "display(clean5)"
   ]
  },
  {
   "cell_type": "code",
   "execution_count": null,
   "id": "04b004df-be49-4969-a8c4-d97ea27b3f0d",
   "metadata": {},
   "outputs": [],
   "source": [
    "clean5['In-App Purchase Present'] = clean5['In-app Purchases'].isnull().replace({True: 'Y', False: 'N'})\n",
    "display (clean5)"
   ]
  },
  {
   "cell_type": "code",
   "execution_count": null,
   "id": "9a2b87e1-9dc8-4377-a215-9e0406ef9da6",
   "metadata": {},
   "outputs": [],
   "source": [
    "clean6 = clean5.drop(['Name','Primary Genre','Current Version Release Date'], axis=1)\n",
    "\n",
    "display(clean6)"
   ]
  },
  {
   "cell_type": "code",
   "execution_count": null,
   "id": "85b603cd-f3d2-4275-80da-067d7bd442ea",
   "metadata": {},
   "outputs": [],
   "source": [
    "clean6.to_csv('305GBASL.csv', index=False)"
   ]
  },
  {
   "cell_type": "code",
   "execution_count": null,
   "id": "a915f9b2-eb1c-4b74-bb99-659eba003869",
   "metadata": {},
   "outputs": [],
   "source": []
  },
  {
   "cell_type": "code",
   "execution_count": null,
   "id": "525aca54-d739-4c5b-a027-0d6bcc28a7c9",
   "metadata": {},
   "outputs": [],
   "source": [
    "## finding all IAP record is null\n",
    "#df = pd.DataFrame(clean5)\n",
    "#nan_iap = df[clean5['In-app Purchases'].isna()]\n",
    "#display(nan_iap)"
   ]
  },
  {
   "cell_type": "code",
   "execution_count": null,
   "id": "f4efe5db-5ead-4fe7-bf4f-995fe9665242",
   "metadata": {},
   "outputs": [],
   "source": [
    "#nan_iap.shape"
   ]
  },
  {
   "cell_type": "code",
   "execution_count": null,
   "id": "2a66738a-8d83-44e4-94d3-8ed0b97cb632",
   "metadata": {},
   "outputs": [],
   "source": []
  },
  {
   "cell_type": "code",
   "execution_count": null,
   "id": "c8dcc25b-bac9-4042-b773-433daf7e75fc",
   "metadata": {},
   "outputs": [],
   "source": [
    "## finding rows that Languages is NA\n",
    "#df = pd.DataFrame(game_df)\n",
    "#nan_lang = df[game_df['Languages'].isna()]\n",
    "#display (nan_lang)"
   ]
  },
  {
   "cell_type": "code",
   "execution_count": null,
   "id": "d8eb63a5-d2e5-4f8a-a9cc-a056abfebc1f",
   "metadata": {},
   "outputs": [],
   "source": [
    "#clean5[['Genre1', 'Genre2', 'Genre3',' Genre4']] = clean5['Genres'].str.split(',', expand=True)\n",
    "# display(clean5)"
   ]
  }
 ],
 "metadata": {
  "kernelspec": {
   "display_name": "Python 3 (ipykernel)",
   "language": "python",
   "name": "python3"
  },
  "language_info": {
   "codemirror_mode": {
    "name": "ipython",
    "version": 3
   },
   "file_extension": ".py",
   "mimetype": "text/x-python",
   "name": "python",
   "nbconvert_exporter": "python",
   "pygments_lexer": "ipython3",
   "version": "3.9.12"
  }
 },
 "nbformat": 4,
 "nbformat_minor": 5
}
