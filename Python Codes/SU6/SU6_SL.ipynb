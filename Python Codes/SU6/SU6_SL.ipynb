{
 "cells": [
  {
   "cell_type": "markdown",
   "id": "7dcf1687-a171-426a-b3dc-9874fad84e03",
   "metadata": {},
   "source": [
    "# SU6 - SQL"
   ]
  },
  {
   "cell_type": "code",
   "execution_count": null,
   "id": "1cf10258-9dbf-450f-8874-3dc58358468e",
   "metadata": {},
   "outputs": [],
   "source": [
    "import pandas as pd  # in memory dataframe\n",
    "import sqlite3       #access SQL database\n",
    "import csv           # access csv text file"
   ]
  },
  {
   "cell_type": "code",
   "execution_count": null,
   "id": "a2fa85f3-02ef-4d3e-8f2f-e3a299345818",
   "metadata": {},
   "outputs": [],
   "source": [
    "with open(\"imported_fruits.csv\", mode=\"w\") as csv_file :\n",
    "    fieldnames = [\"Fruits\", \"Prices\", \"Country\"]\n",
    "    writer = csv.DictWriter(csv_file, fieldnames=fieldnames)\n",
    "    writer.writeheader()\n",
    "    \n",
    "    writer.writerow({\"Fruits\" : \"Apple\", \"Prices\" : \"1.20\", \"Country\" : \"Russia\"})\n",
    "    writer.writerow({\"Fruits\" : \"Banana\", \"Prices\" : \"0.70\", \"Country\" : \"Africa\"})\n",
    "    writer.writerow({\"Fruits\" : \"Tomato\", \"Prices\" : \"0.90\", \"Country\" : \"Portugal\"})\n",
    "    "
   ]
  },
  {
   "cell_type": "code",
   "execution_count": null,
   "id": "79c040d6-c200-47cd-8941-a882c52e2b71",
   "metadata": {},
   "outputs": [],
   "source": [
    "f = open(\"imported_fruits.csv\", mode=\"r\") # f is the file handle\n",
    "content = f.read()\n",
    "print(content)\n",
    "f.close()"
   ]
  },
  {
   "cell_type": "code",
   "execution_count": null,
   "id": "c3f62915-e462-4038-8ec1-cdf3f44c44cd",
   "metadata": {},
   "outputs": [],
   "source": [
    "f = open(\"imported_fruits.csv\", mode=\"r\") # f is the file handle\n",
    "content = f.readlines()\n",
    "\n",
    "for l in content :\n",
    "    print(l)\n",
    "    \n",
    "#print(content)\n",
    "f.close()"
   ]
  },
  {
   "cell_type": "code",
   "execution_count": null,
   "id": "68729795-492b-4c0d-8183-415e4d00e2d3",
   "metadata": {},
   "outputs": [],
   "source": [
    "# read from a csv file using pandas\n",
    "\n",
    "imported_fruits = pd.read_csv(\"imported_fruits.csv\")\n",
    "display(imported_fruits)"
   ]
  },
  {
   "cell_type": "code",
   "execution_count": null,
   "id": "5e5e8a6f-19d0-4984-b945-7f8e312ae8f1",
   "metadata": {},
   "outputs": [],
   "source": [
    "# generate a connection; will be created \n",
    "\n",
    "conn = sqlite3.connect(\"imported_fruits.db\")\n",
    "\n",
    "cur = conn.cursor()\n",
    "\n",
    "imported_fruits.to_sql(\"imported_fruits\", con = conn, if_exists=\"replace\")\n",
    "\n",
    "conn.close()"
   ]
  },
  {
   "cell_type": "markdown",
   "id": "d3b5930d-14d0-41f3-99fb-dddf1c237651",
   "metadata": {},
   "source": [
    "## Retrieve all records from imported fruits db"
   ]
  },
  {
   "cell_type": "code",
   "execution_count": null,
   "id": "faac6edd-7845-4392-9a22-d4c164d06186",
   "metadata": {},
   "outputs": [],
   "source": [
    "conn = sqlite3.connect(\"imported_fruits.db\")\n",
    "cur = conn.cursor()\n",
    "\n",
    "# SQL command\n",
    "\n",
    "sqlcmd = \"SELECT * FROM imported_fruits\"\n",
    "#sqlcmd = \"SELECT * FROM imported_fruits WHERE Country = 'Africa' \"\n",
    "\n",
    "cur.execute(sqlcmd)\n",
    "\n",
    "#contents = cur.fetchall()  # fetch all records\n",
    "contents = cur.fetchone()   # fetch one record\n",
    "\n",
    "# combine all commands together\n",
    "#cur.execute(\"SELECT * from imported_fruits\").fetchall()\n"
   ]
  },
  {
   "cell_type": "code",
   "execution_count": null,
   "id": "a46d71e6-a8ca-471a-bfd4-5ef662782a05",
   "metadata": {},
   "outputs": [],
   "source": [
    "contents"
   ]
  },
  {
   "cell_type": "code",
   "execution_count": null,
   "id": "65dec7c1-d20e-4b08-a76c-197ada072669",
   "metadata": {},
   "outputs": [],
   "source": [
    "# commit/save the changes to sql database\n",
    "conn.commit()\n",
    "\n",
    "# close the connection\n",
    "conn.close()"
   ]
  },
  {
   "cell_type": "markdown",
   "id": "72a2fbea-5eef-4a19-8340-b7fdaa378994",
   "metadata": {},
   "source": [
    "## Activity 1"
   ]
  },
  {
   "cell_type": "code",
   "execution_count": 39,
   "id": "a15cf0b4-401d-4a1b-8660-b8d39b15010c",
   "metadata": {},
   "outputs": [
    {
     "name": "stdin",
     "output_type": "stream",
     "text": [
      "Car Brand: toyota\n",
      "Car Model: a4\n",
      "Car Price: 220000\n",
      "Satisfaction level : 1-5: 4\n",
      "Continue? y/n: y\n",
      "Car Brand: honda\n",
      "Car Model: civic\n",
      "Car Price: 300000\n",
      "Satisfaction level : 1-5: 5\n",
      "Continue? y/n: n\n"
     ]
    },
    {
     "name": "stdout",
     "output_type": "stream",
     "text": [
      "['toyota', 'honda'] ['a4', 'civic'] ['220000', '300000'] ['4', '5']\n"
     ]
    }
   ],
   "source": [
    "brand_list = []\n",
    "model_list = []\n",
    "price_list = []\n",
    "satisfaction_list = []\n",
    "\n",
    "\n",
    "while True :\n",
    "    brand = input(\"Car Brand:\").lower().strip()\n",
    "    model = input(\"Car Model:\").lower().strip()\n",
    "    price = input(\"Car Price:\")\n",
    "    satisfaction = input(\"Satisfaction level : 1-5:\")\n",
    "    \n",
    "    #add use inputs to lists\n",
    "    brand_list.append(brand)\n",
    "    model_list.append(model)\n",
    "    price_list.append(price)\n",
    "    satisfaction_list.append(satisfaction)\n",
    "    \n",
    "    resp = input(\"Continue? y/n:\").lower().strip()\n",
    "    if resp == 'n':\n",
    "        break\n",
    "        \n",
    "print(brand_list, model_list, price_list, satisfaction_list)\n",
    "    "
   ]
  },
  {
   "cell_type": "code",
   "execution_count": 41,
   "id": "f6e21391-db05-4c8a-94d7-9062f4a2fc04",
   "metadata": {},
   "outputs": [
    {
     "data": {
      "text/plain": [
       "[('toyota', 'a4', '220000', '4'), ('honda', 'civic', '300000', '5')]"
      ]
     },
     "execution_count": 41,
     "metadata": {},
     "output_type": "execute_result"
    }
   ],
   "source": [
    "# zip all the columns together - brand, model, price, satisfaction as tuple\n",
    "\n",
    "data = list(zip(brand_list, model_list, price_list, satisfaction_list))\n",
    "data"
   ]
  },
  {
   "cell_type": "code",
   "execution_count": 42,
   "id": "9922aea5-f7ca-4565-a033-44a8f554844f",
   "metadata": {},
   "outputs": [
    {
     "data": {
      "text/html": [
       "<div>\n",
       "<style scoped>\n",
       "    .dataframe tbody tr th:only-of-type {\n",
       "        vertical-align: middle;\n",
       "    }\n",
       "\n",
       "    .dataframe tbody tr th {\n",
       "        vertical-align: top;\n",
       "    }\n",
       "\n",
       "    .dataframe thead th {\n",
       "        text-align: right;\n",
       "    }\n",
       "</style>\n",
       "<table border=\"1\" class=\"dataframe\">\n",
       "  <thead>\n",
       "    <tr style=\"text-align: right;\">\n",
       "      <th></th>\n",
       "      <th>Brand</th>\n",
       "      <th>Model</th>\n",
       "      <th>Price</th>\n",
       "      <th>Satisfaction</th>\n",
       "    </tr>\n",
       "  </thead>\n",
       "  <tbody>\n",
       "    <tr>\n",
       "      <th>0</th>\n",
       "      <td>toyota</td>\n",
       "      <td>a4</td>\n",
       "      <td>220000</td>\n",
       "      <td>4</td>\n",
       "    </tr>\n",
       "    <tr>\n",
       "      <th>1</th>\n",
       "      <td>honda</td>\n",
       "      <td>civic</td>\n",
       "      <td>300000</td>\n",
       "      <td>5</td>\n",
       "    </tr>\n",
       "  </tbody>\n",
       "</table>\n",
       "</div>"
      ],
      "text/plain": [
       "    Brand  Model   Price Satisfaction\n",
       "0  toyota     a4  220000            4\n",
       "1   honda  civic  300000            5"
      ]
     },
     "execution_count": 42,
     "metadata": {},
     "output_type": "execute_result"
    }
   ],
   "source": [
    "# convert this data into a Pandas dataframe\n",
    "\n",
    "data_df = pd.DataFrame(data, columns=[\"Brand\", \"Model\", \"Price\", \"Satisfaction\"])\n",
    "data_df"
   ]
  },
  {
   "cell_type": "code",
   "execution_count": 44,
   "id": "512955e8-f449-4267-a3da-9a03bb4a9159",
   "metadata": {},
   "outputs": [],
   "source": [
    "# use pandas .to_csv to convert to csv file\n",
    "\n",
    "data_df.to_csv(\"car_purchase.csv\", index = \"False\")"
   ]
  },
  {
   "cell_type": "code",
   "execution_count": 46,
   "id": "64e600de-57c1-47c8-bdc5-70ca38b047b6",
   "metadata": {},
   "outputs": [],
   "source": [
    "# to save to database\n",
    "\n",
    "conn = sqlite3.connect(\"car_purchase.db\")\n",
    "cur = conn.cursor()\n",
    "\n",
    "data_df.to_sql(\"car_purchase\", con = conn, if_exists = 'replace')\n",
    "conn.close()"
   ]
  },
  {
   "cell_type": "code",
   "execution_count": null,
   "id": "ed435a3d-720f-4bac-acdd-e9307ffa76b8",
   "metadata": {},
   "outputs": [],
   "source": []
  },
  {
   "cell_type": "code",
   "execution_count": null,
   "id": "48849cd7-0dfb-4ef5-854b-a8ab6ea6ba81",
   "metadata": {},
   "outputs": [],
   "source": []
  },
  {
   "cell_type": "code",
   "execution_count": null,
   "id": "e9f3bd43-a583-4ad2-bde5-d973876fc3d9",
   "metadata": {},
   "outputs": [],
   "source": []
  },
  {
   "cell_type": "code",
   "execution_count": null,
   "id": "fe2f375c-8450-439e-86c1-53ebc822c7bf",
   "metadata": {},
   "outputs": [],
   "source": []
  },
  {
   "cell_type": "code",
   "execution_count": null,
   "id": "fd0cd257-cfd6-408d-9aa0-0a8a12cc3d4d",
   "metadata": {},
   "outputs": [],
   "source": []
  },
  {
   "cell_type": "code",
   "execution_count": null,
   "id": "e689ff88-e75d-48ce-a483-2a0f5624ff30",
   "metadata": {},
   "outputs": [],
   "source": []
  },
  {
   "cell_type": "code",
   "execution_count": null,
   "id": "798a417f-80ae-4bc6-8e93-8263f0e96171",
   "metadata": {},
   "outputs": [],
   "source": []
  }
 ],
 "metadata": {
  "kernelspec": {
   "display_name": "Python 3 (ipykernel)",
   "language": "python",
   "name": "python3"
  },
  "language_info": {
   "codemirror_mode": {
    "name": "ipython",
    "version": 3
   },
   "file_extension": ".py",
   "mimetype": "text/x-python",
   "name": "python",
   "nbconvert_exporter": "python",
   "pygments_lexer": "ipython3",
   "version": "3.9.12"
  }
 },
 "nbformat": 4,
 "nbformat_minor": 5
}
