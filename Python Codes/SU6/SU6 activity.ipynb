{
 "cells": [
  {
   "cell_type": "markdown",
   "metadata": {},
   "source": [
    "**<font color=blue size=5 face=ARIAL>SU6</font>**"
   ]
  },
  {
   "cell_type": "markdown",
   "metadata": {},
   "source": [
    "**<font color=green size=3 face=ARIAL> Introduction to SQL and SQLite3 </font>**"
   ]
  },
  {
   "cell_type": "code",
   "execution_count": 1,
   "metadata": {
    "tags": []
   },
   "outputs": [],
   "source": [
    "# import all the packages\n",
    "import sqlite3\n",
    "import pandas as pd\n",
    "import csv"
   ]
  },
  {
   "cell_type": "code",
   "execution_count": 2,
   "metadata": {
    "tags": []
   },
   "outputs": [],
   "source": [
    "# example of how to write CSV files\n",
    "with open(\"./imported_fruits.csv\", mode = \"w\") as csv_file:\n",
    "    fieldnames = [\"Fruits\", \"Prices\", \"Country\"]\n",
    "    writer = csv.DictWriter(csv_file, fieldnames= fieldnames)\n",
    "    writer.writeheader()\n",
    "    writer.writerow({\"Fruits\": \"Apple\", \"Prices\": \"1.20\", \"Country\": \"Russia\"})\n",
    "    writer.writerow({\"Fruits\": \"Banana\", \"Prices\": \"0.70\", \"Country\": \"Africa\"})\n",
    "    writer.writerow({\"Fruits\": \"Tomato\", \"Prices\": \"0.90\", \"Country\": \"Portugal\"})"
   ]
  },
  {
   "cell_type": "code",
   "execution_count": 3,
   "metadata": {
    "tags": []
   },
   "outputs": [
    {
     "name": "stdout",
     "output_type": "stream",
     "text": [
      "Fruits,Prices,Country\n",
      "\n",
      "Apple,1.20,Russia\n",
      "\n",
      "Banana,0.70,Africa\n",
      "\n",
      "Tomato,0.90,Portugal\n",
      "\n",
      "\n"
     ]
    }
   ],
   "source": [
    "# check that we have written the CSV file correctly\n",
    "f = open(\"imported_fruits.csv\", 'r')\n",
    "content = f.read()\n",
    "print(content)"
   ]
  },
  {
   "cell_type": "code",
   "execution_count": 4,
   "metadata": {
    "tags": []
   },
   "outputs": [],
   "source": [
    "# import the csv\n",
    "imported_fruits = pd.read_csv(\"imported_fruits.csv\")"
   ]
  },
  {
   "cell_type": "code",
   "execution_count": 5,
   "metadata": {
    "tags": []
   },
   "outputs": [
    {
     "data": {
      "text/html": [
       "<div>\n",
       "<style scoped>\n",
       "    .dataframe tbody tr th:only-of-type {\n",
       "        vertical-align: middle;\n",
       "    }\n",
       "\n",
       "    .dataframe tbody tr th {\n",
       "        vertical-align: top;\n",
       "    }\n",
       "\n",
       "    .dataframe thead th {\n",
       "        text-align: right;\n",
       "    }\n",
       "</style>\n",
       "<table border=\"1\" class=\"dataframe\">\n",
       "  <thead>\n",
       "    <tr style=\"text-align: right;\">\n",
       "      <th></th>\n",
       "      <th>Fruits</th>\n",
       "      <th>Prices</th>\n",
       "      <th>Country</th>\n",
       "    </tr>\n",
       "  </thead>\n",
       "  <tbody>\n",
       "    <tr>\n",
       "      <th>0</th>\n",
       "      <td>Apple</td>\n",
       "      <td>1.2</td>\n",
       "      <td>Russia</td>\n",
       "    </tr>\n",
       "    <tr>\n",
       "      <th>1</th>\n",
       "      <td>Banana</td>\n",
       "      <td>0.7</td>\n",
       "      <td>Africa</td>\n",
       "    </tr>\n",
       "    <tr>\n",
       "      <th>2</th>\n",
       "      <td>Tomato</td>\n",
       "      <td>0.9</td>\n",
       "      <td>Portugal</td>\n",
       "    </tr>\n",
       "  </tbody>\n",
       "</table>\n",
       "</div>"
      ],
      "text/plain": [
       "   Fruits  Prices   Country\n",
       "0   Apple     1.2    Russia\n",
       "1  Banana     0.7    Africa\n",
       "2  Tomato     0.9  Portugal"
      ]
     },
     "execution_count": 5,
     "metadata": {},
     "output_type": "execute_result"
    }
   ],
   "source": [
    "imported_fruits"
   ]
  },
  {
   "cell_type": "code",
   "execution_count": 6,
   "metadata": {
    "tags": []
   },
   "outputs": [],
   "source": [
    "# generate a connection; will be created if it doesnt exist\n",
    "conn = sqlite3.connect('imported_fruits.db')\n",
    "# generate a cursor object\n",
    "cur = conn.cursor()"
   ]
  },
  {
   "cell_type": "code",
   "execution_count": 7,
   "metadata": {
    "tags": []
   },
   "outputs": [
    {
     "data": {
      "text/plain": [
       "3"
      ]
     },
     "execution_count": 7,
     "metadata": {},
     "output_type": "execute_result"
    }
   ],
   "source": [
    "# export to sql database\n",
    "imported_fruits.to_sql(\"imported_fruits\", con = conn, if_exists='replace')\n",
    "#Returns: the no. of rows affected by to_sql()"
   ]
  },
  {
   "cell_type": "code",
   "execution_count": 8,
   "metadata": {
    "tags": []
   },
   "outputs": [
    {
     "data": {
      "text/plain": [
       "(0, 'Apple', 1.2, 'Russia')"
      ]
     },
     "execution_count": 8,
     "metadata": {},
     "output_type": "execute_result"
    }
   ],
   "source": [
    "# use cursor object to select some entries\n",
    "cur.execute('select * from imported_fruits').fetchone()"
   ]
  },
  {
   "cell_type": "code",
   "execution_count": 9,
   "metadata": {
    "scrolled": true,
    "tags": []
   },
   "outputs": [
    {
     "data": {
      "text/plain": [
       "[(0, 'Apple', 1.2, 'Russia'),\n",
       " (1, 'Banana', 0.7, 'Africa'),\n",
       " (2, 'Tomato', 0.9, 'Portugal')]"
      ]
     },
     "execution_count": 9,
     "metadata": {},
     "output_type": "execute_result"
    }
   ],
   "source": [
    "# use cursor object to select all the entries\n",
    "cur.execute('select * from imported_fruits').fetchall()"
   ]
  },
  {
   "cell_type": "code",
   "execution_count": 10,
   "metadata": {
    "tags": []
   },
   "outputs": [],
   "source": [
    "# commit/save the changes to the sql database\n",
    "conn.commit()\n",
    "# close the connection\n",
    "conn.close()"
   ]
  },
  {
   "cell_type": "markdown",
   "metadata": {},
   "source": [
    "### Activity 1"
   ]
  },
  {
   "cell_type": "markdown",
   "metadata": {},
   "source": [
    "**<font color=blue size=2 face=ARIAL> database connection </font>**"
   ]
  },
  {
   "cell_type": "code",
   "execution_count": 20,
   "metadata": {
    "tags": []
   },
   "outputs": [],
   "source": [
    "conn = sqlite3.connect('Activity1.db')\n",
    "c = conn.cursor() #So c is now the cursor object"
   ]
  },
  {
   "cell_type": "code",
   "execution_count": 11,
   "metadata": {
    "scrolled": true,
    "tags": []
   },
   "outputs": [
    {
     "name": "stdin",
     "output_type": "stream",
     "text": [
      "What is the brand of your car?  nissan\n",
      "What is the model of your car?  sunny\n",
      "What is the price of your car?  100000\n",
      "What is your level of satisfaction 4\n",
      "Would you like to enter the information for another car?  y\n",
      "Please enter yes or no only  audi\n",
      "Please enter yes or no only  yes\n",
      "What is the brand of your car?  audi\n",
      "What is the model of your car?  a4\n",
      "What is the price of your car?  200000\n",
      "What is your level of satisfaction 5\n",
      "Would you like to enter the information for another car?  no\n"
     ]
    }
   ],
   "source": [
    "brand = []\n",
    "model = []  \n",
    "price = []\n",
    "satisfaction = []\n",
    "query = 'yes'\n",
    "while query == 'yes':\n",
    "    brand_inputs = input(\"What is the brand of your car? \")\n",
    "    model_inputs = input(\"What is the model of your car? \")\n",
    "    try:\n",
    "        price_inputs = int(input(\"What is the price of your car? \"))\n",
    "    except ValueError:\n",
    "        print(\"Your input is not numeric. Please try again.\")\n",
    "    satisfaction_inputs = input(\"What is your level of satisfaction\")\n",
    "    brand.append(brand_inputs)\n",
    "    model.append(model_inputs)\n",
    "    price.append(price_inputs)\n",
    "    satisfaction.append(satisfaction_inputs)\n",
    "    #this is where we ask the user if s/he wants to continue\n",
    "    query = input(\"Would you like to enter the information for another car? \")\n",
    "    while query.lower() not in (\"yes\",\"no\"):\n",
    "        query = input(\"Please enter yes or no only \")"
   ]
  },
  {
   "cell_type": "code",
   "execution_count": 12,
   "metadata": {
    "tags": []
   },
   "outputs": [],
   "source": [
    "# zip all the inputs (zip: create pandas DataFrame from list)\n",
    "data = list(zip(brand,model,price,satisfaction))"
   ]
  },
  {
   "cell_type": "code",
   "execution_count": 15,
   "metadata": {
    "tags": []
   },
   "outputs": [
    {
     "data": {
      "text/plain": [
       "[('nissan', 'sunny', 100000, '4'), ('audi', 'a4', 200000, '5')]"
      ]
     },
     "execution_count": 15,
     "metadata": {},
     "output_type": "execute_result"
    }
   ],
   "source": [
    "data\n"
   ]
  },
  {
   "cell_type": "code",
   "execution_count": 16,
   "metadata": {
    "tags": []
   },
   "outputs": [],
   "source": [
    "# convert into a pandas df and export to csv\n",
    "df = pd.DataFrame(data, columns = ['Brand', 'Model', 'Price', 'Satisfaction'])\n",
    "df.to_csv('car_purchase.csv')"
   ]
  },
  {
   "cell_type": "code",
   "execution_count": 17,
   "metadata": {
    "tags": []
   },
   "outputs": [],
   "source": [
    "car_purchase = pd.read_csv(\"car_purchase.csv\")"
   ]
  },
  {
   "cell_type": "code",
   "execution_count": 18,
   "metadata": {
    "tags": []
   },
   "outputs": [
    {
     "data": {
      "text/html": [
       "<div>\n",
       "<style scoped>\n",
       "    .dataframe tbody tr th:only-of-type {\n",
       "        vertical-align: middle;\n",
       "    }\n",
       "\n",
       "    .dataframe tbody tr th {\n",
       "        vertical-align: top;\n",
       "    }\n",
       "\n",
       "    .dataframe thead th {\n",
       "        text-align: right;\n",
       "    }\n",
       "</style>\n",
       "<table border=\"1\" class=\"dataframe\">\n",
       "  <thead>\n",
       "    <tr style=\"text-align: right;\">\n",
       "      <th></th>\n",
       "      <th>Unnamed: 0</th>\n",
       "      <th>Brand</th>\n",
       "      <th>Model</th>\n",
       "      <th>Price</th>\n",
       "      <th>Satisfaction</th>\n",
       "    </tr>\n",
       "  </thead>\n",
       "  <tbody>\n",
       "    <tr>\n",
       "      <th>0</th>\n",
       "      <td>0</td>\n",
       "      <td>nissan</td>\n",
       "      <td>sunny</td>\n",
       "      <td>100000</td>\n",
       "      <td>4</td>\n",
       "    </tr>\n",
       "    <tr>\n",
       "      <th>1</th>\n",
       "      <td>1</td>\n",
       "      <td>audi</td>\n",
       "      <td>a4</td>\n",
       "      <td>200000</td>\n",
       "      <td>5</td>\n",
       "    </tr>\n",
       "  </tbody>\n",
       "</table>\n",
       "</div>"
      ],
      "text/plain": [
       "   Unnamed: 0   Brand  Model   Price  Satisfaction\n",
       "0           0  nissan  sunny  100000             4\n",
       "1           1    audi     a4  200000             5"
      ]
     },
     "metadata": {},
     "output_type": "display_data"
    }
   ],
   "source": [
    "display(car_purchase)"
   ]
  },
  {
   "cell_type": "markdown",
   "metadata": {},
   "source": [
    "**<font color=blue size=2 face=ARIAL> save to database table </font>**"
   ]
  },
  {
   "cell_type": "code",
   "execution_count": 21,
   "metadata": {
    "tags": []
   },
   "outputs": [
    {
     "data": {
      "text/plain": [
       "2"
      ]
     },
     "execution_count": 21,
     "metadata": {},
     "output_type": "execute_result"
    }
   ],
   "source": [
    "car_purchase.to_sql(\"car_purchase\", con=conn, if_exists='replace')"
   ]
  },
  {
   "cell_type": "code",
   "execution_count": 22,
   "metadata": {
    "tags": []
   },
   "outputs": [
    {
     "data": {
      "text/plain": [
       "[(0, 0, 'nissan', 'sunny', 100000, 4), (1, 1, 'audi', 'a4', 200000, 5)]"
      ]
     },
     "execution_count": 22,
     "metadata": {},
     "output_type": "execute_result"
    }
   ],
   "source": [
    "c.execute('select * from car_purchase').fetchall()"
   ]
  },
  {
   "cell_type": "markdown",
   "metadata": {},
   "source": [
    "**<font color=blue size=2 face=ARIAL> save to database table </font>**"
   ]
  },
  {
   "cell_type": "code",
   "execution_count": 23,
   "metadata": {
    "tags": []
   },
   "outputs": [],
   "source": [
    "car_model = pd.read_csv(\"./car_model.csv\")"
   ]
  },
  {
   "cell_type": "code",
   "execution_count": 25,
   "metadata": {
    "tags": []
   },
   "outputs": [],
   "source": [
    "car_price = pd.read_csv(\"./car_price.csv\")"
   ]
  },
  {
   "cell_type": "code",
   "execution_count": 26,
   "metadata": {
    "tags": []
   },
   "outputs": [
    {
     "data": {
      "text/plain": [
       "240"
      ]
     },
     "execution_count": 26,
     "metadata": {},
     "output_type": "execute_result"
    }
   ],
   "source": [
    "car_model.to_sql(\"car_model\", con=conn, if_exists='replace')"
   ]
  },
  {
   "cell_type": "code",
   "execution_count": 27,
   "metadata": {
    "tags": []
   },
   "outputs": [
    {
     "data": {
      "text/plain": [
       "240"
      ]
     },
     "execution_count": 27,
     "metadata": {},
     "output_type": "execute_result"
    }
   ],
   "source": [
    "car_price.to_sql(\"car_price\", con=conn, if_exists='replace')\n",
    "#End of Activity 1"
   ]
  },
  {
   "cell_type": "markdown",
   "metadata": {},
   "source": [
    "**<font color=blue size=2 face=ARIAL> perform 1st selection </font>**"
   ]
  },
  {
   "cell_type": "code",
   "execution_count": 28,
   "metadata": {
    "tags": []
   },
   "outputs": [],
   "source": [
    "#Define sql sentence\n",
    "sql_query = \"select * from car_price\""
   ]
  },
  {
   "cell_type": "code",
   "execution_count": 29,
   "metadata": {
    "scrolled": true,
    "tags": []
   },
   "outputs": [
    {
     "data": {
      "text/plain": [
       "(0, 2021, 'Acura', 'ILX', None)"
      ]
     },
     "execution_count": 29,
     "metadata": {},
     "output_type": "execute_result"
    }
   ],
   "source": [
    "c.execute(sql_query).fetchone() #c: previous defined cursor object"
   ]
  },
  {
   "cell_type": "code",
   "execution_count": 30,
   "metadata": {
    "tags": []
   },
   "outputs": [
    {
     "data": {
      "text/plain": [
       "(0, 2021, 'Acura', 'ILX', None)"
      ]
     },
     "execution_count": 30,
     "metadata": {},
     "output_type": "execute_result"
    }
   ],
   "source": [
    "c.execute('select * from car_price').fetchone()"
   ]
  },
  {
   "cell_type": "code",
   "execution_count": 31,
   "metadata": {
    "tags": []
   },
   "outputs": [
    {
     "data": {
      "text/plain": [
       "(0, 2021, 'Acura', 'ILX', 'Sedan')"
      ]
     },
     "execution_count": 31,
     "metadata": {},
     "output_type": "execute_result"
    }
   ],
   "source": [
    "c.execute('select * from car_model').fetchone()"
   ]
  },
  {
   "cell_type": "code",
   "execution_count": 32,
   "metadata": {
    "scrolled": true,
    "tags": []
   },
   "outputs": [
    {
     "data": {
      "text/plain": [
       "[(0, 2021, 'Acura', 'ILX', None),\n",
       " (1, 2021, 'Acura', 'RDX', None),\n",
       " (2, 2021, 'Acura', 'TLX', 37500.0),\n",
       " (3, 2021, 'Alfa Romeo', 'Giulia', 40350.0),\n",
       " (4, 2021, 'Alfa Romeo', 'Stelvio', 42350.0)]"
      ]
     },
     "execution_count": 32,
     "metadata": {},
     "output_type": "execute_result"
    }
   ],
   "source": [
    "c.execute('select * from car_price').fetchmany(5)"
   ]
  },
  {
   "cell_type": "code",
   "execution_count": 33,
   "metadata": {
    "tags": []
   },
   "outputs": [
    {
     "data": {
      "text/plain": [
       "[(0, 2021, 'Acura', 'ILX', 'Sedan'),\n",
       " (1, 2021, 'Acura', 'RDX', 'SUV'),\n",
       " (2, 2021, 'Acura', 'TLX', 'Sedan'),\n",
       " (3, 2021, 'Alfa Romeo', 'Giulia', 'Sedan'),\n",
       " (4, 2021, 'Alfa Romeo', 'Stelvio', 'SUV')]"
      ]
     },
     "execution_count": 33,
     "metadata": {},
     "output_type": "execute_result"
    }
   ],
   "source": [
    "c.execute('select * from car_model').fetchmany(5)"
   ]
  },
  {
   "cell_type": "code",
   "execution_count": 34,
   "metadata": {
    "tags": []
   },
   "outputs": [
    {
     "data": {
      "text/plain": [
       "[(0, 2021, 'Acura', 'ILX', 'Sedan'),\n",
       " (1, 2021, 'Acura', 'RDX', 'SUV'),\n",
       " (2, 2021, 'Acura', 'TLX', 'Sedan'),\n",
       " (3, 2021, 'Alfa Romeo', 'Giulia', 'Sedan'),\n",
       " (4, 2021, 'Alfa Romeo', 'Stelvio', 'SUV'),\n",
       " (5, 2021, 'Audi', 'A6 allroad', 'Wagon'),\n",
       " (6, 2021, 'Audi', 'A7', 'Sedan'),\n",
       " (7, 2021, 'Audi', 'Q3', 'SUV'),\n",
       " (8, 2021, 'Audi', 'Q5', 'SUV'),\n",
       " (9, 2021, 'Audi', 'Q8', 'SUV')]"
      ]
     },
     "execution_count": 34,
     "metadata": {},
     "output_type": "execute_result"
    }
   ],
   "source": [
    "c.execute(\"select * from car_model\").fetchmany(10)"
   ]
  },
  {
   "cell_type": "code",
   "execution_count": 35,
   "metadata": {
    "tags": []
   },
   "outputs": [
    {
     "data": {
      "text/html": [
       "<div>\n",
       "<style scoped>\n",
       "    .dataframe tbody tr th:only-of-type {\n",
       "        vertical-align: middle;\n",
       "    }\n",
       "\n",
       "    .dataframe tbody tr th {\n",
       "        vertical-align: top;\n",
       "    }\n",
       "\n",
       "    .dataframe thead th {\n",
       "        text-align: right;\n",
       "    }\n",
       "</style>\n",
       "<table border=\"1\" class=\"dataframe\">\n",
       "  <thead>\n",
       "    <tr style=\"text-align: right;\">\n",
       "      <th></th>\n",
       "      <th>0</th>\n",
       "      <th>1</th>\n",
       "      <th>2</th>\n",
       "      <th>3</th>\n",
       "      <th>4</th>\n",
       "    </tr>\n",
       "  </thead>\n",
       "  <tbody>\n",
       "    <tr>\n",
       "      <th>0</th>\n",
       "      <td>0</td>\n",
       "      <td>2021</td>\n",
       "      <td>Acura</td>\n",
       "      <td>ILX</td>\n",
       "      <td>Sedan</td>\n",
       "    </tr>\n",
       "    <tr>\n",
       "      <th>1</th>\n",
       "      <td>1</td>\n",
       "      <td>2021</td>\n",
       "      <td>Acura</td>\n",
       "      <td>RDX</td>\n",
       "      <td>SUV</td>\n",
       "    </tr>\n",
       "    <tr>\n",
       "      <th>2</th>\n",
       "      <td>2</td>\n",
       "      <td>2021</td>\n",
       "      <td>Acura</td>\n",
       "      <td>TLX</td>\n",
       "      <td>Sedan</td>\n",
       "    </tr>\n",
       "    <tr>\n",
       "      <th>3</th>\n",
       "      <td>3</td>\n",
       "      <td>2021</td>\n",
       "      <td>Alfa Romeo</td>\n",
       "      <td>Giulia</td>\n",
       "      <td>Sedan</td>\n",
       "    </tr>\n",
       "    <tr>\n",
       "      <th>4</th>\n",
       "      <td>4</td>\n",
       "      <td>2021</td>\n",
       "      <td>Alfa Romeo</td>\n",
       "      <td>Stelvio</td>\n",
       "      <td>SUV</td>\n",
       "    </tr>\n",
       "    <tr>\n",
       "      <th>5</th>\n",
       "      <td>5</td>\n",
       "      <td>2021</td>\n",
       "      <td>Audi</td>\n",
       "      <td>A6 allroad</td>\n",
       "      <td>Wagon</td>\n",
       "    </tr>\n",
       "    <tr>\n",
       "      <th>6</th>\n",
       "      <td>6</td>\n",
       "      <td>2021</td>\n",
       "      <td>Audi</td>\n",
       "      <td>A7</td>\n",
       "      <td>Sedan</td>\n",
       "    </tr>\n",
       "    <tr>\n",
       "      <th>7</th>\n",
       "      <td>7</td>\n",
       "      <td>2021</td>\n",
       "      <td>Audi</td>\n",
       "      <td>Q3</td>\n",
       "      <td>SUV</td>\n",
       "    </tr>\n",
       "    <tr>\n",
       "      <th>8</th>\n",
       "      <td>8</td>\n",
       "      <td>2021</td>\n",
       "      <td>Audi</td>\n",
       "      <td>Q5</td>\n",
       "      <td>SUV</td>\n",
       "    </tr>\n",
       "    <tr>\n",
       "      <th>9</th>\n",
       "      <td>9</td>\n",
       "      <td>2021</td>\n",
       "      <td>Audi</td>\n",
       "      <td>Q8</td>\n",
       "      <td>SUV</td>\n",
       "    </tr>\n",
       "  </tbody>\n",
       "</table>\n",
       "</div>"
      ],
      "text/plain": [
       "   0     1           2           3      4\n",
       "0  0  2021       Acura         ILX  Sedan\n",
       "1  1  2021       Acura         RDX    SUV\n",
       "2  2  2021       Acura         TLX  Sedan\n",
       "3  3  2021  Alfa Romeo      Giulia  Sedan\n",
       "4  4  2021  Alfa Romeo     Stelvio    SUV\n",
       "5  5  2021        Audi  A6 allroad  Wagon\n",
       "6  6  2021        Audi          A7  Sedan\n",
       "7  7  2021        Audi          Q3    SUV\n",
       "8  8  2021        Audi          Q5    SUV\n",
       "9  9  2021        Audi          Q8    SUV"
      ]
     },
     "execution_count": 35,
     "metadata": {},
     "output_type": "execute_result"
    }
   ],
   "source": [
    "#Save as dataframe\n",
    "dataframe_example=pd.DataFrame.from_records(data = c.execute(\"select * from car_model\").fetchmany(10))\n",
    "dataframe_example"
   ]
  },
  {
   "cell_type": "markdown",
   "metadata": {},
   "source": [
    "**<font color=green size=3 face=ARIAL> Data Query </font>**"
   ]
  },
  {
   "cell_type": "code",
   "execution_count": 36,
   "metadata": {
    "tags": []
   },
   "outputs": [
    {
     "data": {
      "text/plain": [
       "(('index', None, None, None, None, None, None),\n",
       " ('Year', None, None, None, None, None, None),\n",
       " ('Make', None, None, None, None, None, None),\n",
       " ('Model', None, None, None, None, None, None),\n",
       " ('Category', None, None, None, None, None, None))"
      ]
     },
     "execution_count": 36,
     "metadata": {},
     "output_type": "execute_result"
    }
   ],
   "source": [
    "c.description #c: previous defined cursor object"
   ]
  },
  {
   "cell_type": "code",
   "execution_count": 32,
   "metadata": {},
   "outputs": [
    {
     "data": {
      "text/plain": [
       "[(0, 2021, 'Acura', 'ILX', 'Sedan'),\n",
       " (1, 2021, 'Acura', 'RDX', 'SUV'),\n",
       " (2, 2021, 'Acura', 'TLX', 'Sedan'),\n",
       " (3, 2021, 'Alfa Romeo', 'Giulia', 'Sedan'),\n",
       " (4, 2021, 'Alfa Romeo', 'Stelvio', 'SUV'),\n",
       " (5, 2021, 'Audi', 'A6 allroad', 'Wagon'),\n",
       " (6, 2021, 'Audi', 'A7', 'Sedan'),\n",
       " (7, 2021, 'Audi', 'Q3', 'SUV'),\n",
       " (8, 2021, 'Audi', 'Q5', 'SUV'),\n",
       " (9, 2021, 'Audi', 'Q8', 'SUV')]"
      ]
     },
     "execution_count": 32,
     "metadata": {},
     "output_type": "execute_result"
    }
   ],
   "source": [
    "c.execute(\"select * from car_model WHERE Year = 2021\").fetchmany(10)"
   ]
  },
  {
   "cell_type": "code",
   "execution_count": 33,
   "metadata": {},
   "outputs": [
    {
     "data": {
      "text/plain": [
       "[(7, 2021, 'Audi', 'Q3', 'SUV')]"
      ]
     },
     "execution_count": 33,
     "metadata": {},
     "output_type": "execute_result"
    }
   ],
   "source": [
    "c.execute(\"select * from car_model WHERE Model = 'Q3'\").fetchmany(10)"
   ]
  },
  {
   "cell_type": "code",
   "execution_count": 34,
   "metadata": {},
   "outputs": [
    {
     "data": {
      "text/plain": [
       "[(0, 2021, 'Acura', 'ILX', 'Sedan'),\n",
       " (1, 2021, 'Acura', 'RDX', 'SUV'),\n",
       " (2, 2021, 'Acura', 'TLX', 'Sedan'),\n",
       " (3, 2021, 'Alfa Romeo', 'Giulia', 'Sedan'),\n",
       " (4, 2021, 'Alfa Romeo', 'Stelvio', 'SUV'),\n",
       " (5, 2021, 'Audi', 'A6 allroad', 'Wagon'),\n",
       " (6, 2021, 'Audi', 'A7', 'Sedan'),\n",
       " (7, 2021, 'Audi', 'Q3', 'SUV'),\n",
       " (8, 2021, 'Audi', 'Q5', 'SUV'),\n",
       " (9, 2021, 'Audi', 'Q8', 'SUV')]"
      ]
     },
     "execution_count": 34,
     "metadata": {},
     "output_type": "execute_result"
    }
   ],
   "source": [
    "c.execute(\"select * from car_model ORDER BY Make ASC\").fetchmany(10)"
   ]
  },
  {
   "cell_type": "code",
   "execution_count": 35,
   "metadata": {},
   "outputs": [
    {
     "data": {
      "text/plain": [
       "[(0, 2021, 'Acura', 'ILX', 'Sedan'),\n",
       " (1, 2021, 'Acura', 'RDX', 'SUV'),\n",
       " (2, 2021, 'Acura', 'TLX', 'Sedan'),\n",
       " (3, 2021, 'Alfa Romeo', 'Giulia', 'Sedan'),\n",
       " (4, 2021, 'Alfa Romeo', 'Stelvio', 'SUV'),\n",
       " (5, 2021, 'Audi', 'A6 allroad', 'Wagon'),\n",
       " (6, 2021, 'Audi', 'A7', 'Sedan'),\n",
       " (7, 2021, 'Audi', 'Q3', 'SUV'),\n",
       " (8, 2021, 'Audi', 'Q5', 'SUV'),\n",
       " (9, 2021, 'Audi', 'Q8', 'SUV')]"
      ]
     },
     "execution_count": 35,
     "metadata": {},
     "output_type": "execute_result"
    }
   ],
   "source": [
    "c.execute(\"select * from car_model WHERE Year <> 2020 ORDER BY Make ASC\").fetchmany(10)"
   ]
  },
  {
   "cell_type": "markdown",
   "metadata": {},
   "source": [
    "### Activity 2"
   ]
  },
  {
   "cell_type": "code",
   "execution_count": 36,
   "metadata": {},
   "outputs": [
    {
     "data": {
      "text/plain": [
       "[(0, 2021, 'Acura', 'ILX', 'Sedan'),\n",
       " (1, 2021, 'Acura', 'RDX', 'SUV'),\n",
       " (2, 2021, 'Acura', 'TLX', 'Sedan'),\n",
       " (3, 2021, 'Alfa Romeo', 'Giulia', 'Sedan'),\n",
       " (4, 2021, 'Alfa Romeo', 'Stelvio', 'SUV'),\n",
       " (6, 2021, 'Audi', 'A7', 'Sedan'),\n",
       " (7, 2021, 'Audi', 'Q3', 'SUV'),\n",
       " (8, 2021, 'Audi', 'Q5', 'SUV'),\n",
       " (9, 2021, 'Audi', 'Q8', 'SUV'),\n",
       " (11, 2021, 'Audi', 'S6', 'Sedan')]"
      ]
     },
     "execution_count": 36,
     "metadata": {},
     "output_type": "execute_result"
    }
   ],
   "source": [
    "c.execute(\"select * from car_model WHERE Category = 'Sedan' or Category = 'SUV'\").fetchmany(10)"
   ]
  },
  {
   "cell_type": "code",
   "execution_count": 37,
   "metadata": {},
   "outputs": [
    {
     "data": {
      "text/plain": [
       "[(0, 2021, 'Acura', 'ILX', 'Sedan'),\n",
       " (1, 2021, 'Acura', 'RDX', 'SUV'),\n",
       " (2, 2021, 'Acura', 'TLX', 'Sedan'),\n",
       " (3, 2021, 'Alfa Romeo', 'Giulia', 'Sedan'),\n",
       " (4, 2021, 'Alfa Romeo', 'Stelvio', 'SUV'),\n",
       " (6, 2021, 'Audi', 'A7', 'Sedan'),\n",
       " (7, 2021, 'Audi', 'Q3', 'SUV'),\n",
       " (8, 2021, 'Audi', 'Q5', 'SUV'),\n",
       " (9, 2021, 'Audi', 'Q8', 'SUV'),\n",
       " (11, 2021, 'Audi', 'S6', 'Sedan')]"
      ]
     },
     "execution_count": 37,
     "metadata": {},
     "output_type": "execute_result"
    }
   ],
   "source": [
    "c.execute(\"select * from car_model WHERE Category in ('Sedan','SUV')\").fetchmany(10)"
   ]
  },
  {
   "cell_type": "code",
   "execution_count": 38,
   "metadata": {},
   "outputs": [
    {
     "data": {
      "text/plain": [
       "[(5, 2021, 'Audi', 'A6 allroad', 65900.0),\n",
       " (6, 2021, 'Audi', 'A7', 69200.0),\n",
       " (9, 2021, 'Audi', 'Q8', 68200.0),\n",
       " (10, 2021, 'Audi', 'S5', 52500.0),\n",
       " (11, 2021, 'Audi', 'S6', 74400.0),\n",
       " (15, 2021, 'BMW', 'X5', 59400.0),\n",
       " (16, 2021, 'BMW', 'X7', 74900.0),\n",
       " (23, 2021, 'Cadillac', 'Escalade', 76195.0),\n",
       " (24, 2021, 'Cadillac', 'Escalade ESV', 79195.0),\n",
       " (33, 2021, 'Chevrolet', 'Corvette', 59900.0)]"
      ]
     },
     "execution_count": 38,
     "metadata": {},
     "output_type": "execute_result"
    }
   ],
   "source": [
    "c.execute(\"select * from car_price WHERE Price >=50000\").fetchmany(10)"
   ]
  },
  {
   "cell_type": "code",
   "execution_count": 39,
   "metadata": {},
   "outputs": [
    {
     "data": {
      "text/plain": [
       "[]"
      ]
     },
     "execution_count": 39,
     "metadata": {},
     "output_type": "execute_result"
    }
   ],
   "source": [
    "c.execute(\"select * from car_purchase where Satisfaction = 1\").fetchall()"
   ]
  },
  {
   "cell_type": "markdown",
   "metadata": {},
   "source": [
    "### Activity 3"
   ]
  },
  {
   "cell_type": "code",
   "execution_count": 40,
   "metadata": {},
   "outputs": [],
   "source": [
    "sql_query = \"select * from car_price NATURAL JOIN car_model\""
   ]
  },
  {
   "cell_type": "code",
   "execution_count": 41,
   "metadata": {
    "scrolled": true
   },
   "outputs": [
    {
     "name": "stdout",
     "output_type": "stream",
     "text": [
      "[(0, 2021, 'Acura', 'ILX', None, 'Sedan'), (1, 2021, 'Acura', 'RDX', None, 'SUV'), (2, 2021, 'Acura', 'TLX', 37500.0, 'Sedan')]\n"
     ]
    }
   ],
   "source": [
    "print(c.execute(sql_query).fetchmany(3))"
   ]
  },
  {
   "cell_type": "code",
   "execution_count": 42,
   "metadata": {},
   "outputs": [],
   "source": [
    "#Commit all the changes of the tables to the physical files of the database.\n",
    "conn.commit()\n",
    "conn.close()"
   ]
  },
  {
   "cell_type": "code",
   "execution_count": null,
   "metadata": {},
   "outputs": [],
   "source": []
  }
 ],
 "metadata": {
  "kernelspec": {
   "display_name": "Python 3 (ipykernel)",
   "language": "python",
   "name": "python3"
  },
  "language_info": {
   "codemirror_mode": {
    "name": "ipython",
    "version": 3
   },
   "file_extension": ".py",
   "mimetype": "text/x-python",
   "name": "python",
   "nbconvert_exporter": "python",
   "pygments_lexer": "ipython3",
   "version": "3.9.12"
  }
 },
 "nbformat": 4,
 "nbformat_minor": 4
}
