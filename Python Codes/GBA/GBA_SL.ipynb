{
 "cells": [
  {
   "cell_type": "markdown",
   "id": "62196553-eb0e-4022-92b4-21843329d7d1",
   "metadata": {},
   "source": [
    "### a) State and discuss how to read the dataset with Python and identify the dimensions of the dataset with Python"
   ]
  },
  {
   "cell_type": "code",
   "execution_count": null,
   "id": "afa3b069-5060-494d-84a3-a3db644b6d0d",
   "metadata": {},
   "outputs": [],
   "source": [
    "import pandas as pd\n",
    "import numpy as np\n",
    "import matplotlib.pyplot as plt\n",
    "\n",
    "hdb_df = pd.read_csv(\"GBA_HDB.csv\")\n",
    "display(hdb_df) \n"
   ]
  },
  {
   "cell_type": "code",
   "execution_count": null,
   "id": "ee1dbcd1-530e-4b51-be96-3a8822bb0a81",
   "metadata": {},
   "outputs": [],
   "source": [
    "hdb_df.shape"
   ]
  },
  {
   "cell_type": "markdown",
   "id": "e4c9e3d6-7dc5-4323-82d8-74a2dbccb43f",
   "metadata": {},
   "source": [
    "### b) Identify the variables with missing values using Python and discuss why it is necessary to handle missing values"
   ]
  },
  {
   "cell_type": "code",
   "execution_count": null,
   "id": "0d7eda39-e15e-4bc9-9322-0900ee9a14b0",
   "metadata": {},
   "outputs": [],
   "source": [
    "missing_hdb_df = pd.read_csv(\"GBA_HDB.csv\", na_filter = True)\n",
    "missing_hdb_df.isnull().sum(axis=0) \n"
   ]
  },
  {
   "cell_type": "markdown",
   "id": "6fc18e51-43ac-4e25-af5c-47360a77f706",
   "metadata": {},
   "source": [
    "### c) Propose ways to treat the missing data with Python and explain rationale(s) of the treatment(s)"
   ]
  },
  {
   "cell_type": "code",
   "execution_count": null,
   "id": "2ecf6a7c-f437-460b-b9e8-c7a774c0735c",
   "metadata": {},
   "outputs": [],
   "source": [
    "# Drop 1 missing value for street_name field \n",
    "# clean1 = missing_hdb_df.dropna(subset=[\"street_name\"])\n",
    "# clean1\n",
    "\n",
    "clean1 = missing_hdb_df.drop(['street_name'], axis=1)\n",
    "display(clean1)"
   ]
  },
  {
   "cell_type": "code",
   "execution_count": null,
   "id": "8d69a5e2-b68a-4796-9dd9-131c81320381",
   "metadata": {},
   "outputs": [],
   "source": [
    "clean1.isnull().sum()"
   ]
  },
  {
   "cell_type": "markdown",
   "id": "0831d9cb-c175-49db-abfe-35fcb3ed1dd6",
   "metadata": {},
   "source": [
    "### fill the flat type using highest occuring flat type according to floor area sqm "
   ]
  },
  {
   "cell_type": "code",
   "execution_count": null,
   "id": "7f81dc4d-ecaa-42cd-a4c0-d999be001cc2",
   "metadata": {},
   "outputs": [],
   "source": [
    "clean2 = pd.DataFrame(clean1)\n",
    "clean2['flat_type'] = clean1.groupby(['floor_area_sqm'])['flat_type'].transform(lambda x: x.fillna(x.mode().iloc[0]))\n",
    "\n",
    "\n",
    "display(clean2)"
   ]
  },
  {
   "cell_type": "code",
   "execution_count": null,
   "id": "cdfedd6a-5afd-42e6-8a6c-8a971013c154",
   "metadata": {
    "tags": []
   },
   "outputs": [],
   "source": [
    "# ensure missing flat types are filled\n",
    "clean2.isnull().sum()"
   ]
  },
  {
   "cell_type": "markdown",
   "id": "17d17cd6-a875-4558-b4be-1750c5236f44",
   "metadata": {},
   "source": [
    "### fill the missing resale price using mean of each flat type "
   ]
  },
  {
   "cell_type": "code",
   "execution_count": null,
   "id": "a3095724-32d3-4dc4-b2e2-72be6f7173ce",
   "metadata": {},
   "outputs": [],
   "source": [
    "# Calculate the mean resale price for each flat type\n",
    "mean_prices = clean2.groupby('flat_type')['resale_price'].transform('mean')\n",
    "\n",
    "# Fill missing resale price values using the calculated means\n",
    "clean2['resale_price'].fillna(mean_prices, inplace=True)\n",
    "\n",
    "# Print the updated DataFrame\n",
    "display(clean2)"
   ]
  },
  {
   "cell_type": "code",
   "execution_count": null,
   "id": "6da7702c-8369-41ff-a6b4-e28057a5b31a",
   "metadata": {},
   "outputs": [],
   "source": [
    "clean2.isnull().sum()"
   ]
  },
  {
   "cell_type": "markdown",
   "id": "0393bd9a-a142-47b3-90e5-961450721e75",
   "metadata": {},
   "source": [
    "## Plotting graphs "
   ]
  },
  {
   "cell_type": "code",
   "execution_count": null,
   "id": "d3a42c26-906c-429c-9b66-b3dd1ceeb176",
   "metadata": {},
   "outputs": [],
   "source": [
    "price_sqm = clean2[[\"resale_price\", \"floor_area_sqm\"]]\n",
    "display(price_sqm)"
   ]
  },
  {
   "cell_type": "code",
   "execution_count": null,
   "id": "c5096220-ad5c-4d47-b0df-b656f94f7fbb",
   "metadata": {},
   "outputs": [],
   "source": [
    "plt.scatter(price_sqm[\"floor_area_sqm\"], price_sqm[\"resale_price\"], \n",
    "            color = \"red\", marker = \"^\", \n",
    "            alpha = 0.3, edgecolors = \"face\",\n",
    "            s = 60)\n",
    "\n",
    "plt.xlabel(\"Floor area (SQM)\")\n",
    "plt.ylabel(\"Resale Price\")\n",
    "plt.title(\"Scatter Plot of Floor area (SQM) and Resale Price\")\n",
    "plt.show()"
   ]
  },
  {
   "cell_type": "code",
   "execution_count": null,
   "id": "be8858bb-3e7b-499c-b12a-fced7071cc2a",
   "metadata": {},
   "outputs": [],
   "source": [
    "# mean of resale price for the diff town\n",
    "\n",
    "mean_price_town = clean2.groupby('town')['resale_price'].mean().reset_index()\n",
    "display(mean_price_town)\n",
    "\n",
    "plt.barh(mean_price_town[\"town\"], \n",
    "        mean_price_town[\"resale_price\"], \n",
    "        color ='green')\n",
    " \n",
    "plt.xlabel(\"Mean values of resale price\")\n",
    "plt.xticks(fontsize=8)\n",
    "plt.ylabel(\"Town\")\n",
    "plt.yticks(fontsize=8)\n",
    "plt.tight_layout()\n",
    "plt.title(\"Mean of resale price of different towns\")\n",
    "           \n",
    "plt.show()"
   ]
  },
  {
   "cell_type": "code",
   "execution_count": null,
   "id": "4f487902-a2f9-4814-b579-3a9704a188bd",
   "metadata": {},
   "outputs": [],
   "source": [
    "count_flat_type = clean2['flat_type'].value_counts().reset_index()\n",
    "count_flat_type.columns = ['flat_type', 'count']\n",
    "display(count_flat_type)\n"
   ]
  },
  {
   "cell_type": "code",
   "execution_count": null,
   "id": "5efefb82-81af-48cb-9ec4-55ce8a3c3bab",
   "metadata": {},
   "outputs": [],
   "source": [
    "# Table for flat type and count of each flat type\n",
    "count_flat_type = clean2['flat_type'].value_counts().reset_index()\n",
    "count_flat_type.columns = ['flat_type', 'count']\n",
    "display(count_flat_type)\n"
   ]
  },
  {
   "cell_type": "code",
   "execution_count": null,
   "id": "d16f6d16-dea4-4280-821f-8a0555c47722",
   "metadata": {},
   "outputs": [],
   "source": [
    "# mean of resale price for the diff town\n",
    "\n",
    "mean_flat = clean2.groupby('flat_type')['resale_price'].mean().reset_index()\n",
    "display(mean_flat)\n",
    "\n",
    "plt.barh(mean_mean_flat[\"flat_Type\"], \n",
    "        mean_flat[\"resale_price\"], \n",
    "        color ='green')\n",
    " \n",
    "plt.xlabel(\"Mean values of resale price\")\n",
    "plt.xticks(fontsize=8)\n",
    "plt.ylabel(\"Town\")\n",
    "plt.yticks(fontsize=8)\n",
    "plt.tight_layout()\n",
    "plt.title(\"Mean of resale price of flat type\")\n",
    "           \n",
    "plt.show()"
   ]
  },
  {
   "cell_type": "code",
   "execution_count": null,
   "id": "fce19d62-a5b4-44aa-a9ba-657824f3d4da",
   "metadata": {},
   "outputs": [],
   "source": [
    "\"' Select duplicate rows of all columns\n",
    "df2 = missing_hdb_df[missing_hdb_df.duplicated()]\n",
    "display(df2) \"'"
   ]
  },
  {
   "cell_type": "code",
   "execution_count": null,
   "id": "b4693ccd-8fce-4e5d-b96b-09574b5e4439",
   "metadata": {},
   "outputs": [],
   "source": [
    "# mean of resale price for the diff town\n",
    "\n",
    "mean_flat = clean2.groupby('flat_type')['resale_price'].mean().reset_index()\n",
    "display(mean_flat)\n",
    "\n",
    "plt.barh(mean_flat[\"flat_type\"], \n",
    "        mean_flat[\"resale_price\"], \n",
    "        color ='green')\n",
    " \n",
    "plt.xlabel(\"Mean values of resale price\")\n",
    "plt.xticks(fontsize=8)\n",
    "plt.ylabel(\"Town\")\n",
    "plt.yticks(fontsize=8)\n",
    "plt.tight_layout()\n",
    "plt.title(\"Mean of resale price of flat type\")\n",
    "           \n",
    "plt.show()"
   ]
  },
  {
   "cell_type": "code",
   "execution_count": null,
   "id": "134faf87-612a-434d-871f-0024743ab549",
   "metadata": {},
   "outputs": [],
   "source": [
    "plt.figure(figsize=(20, 6))\n",
    "clean2.boxplot(column='resale_price', by='flat_type')\n",
    "plt.title('Resale Price Distribution by Storey Range')\n",
    "plt.xlabel('Flat Type')\n",
    "plt.ylabel('Resale Price')\n",
    "plt.xticks(rotation=45)\n",
    "plt.show()"
   ]
  }
 ],
 "metadata": {
  "kernelspec": {
   "display_name": "Python 3 (ipykernel)",
   "language": "python",
   "name": "python3"
  },
  "language_info": {
   "codemirror_mode": {
    "name": "ipython",
    "version": 3
   },
   "file_extension": ".py",
   "mimetype": "text/x-python",
   "name": "python",
   "nbconvert_exporter": "python",
   "pygments_lexer": "ipython3",
   "version": "3.9.12"
  }
 },
 "nbformat": 4,
 "nbformat_minor": 5
}
