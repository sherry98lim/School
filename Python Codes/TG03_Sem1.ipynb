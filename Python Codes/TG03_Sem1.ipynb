{
 "cells": [
  {
   "cell_type": "markdown",
   "id": "ef0009c8-0e83-49c3-9d79-430d136977d7",
   "metadata": {},
   "source": [
    "<h2>This is my first Python Program!  Hey, not too bad ....  add more things here</h2>\n",
    "\n",
    "- the above is done using HTML <h2></h2>"
   ]
  },
  {
   "cell_type": "markdown",
   "id": "5fa315af-5bb4-4fa2-a17e-eba24ce6b85f",
   "metadata": {
    "tags": []
   },
   "source": [
    "- the following is done using Markdown - see https://www.markdownguide.org/cheat-sheet/ for details of Markdown \n",
    "\n",
    "# This is big\n",
    "## This is smaller\n",
    "### This is smallest\n",
    "\n",
    "this is my **list**\n",
    "- list 1\n",
    "- item 2\n",
    "- item 3"
   ]
  },
  {
   "cell_type": "code",
   "execution_count": 1,
   "id": "c32ad7f2-fd79-458d-8285-345cd6d17f3f",
   "metadata": {
    "tags": []
   },
   "outputs": [
    {
     "name": "stdout",
     "output_type": "stream",
     "text": [
      "this is TG03\n"
     ]
    }
   ],
   "source": [
    "print(\"this is TG03\")"
   ]
  },
  {
   "cell_type": "code",
   "execution_count": 2,
   "id": "9471a5d8-7816-44aa-8115-662bd1d0845b",
   "metadata": {
    "tags": []
   },
   "outputs": [
    {
     "name": "stdout",
     "output_type": "stream",
     "text": [
      "HallO!  Chinlock\n",
      "I love python!\n",
      "Python is fun!\n"
     ]
    }
   ],
   "source": [
    "print(\"HallO!  Chinlock\")\n",
    "print(\"I love python!\")\n",
    "print(\"Python is fun!\")"
   ]
  },
  {
   "cell_type": "markdown",
   "id": "4b910bc0-7637-467d-b5e7-3d0baf8b4304",
   "metadata": {},
   "source": [
    "## Evaluation within Formatted printing"
   ]
  },
  {
   "cell_type": "code",
   "execution_count": 3,
   "id": "9334c88a-9dc5-401d-9243-9c59a65135b1",
   "metadata": {},
   "outputs": [
    {
     "name": "stdout",
     "output_type": "stream",
     "text": [
      "The value of 2 * (3 - 1.5**2) =  1.5  \n"
     ]
    }
   ],
   "source": [
    "print(f\"The value of 2 * (3 - 1.5**2) =  {2 * (3 - 1.5**2)}  \")"
   ]
  },
  {
   "cell_type": "code",
   "execution_count": 4,
   "id": "d59b8d9a-a9b8-451a-af5d-d68ba66cf33c",
   "metadata": {},
   "outputs": [
    {
     "name": "stdout",
     "output_type": "stream",
     "text": [
      "  2   \n",
      "  1+1     \n"
     ]
    }
   ],
   "source": [
    "# a simpler example to show the difference - expressions within {} will be evaluated\n",
    "# first before printing\n",
    "\n",
    "print(f\"  {1+1}   \")\n",
    "print(f\"  1+1     \")"
   ]
  },
  {
   "cell_type": "markdown",
   "id": "362be64c-797e-408c-befa-436f11c48484",
   "metadata": {},
   "source": [
    "## Using Math Library to extend python built-in math functions"
   ]
  },
  {
   "cell_type": "code",
   "execution_count": 5,
   "id": "29c060a0-042d-416c-bf93-15185d50bef6",
   "metadata": {},
   "outputs": [
    {
     "name": "stdout",
     "output_type": "stream",
     "text": [
      "16.0\n",
      "16.0\n"
     ]
    }
   ],
   "source": [
    "import math\n",
    "\n",
    "print( math.log2(65536) )\n",
    "print( math.log(65536, 2) )"
   ]
  },
  {
   "cell_type": "code",
   "execution_count": 6,
   "id": "dac1b98a-bb6a-49d8-848d-c5b3a7f23c28",
   "metadata": {},
   "outputs": [
    {
     "name": "stdout",
     "output_type": "stream",
     "text": [
      "2\n"
     ]
    }
   ],
   "source": [
    "# calculate 1+1 and store the result in a variable called mycal\n",
    "mycal = 1+1\n",
    "\n",
    "print(mycal)\n",
    "\n",
    "# note that mycal will stay in the memory of the kernel until you restart the kernel\n",
    "# hence when coding - do be careful since jupyter allows jumping of cells"
   ]
  },
  {
   "cell_type": "code",
   "execution_count": 7,
   "id": "49bf0c45-5adf-4b89-9565-0bf7fac73d0d",
   "metadata": {},
   "outputs": [
    {
     "name": "stdout",
     "output_type": "stream",
     "text": [
      "20\n"
     ]
    }
   ],
   "source": [
    "i = mycal\n",
    "_b = i*10\n",
    "print(_b)\n",
    "\n",
    "# 1b is an invalid variable name\n",
    "#1b = _b + 15  # uncomment to see the syntax error"
   ]
  },
  {
   "cell_type": "code",
   "execution_count": 8,
   "id": "43276923-3aac-493c-93e4-5204372ce215",
   "metadata": {},
   "outputs": [],
   "source": [
    "\n",
    "a = \"This is my name\"\n",
    "b = 100.0\n",
    "c = 3.14\n",
    "d = True\n"
   ]
  },
  {
   "cell_type": "code",
   "execution_count": 9,
   "id": "051ef658-e807-43eb-923f-016ec6f546c7",
   "metadata": {},
   "outputs": [
    {
     "name": "stdout",
     "output_type": "stream",
     "text": [
      "<class 'str'> <class 'float'> <class 'float'> <class 'bool'>\n"
     ]
    }
   ],
   "source": [
    "print( type(a), type(b), type(c), type(d) )\n"
   ]
  },
  {
   "cell_type": "code",
   "execution_count": 10,
   "id": "5733e19c-39db-464a-a6e0-674c301ea2a0",
   "metadata": {},
   "outputs": [
    {
     "name": "stdout",
     "output_type": "stream",
     "text": [
      "My calculation results in 13.125\n"
     ]
    }
   ],
   "source": [
    "# Calcuating the mathematical expression and store in a var\n",
    "myAns = (0.5 + 13 * 2**2) / 4 \n",
    "\n",
    "# Use formatted printing to show the result\n",
    "print(f\"My calculation results in {myAns}\")\n"
   ]
  },
  {
   "cell_type": "markdown",
   "id": "6dcad83a-8d2e-44fc-8689-742e0334ca03",
   "metadata": {
    "tags": []
   },
   "source": [
    "## Other Formatted Printing Examples"
   ]
  },
  {
   "cell_type": "code",
   "execution_count": 11,
   "id": "edb8231d-858e-4702-b42b-c7995cac1a8d",
   "metadata": {},
   "outputs": [
    {
     "name": "stdout",
     "output_type": "stream",
     "text": [
      "1st calculation 2 and 2nd calculation <class 'float'>, last 13.125\n"
     ]
    }
   ],
   "source": [
    "print(f\"1st calculation {1+1} and 2nd calculation {type(b)}, last {myAns}\")"
   ]
  },
  {
   "cell_type": "code",
   "execution_count": 12,
   "id": "1fb1e256-1a9a-41fa-8e4b-9a78b03f17b3",
   "metadata": {},
   "outputs": [
    {
     "name": "stdout",
     "output_type": "stream",
     "text": [
      "1st calculation 2 and 2nd calculation <class 'float'>, last 13.125\n"
     ]
    }
   ],
   "source": [
    "# the other way to do formatted printing\n",
    "print(\"1st calculation {} and 2nd calculation {}, last {}\".format(1+1, type(b), myAns)) "
   ]
  },
  {
   "cell_type": "markdown",
   "id": "5bdc0185-eeed-4898-ab1a-d8b16209faf3",
   "metadata": {},
   "source": [
    "## Escape Sequences"
   ]
  },
  {
   "cell_type": "code",
   "execution_count": 13,
   "id": "c930b6a3-a930-4a6e-bfbd-c0f140a36450",
   "metadata": {},
   "outputs": [
    {
     "name": "stdout",
     "output_type": "stream",
     "text": [
      "first line \n",
      "\tsecon line\n"
     ]
    }
   ],
   "source": [
    "print(\"first line \\n\\tsecond\\b line\")"
   ]
  },
  {
   "cell_type": "code",
   "execution_count": 14,
   "id": "c2dbc190-7e69-494c-ac7c-ec8ccd051b12",
   "metadata": {},
   "outputs": [
    {
     "name": "stdout",
     "output_type": "stream",
     "text": [
      " \"My name is chinlock\"  \n"
     ]
    }
   ],
   "source": [
    "print(\" \\\"My name is chinlock\\\"  \")"
   ]
  },
  {
   "cell_type": "code",
   "execution_count": 15,
   "id": "4d19e356-51b5-497e-954f-7b95de60155e",
   "metadata": {},
   "outputs": [
    {
     "name": "stdout",
     "output_type": "stream",
     "text": [
      "  \"My name is chinlock\"  \n"
     ]
    }
   ],
   "source": [
    "print('  \"My name is chinlock\"  ')"
   ]
  },
  {
   "cell_type": "code",
   "execution_count": 16,
   "id": "18b45f5e-c6fb-4c07-a3bb-4b4ed0f5fa35",
   "metadata": {},
   "outputs": [
    {
     "name": "stdout",
     "output_type": "stream",
     "text": [
      "\"\n",
      "\"\n",
      "\\\n"
     ]
    }
   ],
   "source": [
    "print(\"\\\"\")\n",
    "print('\"')\n",
    "print(\"\\\\\")"
   ]
  },
  {
   "cell_type": "markdown",
   "id": "85f28240-a0c5-4b96-a72e-067249d970ab",
   "metadata": {},
   "source": [
    "## Input"
   ]
  },
  {
   "cell_type": "code",
   "execution_count": 17,
   "id": "530510fc-2ecd-4c3b-bda1-9d2c1d5148e1",
   "metadata": {},
   "outputs": [
    {
     "name": "stdin",
     "output_type": "stream",
     "text": [
      "Select a number between 1 and 10 10\n"
     ]
    },
    {
     "name": "stdout",
     "output_type": "stream",
     "text": [
      "10\n"
     ]
    }
   ],
   "source": [
    "myChoice = input(\"Select a number between 1 and 10\")\n",
    "print( myChoice )"
   ]
  },
  {
   "cell_type": "code",
   "execution_count": 18,
   "id": "030c0ce9-2b97-49c8-bb4d-a74c9c7cf69d",
   "metadata": {},
   "outputs": [
    {
     "name": "stdin",
     "output_type": "stream",
     "text": [
      "Select a number between 1 and 10 12\n"
     ]
    },
    {
     "name": "stdout",
     "output_type": "stream",
     "text": [
      "12\n",
      "Your choice is = 12\n",
      "Please enter a choice between 1 and 10\n"
     ]
    }
   ],
   "source": [
    "myChoice = int(input(\"Select a number between 1 and 10\"))\n",
    "print( myChoice )\n",
    "\n",
    "# check if user entered a number between 1 and 10\n",
    "#   add your code here\n",
    "\n",
    "if (myChoice >=1) and (myChoice <=10): \n",
    "    print(f\"Your choice is = {myChoice}\")\n",
    "    print(\"No errors!\")\n",
    "else:\n",
    "    print(f\"Your choice is = {myChoice}\")\n",
    "    print(\"Please enter a choice between 1 and 10\")\n"
   ]
  },
  {
   "cell_type": "code",
   "execution_count": 19,
   "id": "7da9608d-3247-41d0-8540-1dfa3f58c551",
   "metadata": {},
   "outputs": [
    {
     "name": "stdin",
     "output_type": "stream",
     "text": [
      "What kind pet do you have? cat\n"
     ]
    },
    {
     "name": "stdout",
     "output_type": "stream",
     "text": [
      "meow meow\n"
     ]
    }
   ],
   "source": [
    "# Exercise\n",
    "\n",
    "myPet = input(\"What kind pet do you have?\")\n",
    "\n",
    "# check if user entered : \"cat\", \"dog\", \"rabbit\"  hint use ==\n",
    "# if \"cat\" say \"meow meow\"\n",
    "# else \"dog\" say \"woof woof\"\n",
    "# else \"rabit\" say \"roar!\"\n",
    "# else anything else say \"you are strange!\"\n",
    "\n",
    "if (myPet == \"cat\"):\n",
    "    print(\"meow meow\")\n",
    "elif (myPet == \"dog\"):\n",
    "    print(\"woof woof\")\n",
    "elif (myPet == \"rabbit\"):\n",
    "    print(\"roar!\")\n",
    "else:\n",
    "    print(\"You're strange!\")\n",
    "    \n",
    "# how do you deal with different cases that user may enter in?\n",
    "# e.g. Cat, cat, CAT"
   ]
  },
  {
   "cell_type": "markdown",
   "id": "419a6b63-e264-4a37-8e01-3a44e7ab6db2",
   "metadata": {},
   "source": [
    "## Loops!"
   ]
  },
  {
   "cell_type": "code",
   "execution_count": 20,
   "id": "69dbbb11-5ec5-43c2-b87f-f08477516154",
   "metadata": {},
   "outputs": [
    {
     "name": "stdout",
     "output_type": "stream",
     "text": [
      "1\n",
      "2\n",
      "3\n",
      "4\n",
      "5\n"
     ]
    }
   ],
   "source": [
    "i = 1  # started with i =1\n",
    "\n",
    "while (i<6):  # check if i < 6\n",
    "    print(i)  # print the value of i\n",
    "    #i+=1      # increment i by 1\n",
    "    i = i + 1\n"
   ]
  },
  {
   "cell_type": "code",
   "execution_count": 21,
   "id": "60e9389b-5d94-4f32-b93f-b241e9f908db",
   "metadata": {},
   "outputs": [
    {
     "name": "stdout",
     "output_type": "stream",
     "text": [
      "1\n",
      "2\n",
      "3\n",
      "4\n",
      "5\n",
      "--------------------------------------------------------------------------------\n",
      "1\n",
      "3\n",
      "5\n"
     ]
    }
   ],
   "source": [
    "for i in range(1,6):\n",
    "    print(i)\n",
    "\n",
    "print(\"-\"*80)  # this is a convenient way to draw a line across of 80 dashes\n",
    "\n",
    "for i in range(1,6,2):\n",
    "    print(i)"
   ]
  },
  {
   "cell_type": "code",
   "execution_count": 22,
   "id": "50d410ff-bc70-43da-b962-01ec09df1dd4",
   "metadata": {},
   "outputs": [],
   "source": [
    "# this is a python list\n",
    "myPetList = [ \"dog\", \"cat\", \"rabbit\", \"my sister\", \"others\"  ]"
   ]
  },
  {
   "cell_type": "code",
   "execution_count": 23,
   "id": "c1bbb0dd-ffb0-4dc8-9519-2d37de841209",
   "metadata": {},
   "outputs": [
    {
     "name": "stdout",
     "output_type": "stream",
     "text": [
      "dog\n",
      "cat\n",
      "rabbit\n",
      "my sister\n",
      "others\n"
     ]
    }
   ],
   "source": [
    "# loop through items in a list\n",
    "for mypet in myPetList:\n",
    "    print(mypet)"
   ]
  },
  {
   "cell_type": "markdown",
   "id": "ce2d16e0-826b-4e45-89ad-70d3f4aa29b7",
   "metadata": {},
   "source": [
    "## Error Trapping"
   ]
  },
  {
   "cell_type": "code",
   "execution_count": 24,
   "id": "7e32f26d-da8e-4c57-93e2-b5be55c254e0",
   "metadata": {},
   "outputs": [
    {
     "name": "stdin",
     "output_type": "stream",
     "text": [
      "Enter your choice 1 to 10: e\n"
     ]
    },
    {
     "name": "stdout",
     "output_type": "stream",
     "text": [
      "ValueError:  Please try again\n",
      "Thanks for trying my program!\n"
     ]
    }
   ],
   "source": [
    "\n",
    "try:\n",
    "    myChoice = int(input(\"Enter your choice 1 to 10:\"))\n",
    "except ValueError:\n",
    "    print(\"ValueError:  Please try again\")\n",
    "else:  # for all other cases, this part will be executed\n",
    "    print(\"Phew, i escaped a crash!\")\n",
    "finally:   # and this will be executed regardless of any exceptions or not\n",
    "    print(\"Thanks for trying my program!\")\n",
    "    \n",
    "\n"
   ]
  },
  {
   "cell_type": "markdown",
   "id": "369f8cf3-8b7c-49ae-a325-e8a646d6e6fd",
   "metadata": {},
   "source": [
    "## Learn to read the Error Messages by Python\n",
    "- Turn on Line numbers\n",
    "- Try to decypher what the error messages say\n",
    "- Python does point out the line number and approximate location of the error\n",
    "- Sometimes the error can be from the code statement just above or below\n"
   ]
  },
  {
   "cell_type": "code",
   "execution_count": 25,
   "id": "cfb3b3c8-21c7-49a6-b9c1-16b181d7c90e",
   "metadata": {},
   "outputs": [
    {
     "ename": "SyntaxError",
     "evalue": "expected ':' (1481868633.py, line 1)",
     "output_type": "error",
     "traceback": [
      "\u001b[1;36m  Cell \u001b[1;32mIn[25], line 1\u001b[1;36m\u001b[0m\n\u001b[1;33m    for i in range(1,10)\u001b[0m\n\u001b[1;37m                        ^\u001b[0m\n\u001b[1;31mSyntaxError\u001b[0m\u001b[1;31m:\u001b[0m expected ':'\n"
     ]
    }
   ],
   "source": [
    "for i in range(1,10)\n",
    "    print(i)"
   ]
  },
  {
   "cell_type": "markdown",
   "id": "f558b011-8630-4f04-8904-10d845785c64",
   "metadata": {},
   "source": [
    "- in the above example - python points out it is line 1\n",
    "- and has an ^ to point to where the \":\" is expected\n"
   ]
  }
 ],
 "metadata": {
  "kernelspec": {
   "display_name": "Python 3 (ipykernel)",
   "language": "python",
   "name": "python3"
  },
  "language_info": {
   "codemirror_mode": {
    "name": "ipython",
    "version": 3
   },
   "file_extension": ".py",
   "mimetype": "text/x-python",
   "name": "python",
   "nbconvert_exporter": "python",
   "pygments_lexer": "ipython3",
   "version": "3.9.12"
  }
 },
 "nbformat": 4,
 "nbformat_minor": 5
}
