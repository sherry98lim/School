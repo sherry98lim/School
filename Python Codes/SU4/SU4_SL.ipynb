{
 "cells": [
  {
   "cell_type": "markdown",
   "id": "108aa3cf-1536-445b-8a0b-3ff0ca7a6073",
   "metadata": {},
   "source": [
    "# SU4"
   ]
  },
  {
   "cell_type": "markdown",
   "id": "93805338-2923-49fe-a183-b1e471b1117f",
   "metadata": {},
   "source": [
    "## Import Data"
   ]
  },
  {
   "cell_type": "code",
   "execution_count": 1,
   "id": "af52ba84-c172-4219-80bb-65144ffeee86",
   "metadata": {},
   "outputs": [],
   "source": [
    "import pandas as pd"
   ]
  },
  {
   "cell_type": "code",
   "execution_count": 2,
   "id": "cd2963a5-31ab-40c5-8dba-ad5fea2e0a0a",
   "metadata": {},
   "outputs": [
    {
     "data": {
      "text/html": [
       "<div>\n",
       "<style scoped>\n",
       "    .dataframe tbody tr th:only-of-type {\n",
       "        vertical-align: middle;\n",
       "    }\n",
       "\n",
       "    .dataframe tbody tr th {\n",
       "        vertical-align: top;\n",
       "    }\n",
       "\n",
       "    .dataframe thead th {\n",
       "        text-align: right;\n",
       "    }\n",
       "</style>\n",
       "<table border=\"1\" class=\"dataframe\">\n",
       "  <thead>\n",
       "    <tr style=\"text-align: right;\">\n",
       "      <th></th>\n",
       "      <th>Fruits</th>\n",
       "      <th>Prices</th>\n",
       "      <th>Country</th>\n",
       "    </tr>\n",
       "  </thead>\n",
       "  <tbody>\n",
       "    <tr>\n",
       "      <th>0</th>\n",
       "      <td>Apple</td>\n",
       "      <td>1.2</td>\n",
       "      <td>Africa</td>\n",
       "    </tr>\n",
       "    <tr>\n",
       "      <th>1</th>\n",
       "      <td>Orange</td>\n",
       "      <td>0.7</td>\n",
       "      <td>Russia</td>\n",
       "    </tr>\n",
       "    <tr>\n",
       "      <th>2</th>\n",
       "      <td>Banana</td>\n",
       "      <td>0.9</td>\n",
       "      <td>New Zealand</td>\n",
       "    </tr>\n",
       "  </tbody>\n",
       "</table>\n",
       "</div>"
      ],
      "text/plain": [
       "   Fruits  Prices      Country\n",
       "0   Apple     1.2       Africa\n",
       "1  Orange     0.7       Russia\n",
       "2  Banana     0.9  New Zealand"
      ]
     },
     "execution_count": 2,
     "metadata": {},
     "output_type": "execute_result"
    }
   ],
   "source": [
    "# read fruits.csv\n",
    "\n",
    "fruits_df = pd.read_csv(\"fruits.csv\")\n",
    "\n",
    "fruits_df #this is a pandas dataframe"
   ]
  },
  {
   "cell_type": "code",
   "execution_count": null,
   "id": "6b8a5457-3783-4592-8259-e354d011236a",
   "metadata": {},
   "outputs": [],
   "source": [
    "fruits_df[\"Fruits\"] # single column - returns as a Series Object instead of a DF"
   ]
  },
  {
   "cell_type": "code",
   "execution_count": null,
   "id": "cc498466-ed62-4bef-bf9a-278f137115ae",
   "metadata": {},
   "outputs": [],
   "source": [
    "fruits_df[ [\"Fruits\"] ] #returns as a dataframe"
   ]
  },
  {
   "cell_type": "code",
   "execution_count": null,
   "id": "b651defe-2c3d-4183-8dc6-0d725d61d253",
   "metadata": {},
   "outputs": [],
   "source": [
    "fruits_df[ [\"Fruits\", \"Prices\"] ]"
   ]
  },
  {
   "cell_type": "code",
   "execution_count": null,
   "id": "984b9dea-da1d-4bf1-bfe3-86aefee74187",
   "metadata": {},
   "outputs": [],
   "source": [
    "fruits_2col_df = fruits_df[ [\"Fruits\", \"Prices\"] ] #multiple columns\n",
    "fruits_2col_df"
   ]
  },
  {
   "cell_type": "markdown",
   "id": "bba49e93-0413-4d9f-af48-b1ab65c61aa4",
   "metadata": {},
   "source": [
    "## using iloc"
   ]
  },
  {
   "cell_type": "code",
   "execution_count": null,
   "id": "73ab3690-2622-4639-8068-48a43273fe29",
   "metadata": {},
   "outputs": [],
   "source": [
    "fruits_df.iloc[ [0,2], :] #first and third rows, ‘ : ’ after the comma indicates all columns"
   ]
  },
  {
   "cell_type": "code",
   "execution_count": null,
   "id": "f5208f3d-2351-499d-baef-72a74eb913ae",
   "metadata": {},
   "outputs": [],
   "source": [
    "fruits_df.iloc[ [1], :] #row 1 only, double [] brackets to return as a dataframe"
   ]
  },
  {
   "cell_type": "code",
   "execution_count": null,
   "id": "7a4d8030-3c22-4111-bd86-ce610db6be98",
   "metadata": {},
   "outputs": [],
   "source": [
    "fruits_df.iloc[ [0,2], 0:2] #first and third rows, first column, two columns"
   ]
  },
  {
   "cell_type": "markdown",
   "id": "c1f82093-dd6d-4cc2-96f3-fdebf1fb5f53",
   "metadata": {},
   "source": [
    "## using loc"
   ]
  },
  {
   "cell_type": "code",
   "execution_count": 35,
   "id": "02d7ee4c-729b-4939-90bb-1500b922fc05",
   "metadata": {},
   "outputs": [
    {
     "data": {
      "text/html": [
       "<div>\n",
       "<style scoped>\n",
       "    .dataframe tbody tr th:only-of-type {\n",
       "        vertical-align: middle;\n",
       "    }\n",
       "\n",
       "    .dataframe tbody tr th {\n",
       "        vertical-align: top;\n",
       "    }\n",
       "\n",
       "    .dataframe thead th {\n",
       "        text-align: right;\n",
       "    }\n",
       "</style>\n",
       "<table border=\"1\" class=\"dataframe\">\n",
       "  <thead>\n",
       "    <tr style=\"text-align: right;\">\n",
       "      <th></th>\n",
       "      <th>Prices</th>\n",
       "      <th>Country</th>\n",
       "    </tr>\n",
       "    <tr>\n",
       "      <th>Fruits</th>\n",
       "      <th></th>\n",
       "      <th></th>\n",
       "    </tr>\n",
       "  </thead>\n",
       "  <tbody>\n",
       "    <tr>\n",
       "      <th>Apple</th>\n",
       "      <td>1.2</td>\n",
       "      <td>Africa</td>\n",
       "    </tr>\n",
       "    <tr>\n",
       "      <th>Orange</th>\n",
       "      <td>0.7</td>\n",
       "      <td>Russia</td>\n",
       "    </tr>\n",
       "    <tr>\n",
       "      <th>Banana</th>\n",
       "      <td>0.9</td>\n",
       "      <td>New Zealand</td>\n",
       "    </tr>\n",
       "  </tbody>\n",
       "</table>\n",
       "</div>"
      ],
      "text/plain": [
       "        Prices      Country\n",
       "Fruits                     \n",
       "Apple      1.2       Africa\n",
       "Orange     0.7       Russia\n",
       "Banana     0.9  New Zealand"
      ]
     },
     "execution_count": 35,
     "metadata": {},
     "output_type": "execute_result"
    }
   ],
   "source": [
    "fruits_df_indexed = fruits_df.set_index(\"Fruits\", inplace=False)\n",
    "fruits_df_indexed"
   ]
  },
  {
   "cell_type": "code",
   "execution_count": null,
   "id": "8c597f54-3b52-4c24-aee8-811f7df78e25",
   "metadata": {},
   "outputs": [],
   "source": [
    "fruits_df_indexed.loc[ [\"Apple\", \"Orange\"], :]"
   ]
  },
  {
   "cell_type": "code",
   "execution_count": null,
   "id": "85ebd070-5b9b-426f-9de8-e7d90aabc74e",
   "metadata": {},
   "outputs": [],
   "source": [
    "#loc with row and col labels\n",
    "fruits_df_indexed.loc[ [\"Apple\", \"Orange\"], [\"Prices\"] ]"
   ]
  },
  {
   "cell_type": "markdown",
   "id": "ab870530-5cc2-49e4-bcfb-31426c8316a1",
   "metadata": {},
   "source": [
    "## Using iloc and loc"
   ]
  },
  {
   "cell_type": "code",
   "execution_count": 36,
   "id": "f6c1cf5d-068a-4fc8-afaf-be7b10804b0f",
   "metadata": {},
   "outputs": [
    {
     "data": {
      "text/html": [
       "<div>\n",
       "<style scoped>\n",
       "    .dataframe tbody tr th:only-of-type {\n",
       "        vertical-align: middle;\n",
       "    }\n",
       "\n",
       "    .dataframe tbody tr th {\n",
       "        vertical-align: top;\n",
       "    }\n",
       "\n",
       "    .dataframe thead th {\n",
       "        text-align: right;\n",
       "    }\n",
       "</style>\n",
       "<table border=\"1\" class=\"dataframe\">\n",
       "  <thead>\n",
       "    <tr style=\"text-align: right;\">\n",
       "      <th></th>\n",
       "      <th>Country</th>\n",
       "    </tr>\n",
       "  </thead>\n",
       "  <tbody>\n",
       "    <tr>\n",
       "      <th>0</th>\n",
       "      <td>Africa</td>\n",
       "    </tr>\n",
       "    <tr>\n",
       "      <th>1</th>\n",
       "      <td>Russia</td>\n",
       "    </tr>\n",
       "    <tr>\n",
       "      <th>2</th>\n",
       "      <td>New Zealand</td>\n",
       "    </tr>\n",
       "  </tbody>\n",
       "</table>\n",
       "</div>"
      ],
      "text/plain": [
       "       Country\n",
       "0       Africa\n",
       "1       Russia\n",
       "2  New Zealand"
      ]
     },
     "execution_count": 36,
     "metadata": {},
     "output_type": "execute_result"
    }
   ],
   "source": [
    "fruits_df[ [\"Country\"] ]"
   ]
  },
  {
   "cell_type": "code",
   "execution_count": null,
   "id": "c429eca2-ac24-4e2c-a46a-a041b544cd96",
   "metadata": {},
   "outputs": [],
   "source": [
    "fruits_df[ [\"Country\"] ].iloc[ [0,2] ]"
   ]
  },
  {
   "cell_type": "code",
   "execution_count": null,
   "id": "59f3c3dc-d659-4991-ae78-465335ae70dd",
   "metadata": {},
   "outputs": [],
   "source": [
    "#fruits_df.iloc[ [0,2], [\"Country\"] ] will not work because iloc expects indices\n",
    "fruits_df.iloc[ [0,2], [2] ] "
   ]
  },
  {
   "cell_type": "code",
   "execution_count": null,
   "id": "07d0ca73-e1cd-4308-b2b8-7dcdf99d36f2",
   "metadata": {},
   "outputs": [],
   "source": [
    "fruits_df.iloc[ [0,2] ][ [\"Country\"] ]"
   ]
  },
  {
   "cell_type": "code",
   "execution_count": null,
   "id": "c30b2268-bdfd-480a-bbe5-db2a8602d4d1",
   "metadata": {},
   "outputs": [],
   "source": [
    "display ( fruits_df_indexed.loc[ [\"Apple\" ] ] )\n",
    "display ( fruits_df_indexed.loc[ [\"Apple\" ] ].iloc[:,0:1] )"
   ]
  },
  {
   "cell_type": "markdown",
   "id": "4a85aab6-4a9c-49e7-aedf-e124794f4a70",
   "metadata": {},
   "source": [
    "## Select Cells by Boolean Masking"
   ]
  },
  {
   "cell_type": "code",
   "execution_count": null,
   "id": "51295cd2-1fdf-4754-a287-4c16b5d6992b",
   "metadata": {},
   "outputs": [],
   "source": [
    "fruits_df"
   ]
  },
  {
   "cell_type": "code",
   "execution_count": null,
   "id": "73c7ff5c-b285-45b8-b3b8-1b8c3b41bda2",
   "metadata": {},
   "outputs": [],
   "source": [
    "# select fruits < $1 and from Russia\n",
    "cond1 = fruits_df[\"Prices\"] <1\n",
    "cond2 = fruits_df[\"Country\"] == \"Russia\"\n",
    "fruits_df [ cond1 & cond2 ]"
   ]
  },
  {
   "cell_type": "code",
   "execution_count": null,
   "id": "9a3a4e22-394c-46db-a181-b7fed4e0f0ad",
   "metadata": {},
   "outputs": [],
   "source": [
    "# select fruits from Russia or Africa, price between 0.5 and 1\n",
    "\n",
    "cond1= fruits_df[\"Country\"] == \"Russia\"\n",
    "cond2= fruits_df[\"Country\"] == \"Africa\"\n",
    "\n",
    "cond3= fruits_df[\"Prices\"] >= 0.5\n",
    "cond4= fruits_df[\"Prices\"] <= 1\n",
    "\n",
    "fruits_df [ (cond1 | cond2) & (cond3 & cond4)]"
   ]
  },
  {
   "cell_type": "code",
   "execution_count": null,
   "id": "86e2be85-638e-4148-aa90-0db11ccd037d",
   "metadata": {},
   "outputs": [],
   "source": [
    "cond1 = (fruits_df[\"Country\"] == \"Russia\") | (fruits_df[\"Country\"] == \"Africa\")\n",
    "cond2 = (fruits_df[\"Prices\"] >= 0.5) & (fruits_df[\"Prices\"] <= 1)\n",
    "fruits_df [ cond1 & cond2 ]"
   ]
  },
  {
   "cell_type": "markdown",
   "id": "e5e273fd-e180-49c5-9d8a-060b12e0a7d3",
   "metadata": {},
   "source": [
    "## First activity"
   ]
  },
  {
   "cell_type": "code",
   "execution_count": 13,
   "id": "73dc73f4-013c-4d46-8672-3ba10a6aa633",
   "metadata": {},
   "outputs": [],
   "source": [
    "import pandas as pd\n",
    "car_model = pd.read_csv(\"car_model.csv\")"
   ]
  },
  {
   "cell_type": "code",
   "execution_count": null,
   "id": "7307a9f5-32ab-487a-b708-8f551141f6f8",
   "metadata": {},
   "outputs": [],
   "source": [
    "display(car_model)"
   ]
  },
  {
   "cell_type": "code",
   "execution_count": null,
   "id": "5dd6b368-5a2e-40e6-b03c-6c1c30eaca06",
   "metadata": {},
   "outputs": [],
   "source": [
    "print(car_model)"
   ]
  },
  {
   "cell_type": "code",
   "execution_count": null,
   "id": "0505d422-8bc9-4e17-a275-29061d1b16b4",
   "metadata": {},
   "outputs": [],
   "source": [
    "len(car_model) #rows"
   ]
  },
  {
   "cell_type": "code",
   "execution_count": null,
   "id": "120a9edf-6a59-47be-b6a6-4aeebe394fd4",
   "metadata": {},
   "outputs": [],
   "source": [
    "len(car_model.columns) #columns"
   ]
  },
  {
   "cell_type": "code",
   "execution_count": null,
   "id": "b7527798-0ebb-44e1-a81b-d9ac813fd8c3",
   "metadata": {},
   "outputs": [],
   "source": [
    "car_model.columns"
   ]
  },
  {
   "cell_type": "code",
   "execution_count": null,
   "id": "342a73d1-b4b4-4c6c-86f4-a9d701a75f13",
   "metadata": {},
   "outputs": [],
   "source": [
    "car_model.shape"
   ]
  },
  {
   "cell_type": "markdown",
   "id": "8ab1e006-3cf4-4076-8318-562092bf81dd",
   "metadata": {},
   "source": [
    "## Second Activity"
   ]
  },
  {
   "cell_type": "code",
   "execution_count": 14,
   "id": "6c503ca6-73a1-454b-a45e-2621afec9ccc",
   "metadata": {},
   "outputs": [
    {
     "data": {
      "text/html": [
       "<div>\n",
       "<style scoped>\n",
       "    .dataframe tbody tr th:only-of-type {\n",
       "        vertical-align: middle;\n",
       "    }\n",
       "\n",
       "    .dataframe tbody tr th {\n",
       "        vertical-align: top;\n",
       "    }\n",
       "\n",
       "    .dataframe thead th {\n",
       "        text-align: right;\n",
       "    }\n",
       "</style>\n",
       "<table border=\"1\" class=\"dataframe\">\n",
       "  <thead>\n",
       "    <tr style=\"text-align: right;\">\n",
       "      <th></th>\n",
       "      <th>Make</th>\n",
       "    </tr>\n",
       "  </thead>\n",
       "  <tbody>\n",
       "    <tr>\n",
       "      <th>0</th>\n",
       "      <td>Acura</td>\n",
       "    </tr>\n",
       "    <tr>\n",
       "      <th>1</th>\n",
       "      <td>Acura</td>\n",
       "    </tr>\n",
       "    <tr>\n",
       "      <th>2</th>\n",
       "      <td>Acura</td>\n",
       "    </tr>\n",
       "    <tr>\n",
       "      <th>3</th>\n",
       "      <td>Alfa Romeo</td>\n",
       "    </tr>\n",
       "    <tr>\n",
       "      <th>4</th>\n",
       "      <td>Alfa Romeo</td>\n",
       "    </tr>\n",
       "    <tr>\n",
       "      <th>...</th>\n",
       "      <td>...</td>\n",
       "    </tr>\n",
       "    <tr>\n",
       "      <th>235</th>\n",
       "      <td>Volvo</td>\n",
       "    </tr>\n",
       "    <tr>\n",
       "      <th>236</th>\n",
       "      <td>Volkswagen</td>\n",
       "    </tr>\n",
       "    <tr>\n",
       "      <th>237</th>\n",
       "      <td>Volvo</td>\n",
       "    </tr>\n",
       "    <tr>\n",
       "      <th>238</th>\n",
       "      <td>Volvo</td>\n",
       "    </tr>\n",
       "    <tr>\n",
       "      <th>239</th>\n",
       "      <td>Volvo</td>\n",
       "    </tr>\n",
       "  </tbody>\n",
       "</table>\n",
       "<p>240 rows × 1 columns</p>\n",
       "</div>"
      ],
      "text/plain": [
       "           Make\n",
       "0         Acura\n",
       "1         Acura\n",
       "2         Acura\n",
       "3    Alfa Romeo\n",
       "4    Alfa Romeo\n",
       "..          ...\n",
       "235       Volvo\n",
       "236  Volkswagen\n",
       "237       Volvo\n",
       "238       Volvo\n",
       "239       Volvo\n",
       "\n",
       "[240 rows x 1 columns]"
      ]
     },
     "execution_count": 14,
     "metadata": {},
     "output_type": "execute_result"
    }
   ],
   "source": [
    "# Select the column (variable) “Make” from the DataFrame.\n",
    "\n",
    "car_model[ [\"Make\"] ]"
   ]
  },
  {
   "cell_type": "code",
   "execution_count": 48,
   "id": "a541906e-39ee-4628-ac81-6d816f6c402e",
   "metadata": {},
   "outputs": [
    {
     "data": {
      "text/html": [
       "<div>\n",
       "<style scoped>\n",
       "    .dataframe tbody tr th:only-of-type {\n",
       "        vertical-align: middle;\n",
       "    }\n",
       "\n",
       "    .dataframe tbody tr th {\n",
       "        vertical-align: top;\n",
       "    }\n",
       "\n",
       "    .dataframe thead th {\n",
       "        text-align: right;\n",
       "    }\n",
       "</style>\n",
       "<table border=\"1\" class=\"dataframe\">\n",
       "  <thead>\n",
       "    <tr style=\"text-align: right;\">\n",
       "      <th></th>\n",
       "      <th>Year</th>\n",
       "      <th>Make</th>\n",
       "      <th>Model</th>\n",
       "      <th>Category</th>\n",
       "    </tr>\n",
       "  </thead>\n",
       "  <tbody>\n",
       "    <tr>\n",
       "      <th>5</th>\n",
       "      <td>2021</td>\n",
       "      <td>Audi</td>\n",
       "      <td>A6 allroad</td>\n",
       "      <td>Wagon</td>\n",
       "    </tr>\n",
       "    <tr>\n",
       "      <th>6</th>\n",
       "      <td>2021</td>\n",
       "      <td>Audi</td>\n",
       "      <td>A7</td>\n",
       "      <td>Sedan</td>\n",
       "    </tr>\n",
       "    <tr>\n",
       "      <th>7</th>\n",
       "      <td>2021</td>\n",
       "      <td>Audi</td>\n",
       "      <td>Q3</td>\n",
       "      <td>SUV</td>\n",
       "    </tr>\n",
       "    <tr>\n",
       "      <th>8</th>\n",
       "      <td>2021</td>\n",
       "      <td>Audi</td>\n",
       "      <td>Q5</td>\n",
       "      <td>SUV</td>\n",
       "    </tr>\n",
       "    <tr>\n",
       "      <th>9</th>\n",
       "      <td>2021</td>\n",
       "      <td>Audi</td>\n",
       "      <td>Q8</td>\n",
       "      <td>SUV</td>\n",
       "    </tr>\n",
       "    <tr>\n",
       "      <th>10</th>\n",
       "      <td>2021</td>\n",
       "      <td>Audi</td>\n",
       "      <td>S5</td>\n",
       "      <td>Convertible,Sedan,Coupe</td>\n",
       "    </tr>\n",
       "    <tr>\n",
       "      <th>11</th>\n",
       "      <td>2021</td>\n",
       "      <td>Audi</td>\n",
       "      <td>S6</td>\n",
       "      <td>Sedan</td>\n",
       "    </tr>\n",
       "  </tbody>\n",
       "</table>\n",
       "</div>"
      ],
      "text/plain": [
       "    Year  Make       Model                 Category\n",
       "5   2021  Audi  A6 allroad                    Wagon\n",
       "6   2021  Audi          A7                    Sedan\n",
       "7   2021  Audi          Q3                      SUV\n",
       "8   2021  Audi          Q5                      SUV\n",
       "9   2021  Audi          Q8                      SUV\n",
       "10  2021  Audi          S5  Convertible,Sedan,Coupe\n",
       "11  2021  Audi          S6                    Sedan"
      ]
     },
     "execution_count": 48,
     "metadata": {},
     "output_type": "execute_result"
    }
   ],
   "source": [
    "# Select all entries with the value “Audi” in the variable “Make” from the DataFrame.\n",
    "cond1= car_model[\"Make\"] == \"Audi\"\n",
    "car_model[ [\"Make\"] & cond1]"
   ]
  },
  {
   "cell_type": "code",
   "execution_count": 1,
   "id": "1fe2d46d-15fe-4f5d-a65d-eccfa965d892",
   "metadata": {},
   "outputs": [
    {
     "ename": "NameError",
     "evalue": "name 'car_model' is not defined",
     "output_type": "error",
     "traceback": [
      "\u001b[1;31m---------------------------------------------------------------------------\u001b[0m",
      "\u001b[1;31mNameError\u001b[0m                                 Traceback (most recent call last)",
      "Cell \u001b[1;32mIn[1], line 1\u001b[0m\n\u001b[1;32m----> 1\u001b[0m \u001b[43mcar_model\u001b[49m[ car_model[\u001b[38;5;124m\"\u001b[39m\u001b[38;5;124mMake\u001b[39m\u001b[38;5;124m\"\u001b[39m]  \u001b[38;5;241m==\u001b[39m \u001b[38;5;124m\"\u001b[39m\u001b[38;5;124mAudi\u001b[39m\u001b[38;5;124m\"\u001b[39m]\n",
      "\u001b[1;31mNameError\u001b[0m: name 'car_model' is not defined"
     ]
    }
   ],
   "source": [
    "car_model[ car_model[\"Make\"]  == \"Audi\"]"
   ]
  },
  {
   "cell_type": "code",
   "execution_count": 47,
   "id": "257e246e-636a-4675-94aa-6852f1aaf2b0",
   "metadata": {},
   "outputs": [
    {
     "data": {
      "text/plain": [
       "230    2021\n",
       "231    2021\n",
       "232    2021\n",
       "233    2021\n",
       "234    2021\n",
       "235    2021\n",
       "236    2021\n",
       "237    2021\n",
       "238    2021\n",
       "239    2021\n",
       "Name: Year, dtype: int64"
      ]
     },
     "execution_count": 47,
     "metadata": {},
     "output_type": "execute_result"
    }
   ],
   "source": [
    "# Select the last 10 observations and only the variable “Year” from the DataFrame.\n",
    "car_model.tail(10)[\"Year\"]\n",
    "car_model[\"Year\"].tail(10)"
   ]
  },
  {
   "cell_type": "markdown",
   "id": "3edaf5c2-98e1-4d96-af86-1e1180d9f549",
   "metadata": {},
   "source": [
    "## Merge"
   ]
  },
  {
   "cell_type": "code",
   "execution_count": null,
   "id": "57da37fa-8ce8-4a50-80d5-30115062c2f7",
   "metadata": {},
   "outputs": [],
   "source": [
    "fruits_df"
   ]
  },
  {
   "cell_type": "code",
   "execution_count": null,
   "id": "bd76edcf-69b5-4171-82c0-d9f1e6e891e6",
   "metadata": {},
   "outputs": [],
   "source": [
    "pd.concat( [fruits_df, fruits_df] )"
   ]
  },
  {
   "cell_type": "code",
   "execution_count": null,
   "id": "58b66f5f-e5e0-4177-b7ac-4e6188700011",
   "metadata": {},
   "outputs": [],
   "source": [
    "test_df = pd.concat( [fruits_df, fruits_df] )\n",
    "test_df"
   ]
  },
  {
   "cell_type": "code",
   "execution_count": null,
   "id": "b91c9587-5be0-42f5-ab57-9b35de1f2c03",
   "metadata": {},
   "outputs": [],
   "source": [
    "test_df.loc[1] #returns index 1"
   ]
  },
  {
   "cell_type": "code",
   "execution_count": null,
   "id": "22bf549d-d64c-4287-8e75-0eba10050783",
   "metadata": {},
   "outputs": [],
   "source": [
    "test_df.iloc[[1]] #returns position 1"
   ]
  },
  {
   "cell_type": "code",
   "execution_count": null,
   "id": "e2457656-e204-477e-88da-ed01c0867ffe",
   "metadata": {},
   "outputs": [],
   "source": [
    "pd.concat( [fruits_df, fruits_df], ignore_index=True ) #new index"
   ]
  },
  {
   "cell_type": "code",
   "execution_count": 38,
   "id": "cf84c65c-4799-48df-8778-ff10875bcef0",
   "metadata": {},
   "outputs": [
    {
     "data": {
      "text/html": [
       "<div>\n",
       "<style scoped>\n",
       "    .dataframe tbody tr th:only-of-type {\n",
       "        vertical-align: middle;\n",
       "    }\n",
       "\n",
       "    .dataframe tbody tr th {\n",
       "        vertical-align: top;\n",
       "    }\n",
       "\n",
       "    .dataframe thead th {\n",
       "        text-align: right;\n",
       "    }\n",
       "</style>\n",
       "<table border=\"1\" class=\"dataframe\">\n",
       "  <thead>\n",
       "    <tr style=\"text-align: right;\">\n",
       "      <th></th>\n",
       "      <th>Fruits</th>\n",
       "      <th>Country</th>\n",
       "    </tr>\n",
       "  </thead>\n",
       "  <tbody>\n",
       "    <tr>\n",
       "      <th>0</th>\n",
       "      <td>Apple</td>\n",
       "      <td>Africa</td>\n",
       "    </tr>\n",
       "    <tr>\n",
       "      <th>1</th>\n",
       "      <td>Orange</td>\n",
       "      <td>Russia</td>\n",
       "    </tr>\n",
       "    <tr>\n",
       "      <th>2</th>\n",
       "      <td>Banana</td>\n",
       "      <td>New Zealand</td>\n",
       "    </tr>\n",
       "  </tbody>\n",
       "</table>\n",
       "</div>"
      ],
      "text/plain": [
       "   Fruits      Country\n",
       "0   Apple       Africa\n",
       "1  Orange       Russia\n",
       "2  Banana  New Zealand"
      ]
     },
     "execution_count": 38,
     "metadata": {},
     "output_type": "execute_result"
    }
   ],
   "source": [
    "fruits_country_df = fruits_df[ [\"Fruits\", \"Country\"] ]\n",
    "fruits_country_df"
   ]
  },
  {
   "cell_type": "code",
   "execution_count": 39,
   "id": "89c5b017-f8fc-4c3f-b07e-da5e90a8eae7",
   "metadata": {},
   "outputs": [
    {
     "data": {
      "text/html": [
       "<div>\n",
       "<style scoped>\n",
       "    .dataframe tbody tr th:only-of-type {\n",
       "        vertical-align: middle;\n",
       "    }\n",
       "\n",
       "    .dataframe tbody tr th {\n",
       "        vertical-align: top;\n",
       "    }\n",
       "\n",
       "    .dataframe thead th {\n",
       "        text-align: right;\n",
       "    }\n",
       "</style>\n",
       "<table border=\"1\" class=\"dataframe\">\n",
       "  <thead>\n",
       "    <tr style=\"text-align: right;\">\n",
       "      <th></th>\n",
       "      <th>Fruits</th>\n",
       "      <th>Prices</th>\n",
       "    </tr>\n",
       "  </thead>\n",
       "  <tbody>\n",
       "    <tr>\n",
       "      <th>0</th>\n",
       "      <td>Apple</td>\n",
       "      <td>1.2</td>\n",
       "    </tr>\n",
       "    <tr>\n",
       "      <th>1</th>\n",
       "      <td>Orange</td>\n",
       "      <td>0.7</td>\n",
       "    </tr>\n",
       "    <tr>\n",
       "      <th>2</th>\n",
       "      <td>Banana</td>\n",
       "      <td>0.9</td>\n",
       "    </tr>\n",
       "  </tbody>\n",
       "</table>\n",
       "</div>"
      ],
      "text/plain": [
       "   Fruits  Prices\n",
       "0   Apple     1.2\n",
       "1  Orange     0.7\n",
       "2  Banana     0.9"
      ]
     },
     "execution_count": 39,
     "metadata": {},
     "output_type": "execute_result"
    }
   ],
   "source": [
    "fruits_prices_df = fruits_df[ [\"Fruits\", \"Prices\"] ]\n",
    "fruits_prices_df "
   ]
  },
  {
   "cell_type": "code",
   "execution_count": null,
   "id": "92757e4d-9855-4c10-ba27-c60a51b188db",
   "metadata": {},
   "outputs": [],
   "source": [
    "pd.merge(fruits_country_df, fruits_prices_df , on=\"Fruits\")"
   ]
  },
  {
   "cell_type": "markdown",
   "id": "686d7984-2f12-4d23-8223-0c905ab33e9c",
   "metadata": {},
   "source": [
    "## Missing Data"
   ]
  },
  {
   "cell_type": "code",
   "execution_count": 4,
   "id": "8fe01a86-feae-41a7-a860-0c17d44a97b8",
   "metadata": {},
   "outputs": [
    {
     "data": {
      "text/html": [
       "<div>\n",
       "<style scoped>\n",
       "    .dataframe tbody tr th:only-of-type {\n",
       "        vertical-align: middle;\n",
       "    }\n",
       "\n",
       "    .dataframe tbody tr th {\n",
       "        vertical-align: top;\n",
       "    }\n",
       "\n",
       "    .dataframe thead th {\n",
       "        text-align: right;\n",
       "    }\n",
       "</style>\n",
       "<table border=\"1\" class=\"dataframe\">\n",
       "  <thead>\n",
       "    <tr style=\"text-align: right;\">\n",
       "      <th></th>\n",
       "      <th>Fruits</th>\n",
       "      <th>Prices</th>\n",
       "      <th>Country</th>\n",
       "    </tr>\n",
       "  </thead>\n",
       "  <tbody>\n",
       "    <tr>\n",
       "      <th>0</th>\n",
       "      <td>Apple</td>\n",
       "      <td>NaN</td>\n",
       "      <td>Africa</td>\n",
       "    </tr>\n",
       "    <tr>\n",
       "      <th>1</th>\n",
       "      <td>Orange</td>\n",
       "      <td>0.7</td>\n",
       "      <td>Russia</td>\n",
       "    </tr>\n",
       "    <tr>\n",
       "      <th>2</th>\n",
       "      <td>Banana</td>\n",
       "      <td>0.9</td>\n",
       "      <td>New Zealand</td>\n",
       "    </tr>\n",
       "  </tbody>\n",
       "</table>\n",
       "</div>"
      ],
      "text/plain": [
       "   Fruits  Prices      Country\n",
       "0   Apple     NaN       Africa\n",
       "1  Orange     0.7       Russia\n",
       "2  Banana     0.9  New Zealand"
      ]
     },
     "execution_count": 4,
     "metadata": {},
     "output_type": "execute_result"
    }
   ],
   "source": [
    "fruits_missing_df = pd.read_csv(\"fruits_corrupted.csv\")\n",
    "fruits_missing_df"
   ]
  },
  {
   "cell_type": "code",
   "execution_count": 5,
   "id": "ba980843-1d26-437c-8e40-0ca60d0e8d36",
   "metadata": {},
   "outputs": [
    {
     "data": {
      "text/html": [
       "<div>\n",
       "<style scoped>\n",
       "    .dataframe tbody tr th:only-of-type {\n",
       "        vertical-align: middle;\n",
       "    }\n",
       "\n",
       "    .dataframe tbody tr th {\n",
       "        vertical-align: top;\n",
       "    }\n",
       "\n",
       "    .dataframe thead th {\n",
       "        text-align: right;\n",
       "    }\n",
       "</style>\n",
       "<table border=\"1\" class=\"dataframe\">\n",
       "  <thead>\n",
       "    <tr style=\"text-align: right;\">\n",
       "      <th></th>\n",
       "      <th>Fruits</th>\n",
       "      <th>Prices</th>\n",
       "      <th>Country</th>\n",
       "    </tr>\n",
       "  </thead>\n",
       "  <tbody>\n",
       "    <tr>\n",
       "      <th>0</th>\n",
       "      <td>Apple</td>\n",
       "      <td>NaN</td>\n",
       "      <td>Africa</td>\n",
       "    </tr>\n",
       "    <tr>\n",
       "      <th>1</th>\n",
       "      <td>Orange</td>\n",
       "      <td>0.7</td>\n",
       "      <td>NaN</td>\n",
       "    </tr>\n",
       "    <tr>\n",
       "      <th>2</th>\n",
       "      <td>Banana</td>\n",
       "      <td>0.9</td>\n",
       "      <td>New Zealand</td>\n",
       "    </tr>\n",
       "  </tbody>\n",
       "</table>\n",
       "</div>"
      ],
      "text/plain": [
       "   Fruits  Prices      Country\n",
       "0   Apple     NaN       Africa\n",
       "1  Orange     0.7          NaN\n",
       "2  Banana     0.9  New Zealand"
      ]
     },
     "execution_count": 5,
     "metadata": {},
     "output_type": "execute_result"
    }
   ],
   "source": [
    "#convert Russia into missing value\n",
    "fruits_missing_df1 = pd.read_csv(\"fruits_corrupted.csv\", na_values = \"Russia\", na_filter = True)\n",
    "fruits_missing_df1"
   ]
  },
  {
   "cell_type": "code",
   "execution_count": 6,
   "id": "a0db4352-cda1-4e23-a852-2b2a884fb294",
   "metadata": {},
   "outputs": [
    {
     "data": {
      "text/html": [
       "<div>\n",
       "<style scoped>\n",
       "    .dataframe tbody tr th:only-of-type {\n",
       "        vertical-align: middle;\n",
       "    }\n",
       "\n",
       "    .dataframe tbody tr th {\n",
       "        vertical-align: top;\n",
       "    }\n",
       "\n",
       "    .dataframe thead th {\n",
       "        text-align: right;\n",
       "    }\n",
       "</style>\n",
       "<table border=\"1\" class=\"dataframe\">\n",
       "  <thead>\n",
       "    <tr style=\"text-align: right;\">\n",
       "      <th></th>\n",
       "      <th>Fruits</th>\n",
       "      <th>Prices</th>\n",
       "      <th>Country</th>\n",
       "    </tr>\n",
       "  </thead>\n",
       "  <tbody>\n",
       "    <tr>\n",
       "      <th>0</th>\n",
       "      <td>False</td>\n",
       "      <td>True</td>\n",
       "      <td>False</td>\n",
       "    </tr>\n",
       "    <tr>\n",
       "      <th>1</th>\n",
       "      <td>False</td>\n",
       "      <td>False</td>\n",
       "      <td>False</td>\n",
       "    </tr>\n",
       "    <tr>\n",
       "      <th>2</th>\n",
       "      <td>False</td>\n",
       "      <td>False</td>\n",
       "      <td>False</td>\n",
       "    </tr>\n",
       "  </tbody>\n",
       "</table>\n",
       "</div>"
      ],
      "text/plain": [
       "   Fruits  Prices  Country\n",
       "0   False    True    False\n",
       "1   False   False    False\n",
       "2   False   False    False"
      ]
     },
     "execution_count": 6,
     "metadata": {},
     "output_type": "execute_result"
    }
   ],
   "source": [
    "fruits_missing_df.isnull()"
   ]
  },
  {
   "cell_type": "code",
   "execution_count": 7,
   "id": "8362fd9d-5134-406e-989c-f66f7aa66e97",
   "metadata": {},
   "outputs": [
    {
     "data": {
      "text/plain": [
       "Fruits     0\n",
       "Prices     1\n",
       "Country    1\n",
       "dtype: int64"
      ]
     },
     "execution_count": 7,
     "metadata": {},
     "output_type": "execute_result"
    }
   ],
   "source": [
    "fruits_missing_df1.isnull().sum()"
   ]
  },
  {
   "cell_type": "code",
   "execution_count": 8,
   "id": "9565718e-d18f-4410-87a6-4bcc0b1406a9",
   "metadata": {},
   "outputs": [
    {
     "data": {
      "text/plain": [
       "Fruits     0\n",
       "Prices     1\n",
       "Country    1\n",
       "dtype: int64"
      ]
     },
     "execution_count": 8,
     "metadata": {},
     "output_type": "execute_result"
    }
   ],
   "source": [
    "fruits_missing_df1.isnull().sum(axis=0)"
   ]
  },
  {
   "cell_type": "code",
   "execution_count": 9,
   "id": "93e0f44e-ab53-479b-a5e0-8ddc7ddbd66d",
   "metadata": {},
   "outputs": [
    {
     "data": {
      "text/plain": [
       "0    1\n",
       "1    1\n",
       "2    0\n",
       "dtype: int64"
      ]
     },
     "execution_count": 9,
     "metadata": {},
     "output_type": "execute_result"
    }
   ],
   "source": [
    "fruits_missing_df1.isnull().sum(axis=1)"
   ]
  },
  {
   "cell_type": "code",
   "execution_count": 10,
   "id": "8545b977-a72c-4813-9544-7da1b408f929",
   "metadata": {},
   "outputs": [
    {
     "data": {
      "text/plain": [
       "Fruits     False\n",
       "Prices      True\n",
       "Country     True\n",
       "dtype: bool"
      ]
     },
     "execution_count": 10,
     "metadata": {},
     "output_type": "execute_result"
    }
   ],
   "source": [
    "fruits_missing_df1.isnull().any(axis=0)"
   ]
  },
  {
   "cell_type": "code",
   "execution_count": 11,
   "id": "ab34ac9a-6264-4ade-95d6-4307554dc819",
   "metadata": {},
   "outputs": [
    {
     "data": {
      "text/plain": [
       "Index(['Prices', 'Country'], dtype='object')"
      ]
     },
     "execution_count": 11,
     "metadata": {},
     "output_type": "execute_result"
    }
   ],
   "source": [
    "missing = fruits_missing_df1.isnull().any()\n",
    "missing[ missing==True ].index"
   ]
  },
  {
   "cell_type": "markdown",
   "id": "6939b525-f48c-45af-8908-f2e4b0ff54d9",
   "metadata": {},
   "source": [
    "## Delete Missing Data"
   ]
  },
  {
   "cell_type": "code",
   "execution_count": null,
   "id": "1a7b11ce-ed47-4002-824e-3e6cbd7f12f6",
   "metadata": {},
   "outputs": [],
   "source": [
    "fruits_drop = fruits_missing_df.dropna(axis = 0, how = \"any\")\n",
    "fruits_drop"
   ]
  },
  {
   "cell_type": "markdown",
   "id": "721139e0-73a8-47c0-b697-e5f7c3134e55",
   "metadata": {},
   "source": [
    "## Replace Missing Data"
   ]
  },
  {
   "cell_type": "code",
   "execution_count": null,
   "id": "e216e827-8784-491d-a420-b7ce1a7fc261",
   "metadata": {},
   "outputs": [],
   "source": [
    "# replace Country Nan with Ukraine\n",
    "# replace prices Nan with $100\n",
    "fruits_missing_df1[\"Country\"] = fruits_missing_df1[\"Country\"].fillna(value = \"Ukraine\")\n",
    "fruits_missing_df1[\"Prices\"] = fruits_missing_df1[\"Prices\"].fillna(value = 100)\n",
    "fruits_missing_df1"
   ]
  },
  {
   "cell_type": "code",
   "execution_count": null,
   "id": "ce24e308-9602-479b-a7f2-cfb45163f56f",
   "metadata": {},
   "outputs": [],
   "source": [
    "fruits_missing_df1[\"Country\"].fillna(value = \"Ukraine\", inplace=True) \n",
    "# inplacebool, default False, If True, fill in-place\n",
    "fruits_missing_df1[\"Prices\"].fillna(value = 100, inplace=True)"
   ]
  },
  {
   "cell_type": "code",
   "execution_count": null,
   "id": "3a3256fc-1b8a-4941-a491-d5667a3388f8",
   "metadata": {},
   "outputs": [],
   "source": []
  },
  {
   "cell_type": "markdown",
   "id": "6e9fd56a-fb51-43fc-8cd7-d6a83fbb1084",
   "metadata": {},
   "source": [
    "## Outliers"
   ]
  },
  {
   "cell_type": "code",
   "execution_count": 40,
   "id": "a7805ee2-00c2-4b26-a372-360a7f216b2b",
   "metadata": {},
   "outputs": [
    {
     "data": {
      "text/html": [
       "<div>\n",
       "<style scoped>\n",
       "    .dataframe tbody tr th:only-of-type {\n",
       "        vertical-align: middle;\n",
       "    }\n",
       "\n",
       "    .dataframe tbody tr th {\n",
       "        vertical-align: top;\n",
       "    }\n",
       "\n",
       "    .dataframe thead th {\n",
       "        text-align: right;\n",
       "    }\n",
       "</style>\n",
       "<table border=\"1\" class=\"dataframe\">\n",
       "  <thead>\n",
       "    <tr style=\"text-align: right;\">\n",
       "      <th></th>\n",
       "      <th>Fruits</th>\n",
       "      <th>Prices</th>\n",
       "      <th>Country</th>\n",
       "    </tr>\n",
       "  </thead>\n",
       "  <tbody>\n",
       "    <tr>\n",
       "      <th>0</th>\n",
       "      <td>Apple</td>\n",
       "      <td>1.2</td>\n",
       "      <td>Africa</td>\n",
       "    </tr>\n",
       "    <tr>\n",
       "      <th>1</th>\n",
       "      <td>Orange</td>\n",
       "      <td>0.7</td>\n",
       "      <td>Russia</td>\n",
       "    </tr>\n",
       "    <tr>\n",
       "      <th>2</th>\n",
       "      <td>Banana</td>\n",
       "      <td>0.9</td>\n",
       "      <td>New Zealand</td>\n",
       "    </tr>\n",
       "    <tr>\n",
       "      <th>3</th>\n",
       "      <td>Durian</td>\n",
       "      <td>1000.0</td>\n",
       "      <td>Iceland</td>\n",
       "    </tr>\n",
       "  </tbody>\n",
       "</table>\n",
       "</div>"
      ],
      "text/plain": [
       "   Fruits  Prices      Country\n",
       "0   Apple     1.2       Africa\n",
       "1  Orange     0.7       Russia\n",
       "2  Banana     0.9  New Zealand\n",
       "3  Durian  1000.0      Iceland"
      ]
     },
     "execution_count": 40,
     "metadata": {},
     "output_type": "execute_result"
    }
   ],
   "source": [
    "fruits_outlier_df = pd.read_csv(\"fruits_outlier.csv\")\n",
    "fruits_outlier_df"
   ]
  },
  {
   "cell_type": "code",
   "execution_count": 41,
   "id": "9fa8ea4d-406b-4476-a6da-9935f9f1895e",
   "metadata": {},
   "outputs": [
    {
     "name": "stdout",
     "output_type": "stream",
     "text": [
      "0.85\n",
      "250.89999999999998\n",
      "250.04999999999998\n"
     ]
    }
   ],
   "source": [
    "q1 = fruits_outlier_df[\"Prices\"].quantile(q = 0.25)\n",
    "q3 = fruits_outlier_df[\"Prices\"].quantile(q = 0.75)\n",
    "\n",
    "iqr = q3 - q1\n",
    "print(q1)\n",
    "print(q3)\n",
    "\n",
    "print(iqr)"
   ]
  },
  {
   "cell_type": "code",
   "execution_count": 42,
   "id": "9d715d98-68a7-48f7-aa24-1d090442bf35",
   "metadata": {},
   "outputs": [
    {
     "data": {
      "text/html": [
       "<div>\n",
       "<style scoped>\n",
       "    .dataframe tbody tr th:only-of-type {\n",
       "        vertical-align: middle;\n",
       "    }\n",
       "\n",
       "    .dataframe tbody tr th {\n",
       "        vertical-align: top;\n",
       "    }\n",
       "\n",
       "    .dataframe thead th {\n",
       "        text-align: right;\n",
       "    }\n",
       "</style>\n",
       "<table border=\"1\" class=\"dataframe\">\n",
       "  <thead>\n",
       "    <tr style=\"text-align: right;\">\n",
       "      <th></th>\n",
       "      <th>Fruits</th>\n",
       "      <th>Prices</th>\n",
       "      <th>Country</th>\n",
       "    </tr>\n",
       "  </thead>\n",
       "  <tbody>\n",
       "    <tr>\n",
       "      <th>3</th>\n",
       "      <td>Durian</td>\n",
       "      <td>1000.0</td>\n",
       "      <td>Iceland</td>\n",
       "    </tr>\n",
       "  </tbody>\n",
       "</table>\n",
       "</div>"
      ],
      "text/plain": [
       "   Fruits  Prices  Country\n",
       "3  Durian  1000.0  Iceland"
      ]
     },
     "execution_count": 42,
     "metadata": {},
     "output_type": "execute_result"
    }
   ],
   "source": [
    "cond1 = fruits_outlier_df[\"Prices\"] < (q1 - 1.5*iqr)\n",
    "cond2 = fruits_outlier_df[\"Prices\"] > (q3 + 1.5*iqr)\n",
    "\n",
    "fruits_outlier_df[ cond1 | cond2 ]\n"
   ]
  },
  {
   "cell_type": "markdown",
   "id": "5e2064ac-e976-4c3f-a82c-c0c79d3e6e1d",
   "metadata": {},
   "source": [
    "## Third Activity"
   ]
  },
  {
   "cell_type": "code",
   "execution_count": 56,
   "id": "881a7346-01cc-455b-876c-233eed3779f8",
   "metadata": {},
   "outputs": [
    {
     "data": {
      "text/plain": [
       "Year     0\n",
       "Make     0\n",
       "Model    0\n",
       "Price    2\n",
       "dtype: int64"
      ]
     },
     "execution_count": 56,
     "metadata": {},
     "output_type": "execute_result"
    }
   ],
   "source": [
    "# Remove all the rows with missing data in “price” from the ‘car_price_model.csv’\n",
    "\n",
    "car_df = pd.read_csv(\"car_price_model.csv\")\n",
    "car_df.isnull().sum()"
   ]
  },
  {
   "cell_type": "code",
   "execution_count": 54,
   "id": "056dd376-d40a-461c-9faf-533ad65c197f",
   "metadata": {},
   "outputs": [
    {
     "data": {
      "text/html": [
       "<div>\n",
       "<style scoped>\n",
       "    .dataframe tbody tr th:only-of-type {\n",
       "        vertical-align: middle;\n",
       "    }\n",
       "\n",
       "    .dataframe tbody tr th {\n",
       "        vertical-align: top;\n",
       "    }\n",
       "\n",
       "    .dataframe thead th {\n",
       "        text-align: right;\n",
       "    }\n",
       "</style>\n",
       "<table border=\"1\" class=\"dataframe\">\n",
       "  <thead>\n",
       "    <tr style=\"text-align: right;\">\n",
       "      <th></th>\n",
       "      <th>Year</th>\n",
       "      <th>Make</th>\n",
       "      <th>Model</th>\n",
       "      <th>Price</th>\n",
       "    </tr>\n",
       "  </thead>\n",
       "  <tbody>\n",
       "    <tr>\n",
       "      <th>0</th>\n",
       "      <td>2021</td>\n",
       "      <td>Acura</td>\n",
       "      <td>ILX</td>\n",
       "      <td>NaN</td>\n",
       "    </tr>\n",
       "    <tr>\n",
       "      <th>1</th>\n",
       "      <td>2021</td>\n",
       "      <td>Acura</td>\n",
       "      <td>RDX</td>\n",
       "      <td>NaN</td>\n",
       "    </tr>\n",
       "    <tr>\n",
       "      <th>2</th>\n",
       "      <td>2021</td>\n",
       "      <td>Acura</td>\n",
       "      <td>TLX</td>\n",
       "      <td>37500.0</td>\n",
       "    </tr>\n",
       "    <tr>\n",
       "      <th>3</th>\n",
       "      <td>2021</td>\n",
       "      <td>Alfa Romeo</td>\n",
       "      <td>Giulia</td>\n",
       "      <td>40350.0</td>\n",
       "    </tr>\n",
       "    <tr>\n",
       "      <th>4</th>\n",
       "      <td>2021</td>\n",
       "      <td>Alfa Romeo</td>\n",
       "      <td>Stelvio</td>\n",
       "      <td>42350.0</td>\n",
       "    </tr>\n",
       "    <tr>\n",
       "      <th>...</th>\n",
       "      <td>...</td>\n",
       "      <td>...</td>\n",
       "      <td>...</td>\n",
       "      <td>...</td>\n",
       "    </tr>\n",
       "    <tr>\n",
       "      <th>235</th>\n",
       "      <td>2021</td>\n",
       "      <td>Volvo</td>\n",
       "      <td>V60</td>\n",
       "      <td>40950.0</td>\n",
       "    </tr>\n",
       "    <tr>\n",
       "      <th>236</th>\n",
       "      <td>2021</td>\n",
       "      <td>Volkswagen</td>\n",
       "      <td>Tiguan</td>\n",
       "      <td>25245.0</td>\n",
       "    </tr>\n",
       "    <tr>\n",
       "      <th>237</th>\n",
       "      <td>2021</td>\n",
       "      <td>Volvo</td>\n",
       "      <td>XC40</td>\n",
       "      <td>33700.0</td>\n",
       "    </tr>\n",
       "    <tr>\n",
       "      <th>238</th>\n",
       "      <td>2021</td>\n",
       "      <td>Volvo</td>\n",
       "      <td>XC60</td>\n",
       "      <td>41700.0</td>\n",
       "    </tr>\n",
       "    <tr>\n",
       "      <th>239</th>\n",
       "      <td>2021</td>\n",
       "      <td>Volvo</td>\n",
       "      <td>XC90</td>\n",
       "      <td>49000.0</td>\n",
       "    </tr>\n",
       "  </tbody>\n",
       "</table>\n",
       "<p>240 rows × 4 columns</p>\n",
       "</div>"
      ],
      "text/plain": [
       "     Year        Make    Model    Price\n",
       "0    2021       Acura      ILX      NaN\n",
       "1    2021       Acura      RDX      NaN\n",
       "2    2021       Acura      TLX  37500.0\n",
       "3    2021  Alfa Romeo   Giulia  40350.0\n",
       "4    2021  Alfa Romeo  Stelvio  42350.0\n",
       "..    ...         ...      ...      ...\n",
       "235  2021       Volvo      V60  40950.0\n",
       "236  2021  Volkswagen   Tiguan  25245.0\n",
       "237  2021       Volvo     XC40  33700.0\n",
       "238  2021       Volvo     XC60  41700.0\n",
       "239  2021       Volvo     XC90  49000.0\n",
       "\n",
       "[240 rows x 4 columns]"
      ]
     },
     "metadata": {},
     "output_type": "display_data"
    },
    {
     "data": {
      "text/html": [
       "<div>\n",
       "<style scoped>\n",
       "    .dataframe tbody tr th:only-of-type {\n",
       "        vertical-align: middle;\n",
       "    }\n",
       "\n",
       "    .dataframe tbody tr th {\n",
       "        vertical-align: top;\n",
       "    }\n",
       "\n",
       "    .dataframe thead th {\n",
       "        text-align: right;\n",
       "    }\n",
       "</style>\n",
       "<table border=\"1\" class=\"dataframe\">\n",
       "  <thead>\n",
       "    <tr style=\"text-align: right;\">\n",
       "      <th></th>\n",
       "      <th>Year</th>\n",
       "      <th>Make</th>\n",
       "      <th>Model</th>\n",
       "      <th>Price</th>\n",
       "    </tr>\n",
       "  </thead>\n",
       "  <tbody>\n",
       "    <tr>\n",
       "      <th>2</th>\n",
       "      <td>2021</td>\n",
       "      <td>Acura</td>\n",
       "      <td>TLX</td>\n",
       "      <td>37500.0</td>\n",
       "    </tr>\n",
       "    <tr>\n",
       "      <th>3</th>\n",
       "      <td>2021</td>\n",
       "      <td>Alfa Romeo</td>\n",
       "      <td>Giulia</td>\n",
       "      <td>40350.0</td>\n",
       "    </tr>\n",
       "    <tr>\n",
       "      <th>4</th>\n",
       "      <td>2021</td>\n",
       "      <td>Alfa Romeo</td>\n",
       "      <td>Stelvio</td>\n",
       "      <td>42350.0</td>\n",
       "    </tr>\n",
       "    <tr>\n",
       "      <th>5</th>\n",
       "      <td>2021</td>\n",
       "      <td>Audi</td>\n",
       "      <td>A6 allroad</td>\n",
       "      <td>65900.0</td>\n",
       "    </tr>\n",
       "    <tr>\n",
       "      <th>6</th>\n",
       "      <td>2021</td>\n",
       "      <td>Audi</td>\n",
       "      <td>A7</td>\n",
       "      <td>69200.0</td>\n",
       "    </tr>\n",
       "    <tr>\n",
       "      <th>...</th>\n",
       "      <td>...</td>\n",
       "      <td>...</td>\n",
       "      <td>...</td>\n",
       "      <td>...</td>\n",
       "    </tr>\n",
       "    <tr>\n",
       "      <th>235</th>\n",
       "      <td>2021</td>\n",
       "      <td>Volvo</td>\n",
       "      <td>V60</td>\n",
       "      <td>40950.0</td>\n",
       "    </tr>\n",
       "    <tr>\n",
       "      <th>236</th>\n",
       "      <td>2021</td>\n",
       "      <td>Volkswagen</td>\n",
       "      <td>Tiguan</td>\n",
       "      <td>25245.0</td>\n",
       "    </tr>\n",
       "    <tr>\n",
       "      <th>237</th>\n",
       "      <td>2021</td>\n",
       "      <td>Volvo</td>\n",
       "      <td>XC40</td>\n",
       "      <td>33700.0</td>\n",
       "    </tr>\n",
       "    <tr>\n",
       "      <th>238</th>\n",
       "      <td>2021</td>\n",
       "      <td>Volvo</td>\n",
       "      <td>XC60</td>\n",
       "      <td>41700.0</td>\n",
       "    </tr>\n",
       "    <tr>\n",
       "      <th>239</th>\n",
       "      <td>2021</td>\n",
       "      <td>Volvo</td>\n",
       "      <td>XC90</td>\n",
       "      <td>49000.0</td>\n",
       "    </tr>\n",
       "  </tbody>\n",
       "</table>\n",
       "<p>238 rows × 4 columns</p>\n",
       "</div>"
      ],
      "text/plain": [
       "     Year        Make       Model    Price\n",
       "2    2021       Acura         TLX  37500.0\n",
       "3    2021  Alfa Romeo      Giulia  40350.0\n",
       "4    2021  Alfa Romeo     Stelvio  42350.0\n",
       "5    2021        Audi  A6 allroad  65900.0\n",
       "6    2021        Audi          A7  69200.0\n",
       "..    ...         ...         ...      ...\n",
       "235  2021       Volvo         V60  40950.0\n",
       "236  2021  Volkswagen      Tiguan  25245.0\n",
       "237  2021       Volvo        XC40  33700.0\n",
       "238  2021       Volvo        XC60  41700.0\n",
       "239  2021       Volvo        XC90  49000.0\n",
       "\n",
       "[238 rows x 4 columns]"
      ]
     },
     "metadata": {},
     "output_type": "display_data"
    }
   ],
   "source": [
    "display(car_df)\n",
    "\n",
    "car_df_drop= car_df.dropna(axis = 0, how = \"any\")\n",
    "display(car_df_drop)"
   ]
  },
  {
   "cell_type": "code",
   "execution_count": 57,
   "id": "165187ca-6dee-424a-bac5-a1f01b7742be",
   "metadata": {},
   "outputs": [
    {
     "data": {
      "text/plain": [
       "Year     0\n",
       "Make     0\n",
       "Model    0\n",
       "Price    0\n",
       "dtype: int64"
      ]
     },
     "execution_count": 57,
     "metadata": {},
     "output_type": "execute_result"
    }
   ],
   "source": [
    "car_df_drop.isnull().sum()"
   ]
  },
  {
   "cell_type": "code",
   "execution_count": null,
   "id": "28e6bb07-7b87-4352-b754-5dccfa32ac9f",
   "metadata": {},
   "outputs": [],
   "source": [
    "# Detect car models that can be considered as outliers in terms of their selling price\n",
    "import matplotlib.pyplot as plt\n",
    "plt.boxplot(car_df_drop)\n",
    "plt.show()"
   ]
  },
  {
   "cell_type": "code",
   "execution_count": null,
   "id": "a2773f5d-ad75-4739-870e-1e89f9f61488",
   "metadata": {},
   "outputs": [],
   "source": [
    "q1 = car_df_drop[\"Price\"].quantile(q = 0.25)\n",
    "q3 = car_df_drop[\"Price\"].quantile(q = 0.75)\n",
    "\n",
    "iqr = q3 - q1\n",
    "print(q1)\n",
    "print(q3)\n",
    "\n",
    "print(iqr)"
   ]
  },
  {
   "cell_type": "code",
   "execution_count": 58,
   "id": "ca606edc-e7a3-4ca1-a1d1-b288035fcdce",
   "metadata": {},
   "outputs": [
    {
     "data": {
      "text/plain": [
       "11                             S6\n",
       "16                             X7\n",
       "23                       Escalade\n",
       "24                   Escalade ESV\n",
       "41     Silverado 3500 HD Crew Cab\n",
       "130                   Range Rover\n",
       "136                            LC\n",
       "137                            LS\n",
       "138                            LX\n",
       "146                     Navigator\n",
       "147                   Navigator L\n",
       "159                       G-Class\n",
       "164          Mercedes-AMG G-Class\n",
       "181                    718 Spyder\n",
       "182                           911\n",
       "184                        Taycan\n",
       "185                      Panamera\n",
       "186                 Cayenne Coupe\n",
       "192                           R1S\n",
       "194                           R1T\n",
       "202                       Model X\n",
       "215                  Land Cruiser\n",
       "Name: Model, dtype: object"
      ]
     },
     "execution_count": 58,
     "metadata": {},
     "output_type": "execute_result"
    }
   ],
   "source": [
    "cond1 = car_df_drop[\"Price\"] < (q1 - 1.5*iqr)\n",
    "cond2 = car_df_drop[\"Price\"] > (q3 + 1.5*iqr)\n",
    "\n",
    "car_outlier_df = car_df_drop[ cond1 | cond2 ]\n",
    "car_outlier_df[\"Model\"]"
   ]
  },
  {
   "cell_type": "code",
   "execution_count": null,
   "id": "ae21220d-12a7-4ba7-b26e-3a2eb9f31890",
   "metadata": {},
   "outputs": [],
   "source": [
    "car_df[\"SGD price\"]=car_df[\"Price\"*1.5]\n",
    "display(car_df)"
   ]
  },
  {
   "cell_type": "code",
   "execution_count": null,
   "id": "bddc13e0-6fa9-494e-9759-407ed35ca58d",
   "metadata": {},
   "outputs": [],
   "source": []
  },
  {
   "cell_type": "code",
   "execution_count": null,
   "id": "54401bb1-a7b7-418e-aa6b-a6d63641ee6c",
   "metadata": {},
   "outputs": [],
   "source": []
  },
  {
   "cell_type": "code",
   "execution_count": null,
   "id": "e6034493-b63c-4365-98c9-2fade0197bdc",
   "metadata": {},
   "outputs": [],
   "source": []
  },
  {
   "cell_type": "code",
   "execution_count": null,
   "id": "f02d179d-c129-42e8-bea2-779a317b80eb",
   "metadata": {},
   "outputs": [],
   "source": []
  }
 ],
 "metadata": {
  "kernelspec": {
   "display_name": "Python 3 (ipykernel)",
   "language": "python",
   "name": "python3"
  },
  "language_info": {
   "codemirror_mode": {
    "name": "ipython",
    "version": 3
   },
   "file_extension": ".py",
   "mimetype": "text/x-python",
   "name": "python",
   "nbconvert_exporter": "python",
   "pygments_lexer": "ipython3",
   "version": "3.9.12"
  }
 },
 "nbformat": 4,
 "nbformat_minor": 5
}
