{
 "cells": [
  {
   "cell_type": "code",
   "execution_count": null,
   "id": "c1afdca0-9405-47c3-aa4b-a85889e00a85",
   "metadata": {},
   "outputs": [],
   "source": []
  },
  {
   "cell_type": "code",
   "execution_count": null,
   "id": "3991ba9c-c63a-4639-932d-e54039d053a5",
   "metadata": {},
   "outputs": [],
   "source": [
    "\"\"\"\n",
    "import random\n",
    "\n",
    "print(\"Welcome to your password generator!\")\n",
    "chars = 'abcdefghijklmnopqrstuvwxyzABCDEFGHIJKLMNOPQRSTUVWXYZ123456789!@#$%^&*()_-'\n",
    "\n",
    "length = input(\"Please input password length : \")\n",
    "length = int(length)\n",
    "\n",
    "\n",
    "print(\"\\nHere is your password : \")\n",
    "\n",
    "\n",
    "chosenLetter = random.sample(chars, length)\n",
    "password = \"\".join(chosenLetter)\n",
    "    \n",
    "print(password,end=\"\")\n",
    "    "
   ]
  },
  {
   "cell_type": "code",
   "execution_count": null,
   "id": "15a93ae3-50c9-4ba9-8ad2-3bbe91bcc96d",
   "metadata": {},
   "outputs": [],
   "source": [
    "import random\n",
    "\n",
    "print(\"Welcome to your password generator!\")\n",
    "chars = 'abcdefghijklmnopqrstuvwxyzABCDEFGHIJKLMNOPQRSTUVWXYZ123456789!@#$%^&*()_-' #create a string of characters to use to generate password\n",
    "\n",
    "usersChoice = input( \"\\nPlease enter 'yes' if you want to generate a password else type 'no' to exit: \") #asks user if they want to generate password, or exit\n",
    "if usersChoice == 'no':\n",
    "    exit()\n",
    "\n",
    "else :\n",
    "    length = input(\"Enter the length of the password : \")\n",
    "    length = int(length)     #ensures user's input is converted to an int\n",
    "    password = ''            #create an empty string called password to store the generated password\n",
    "    \n",
    "    for pwd in range(length):\n",
    "        password = password + random.choice(chars) #use for loop to choose random characters in char list and put them in password string\n",
    "    \n",
    "    print(\"\\nHere is your password : \")\n",
    "    print(password)\n",
    "\n",
    "print(\"\\nThank you for using Password Generator!\")"
   ]
  },
  {
   "cell_type": "code",
   "execution_count": null,
   "id": "c3021592-14b1-47f1-99d9-d33248052d0f",
   "metadata": {},
   "outputs": [],
   "source": [
    "import random\n",
    "\n",
    "print(\"Welcome to your password generator!\")\n",
    "\n",
    "def generatePassword(n):    #create a user-defined method to generatePassword, passing parameter n as the length of the password\n",
    "\n",
    "    chars = \"abcdefghijklmnopqrstuvwxyzABCDEFGHIJKLMNOPQRSTUVWXYZ123456789!@#$%^&*()_-\" #create a string of characters to use to generate password\n",
    "\n",
    "    password = \"\".join(random.sample(chars,n))   #use random.sample to generate a set of randomised characters from char list\n",
    "\n",
    "    return password  #returns password as string\n",
    "\n",
    "\n",
    "usersChoice = input( \"\\nPlease enter 'yes' if you want to generate a password else type 'no' to exit: \") \n",
    "if usersChoice == 'no':\n",
    "    exit()\n",
    "\n",
    "else :\n",
    "    length = int(input(\"Enter the length of the password: \"))  #ensures user's input is converted to an int\n",
    "    createdPwd = generatePassword(length)                      #uses generatePassword method to create password and store as newpassword\n",
    "\n",
    "print(\"\\nHere is your password:\", createdPwd)\n",
    "print(\"\\nThank you for using Password Generator!\")"
   ]
  },
  {
   "cell_type": "code",
   "execution_count": null,
   "id": "c5273211-9ecc-43f1-be8a-4343b4886408",
   "metadata": {},
   "outputs": [],
   "source": [
    "import random\n",
    "import string\n",
    "\n",
    "characters = string.ascii_letters + string.digits + string.punctuation\n",
    "\n",
    "digitsCount = 2\n",
    "specialcharCount = 2\n",
    "\n",
    "def generatePassword(n):     #create a user-defined method to generatePassword, passing parameter n as the length of the password\n",
    "\n",
    "    password = \"\" \n",
    "    \n",
    "    for dc in range(digitsCount):\n",
    "        password = password + random.choice(string.digits)\n",
    "\n",
    "    for sc in range(specialcharCount):\n",
    "        password = password + random.choice(string.punctuation)\n",
    "\n",
    "    for pwd in range(n - digitsCount - specialcharCount):\n",
    "        password = password + random.choice(string.ascii_letters)\n",
    "        \n",
    "    passwordList = list(password)\n",
    "        \n",
    "    random.shuffle(passwordList)\n",
    "    \n",
    "    return \"\".join(passwordList)  #returns password as string\n",
    "\n",
    "print(\"Welcome to your password generator!\")\n",
    "\n",
    "usersChoice = input(f\"\\nPlease enter 'yes' if you want to generate a password else type 'no' to exit: \")\n",
    "if usersChoice == 'no':\n",
    "    exit()\n",
    "\n",
    "elif usersChoice == 'yes' :\n",
    "    length = int(input(f\"Enter the length of the password: \"))  #ensures user's input is converted to an int\n",
    " \n",
    "    createdPwd = generatePassword(length)                      #uses generatePassword method to create password and store as newpassword\n",
    "\n",
    "    print(f\"\\nHere is your password: {createdPwd} \")\n",
    "    print(f\"\\nThank you for using Password Generator!\")"
   ]
  },
  {
   "cell_type": "code",
   "execution_count": 2,
   "id": "05357412-c635-438c-8ec0-9604ea6997c2",
   "metadata": {},
   "outputs": [
    {
     "name": "stdout",
     "output_type": "stream",
     "text": [
      "We have a list of products here : ['laptop', 'mouse', 'webcam', 'keyboard', 'speaker'].\n"
     ]
    },
    {
     "name": "stdin",
     "output_type": "stream",
     "text": [
      "Hello! What do you want to buy? jjj\n"
     ]
    },
    {
     "name": "stdout",
     "output_type": "stream",
     "text": [
      "Wrong product! Please try again.\n",
      "This is our updated shopping list: []\n"
     ]
    }
   ],
   "source": [
    "products = ['laptop', 'mouse', 'webcam', 'keyboard', 'speaker']\n",
    "query = 'yes'\n",
    "updated_items = []\n",
    "print(f'We have a list of products here : {products}.')\n",
    "\n",
    "while query == 'yes':\n",
    "    item = str(input(\"Hello! What do you want to buy?\"))\n",
    "    if item not in products:\n",
    "        print(f'Wrong product! Please try again.')\n",
    "        break\n",
    "    price_of_item = input(\"How much is it (in SGD)? \")\n",
    "    entered_input = [item, price_of_item]\n",
    "    updated_items.append(entered_input)\n",
    "    query = str(input(\"Would you like to continue? (yes/no)\"))\n",
    "print(f\"This is our updated shopping list: {updated_items}\")"
   ]
  },
  {
   "cell_type": "code",
   "execution_count": 4,
   "id": "b5395759-0e23-4787-820a-0c5f9cf78e12",
   "metadata": {},
   "outputs": [
    {
     "name": "stdout",
     "output_type": "stream",
     "text": [
      "We have a list of products here : ['laptop', 'mouse', 'webcam', 'keyboard', 'speaker'].\n"
     ]
    },
    {
     "name": "stdin",
     "output_type": "stream",
     "text": [
      "Hello! What do you want to buy? laptop\n",
      "How much is it (in SGD)?  1200.86\n",
      "Would you like to continue? (yes/no) yes\n"
     ]
    },
    {
     "name": "stdout",
     "output_type": "stream",
     "text": [
      "This is our updated shopping list: [['laptop', 1200.86]]\n"
     ]
    },
    {
     "name": "stdin",
     "output_type": "stream",
     "text": [
      "Hello! What do you want to buy? speaker\n",
      "How much is it (in SGD)?  80.99\n",
      "Would you like to continue? (yes/no) no\n"
     ]
    },
    {
     "name": "stdout",
     "output_type": "stream",
     "text": [
      "This is our updated shopping list: [['laptop', 1200.86], ['speaker', 80.99]]\n"
     ]
    }
   ],
   "source": [
    "products_list = ['laptop', 'mouse', 'webcam', 'keyboard', 'speaker']  #create a list of products to buy\n",
    "shopping_list = []  #create an empty shopping list\n",
    "query = 'yes'\n",
    "\n",
    "print(f\"We have a list of products here : {products_list}.\")  #print product list\n",
    "\n",
    "while query == 'yes':\n",
    "    item_input = str(input(\"Hello! What do you want to buy?\"))\n",
    "    \n",
    "    if item_input not in products_list:\n",
    "        print(f\"Wrong product! Please try again.\")\n",
    "        break\n",
    "    \n",
    "    price_of_item = float(input(\"How much is it (in SGD)? \"))  #input is converted to float\n",
    "   \n",
    "    item_price_list = [item_input, price_of_item]  #creates a list to store item input and price of item\n",
    "    shopping_list.append(item_price_list)  #appends shopping list \n",
    "    \n",
    "    query = str(input(\"Would you like to continue? (yes/no)\"))\n",
    "    \n",
    "    print(f\"This is our updated shopping list: {shopping_list}\")  #prints out shopping list"
   ]
  },
  {
   "cell_type": "code",
   "execution_count": null,
   "id": "69951ea7-74f4-4c30-9fe3-050f52cacbee",
   "metadata": {},
   "outputs": [],
   "source": []
  }
 ],
 "metadata": {
  "kernelspec": {
   "display_name": "Python 3 (ipykernel)",
   "language": "python",
   "name": "python3"
  },
  "language_info": {
   "codemirror_mode": {
    "name": "ipython",
    "version": 3
   },
   "file_extension": ".py",
   "mimetype": "text/x-python",
   "name": "python",
   "nbconvert_exporter": "python",
   "pygments_lexer": "ipython3",
   "version": "3.9.12"
  }
 },
 "nbformat": 4,
 "nbformat_minor": 5
}
