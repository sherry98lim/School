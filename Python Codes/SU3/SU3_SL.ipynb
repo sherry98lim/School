{
 "cells": [
  {
   "cell_type": "code",
   "execution_count": 1,
   "id": "f206dabc-9edf-451f-a3c9-98ea77140845",
   "metadata": {},
   "outputs": [],
   "source": [
    "import numpy as np"
   ]
  },
  {
   "cell_type": "code",
   "execution_count": 2,
   "id": "698a087b-359d-48f5-93f1-35600968de67",
   "metadata": {},
   "outputs": [
    {
     "name": "stdout",
     "output_type": "stream",
     "text": [
      "Requirement already satisfied: numpy in c:\\users\\sherr\\miniconda3\\lib\\site-packages (1.25.2)\n"
     ]
    }
   ],
   "source": [
    "!pip install numpy"
   ]
  },
  {
   "cell_type": "code",
   "execution_count": 3,
   "id": "81a52871-3740-4eb7-90f9-c565d58b9d7c",
   "metadata": {},
   "outputs": [
    {
     "data": {
      "text/plain": [
       "'1.25.2'"
      ]
     },
     "execution_count": 3,
     "metadata": {},
     "output_type": "execute_result"
    }
   ],
   "source": [
    "np.__version__"
   ]
  },
  {
   "cell_type": "markdown",
   "id": "8ba76850-e721-449a-b408-79d8dda906ee",
   "metadata": {},
   "source": [
    "# Numpy Array Examples"
   ]
  },
  {
   "cell_type": "code",
   "execution_count": 34,
   "id": "22acea45-33b9-45b0-9d72-fd74ec170967",
   "metadata": {
    "tags": []
   },
   "outputs": [],
   "source": [
    "fruits = ['apple', 'banana', 'orange']  #this is a list"
   ]
  },
  {
   "cell_type": "code",
   "execution_count": 35,
   "id": "82aff11a-3477-4d2d-ab63-9711b3afc638",
   "metadata": {},
   "outputs": [],
   "source": [
    "vegetables = ['lettuce', 'tomato', 'cabbage']"
   ]
  },
  {
   "cell_type": "code",
   "execution_count": 36,
   "id": "03a06b1d-cf72-4410-8196-61b469ccb9c5",
   "metadata": {},
   "outputs": [
    {
     "name": "stdout",
     "output_type": "stream",
     "text": [
      "<class 'list'> <class 'list'>\n"
     ]
    }
   ],
   "source": [
    "print(type(fruits), type(vegetables))"
   ]
  },
  {
   "cell_type": "code",
   "execution_count": 37,
   "id": "f11911e2-d6ec-4e59-b9b3-46e0af8c7eee",
   "metadata": {},
   "outputs": [
    {
     "data": {
      "text/plain": [
       "array([['apple', 'banana', 'orange'],\n",
       "       ['lettuce', 'tomato', 'cabbage']], dtype='<U7')"
      ]
     },
     "execution_count": 37,
     "metadata": {},
     "output_type": "execute_result"
    }
   ],
   "source": [
    "# create a 2D numpy array\n",
    "\n",
    "fruits_vegetables = np.array( [fruits,vegetables] )\n",
    "\n",
    "fruits_vegetables"
   ]
  },
  {
   "cell_type": "code",
   "execution_count": 38,
   "id": "d426029e-aefb-4aee-8bc9-280c20c05c87",
   "metadata": {},
   "outputs": [
    {
     "data": {
      "text/plain": [
       "numpy.ndarray"
      ]
     },
     "execution_count": 38,
     "metadata": {},
     "output_type": "execute_result"
    }
   ],
   "source": [
    "type(fruits_vegetables)"
   ]
  },
  {
   "cell_type": "code",
   "execution_count": 11,
   "id": "82077230-90e8-4ace-b87f-a1b99677151d",
   "metadata": {},
   "outputs": [
    {
     "data": {
      "text/plain": [
       "[['apple', 'banana', 'orange'], ['lettuce', 'tomato', 'cabbage']]"
      ]
     },
     "execution_count": 11,
     "metadata": {},
     "output_type": "execute_result"
    }
   ],
   "source": [
    "fruits_vegetables_2Dlist = [ fruits,vegetables ]\n",
    "fruits_vegetables_2Dlist"
   ]
  },
  {
   "cell_type": "code",
   "execution_count": 12,
   "id": "070d6048-9ce0-4f76-b629-365581fbd13b",
   "metadata": {},
   "outputs": [
    {
     "data": {
      "text/plain": [
       "list"
      ]
     },
     "execution_count": 12,
     "metadata": {},
     "output_type": "execute_result"
    }
   ],
   "source": [
    "type(fruits_vegetables_2Dlist)"
   ]
  },
  {
   "cell_type": "code",
   "execution_count": 14,
   "id": "ed4bd92e-71fe-4333-8895-e5ea5e45d6b9",
   "metadata": {},
   "outputs": [
    {
     "data": {
      "text/plain": [
       "'orange'"
      ]
     },
     "execution_count": 14,
     "metadata": {},
     "output_type": "execute_result"
    }
   ],
   "source": [
    "\n",
    "fruits_vegetables[0][2]\n",
    "\n",
    "fruits_vegetables[0,2]  #numpy array can use comma\n"
   ]
  },
  {
   "cell_type": "code",
   "execution_count": 15,
   "id": "3663f570-e069-4048-b519-bae421bd037f",
   "metadata": {},
   "outputs": [
    {
     "data": {
      "text/plain": [
       "'orange'"
      ]
     },
     "execution_count": 15,
     "metadata": {},
     "output_type": "execute_result"
    }
   ],
   "source": [
    "fruits_vegetables_2Dlist[0][2]"
   ]
  },
  {
   "cell_type": "code",
   "execution_count": 16,
   "id": "8ae67189-22c0-46b6-9e4c-aa678bac3c41",
   "metadata": {},
   "outputs": [
    {
     "data": {
      "text/plain": [
       "'banana'"
      ]
     },
     "execution_count": 16,
     "metadata": {},
     "output_type": "execute_result"
    }
   ],
   "source": [
    "# first row, 2nd column in 2D array\n",
    "\n",
    "fruits_vegetables[0,1]"
   ]
  },
  {
   "cell_type": "code",
   "execution_count": 19,
   "id": "84e6c917-b096-469f-8660-9ec3b61dd1d5",
   "metadata": {},
   "outputs": [
    {
     "data": {
      "text/plain": [
       "'cabbage'"
      ]
     },
     "execution_count": 19,
     "metadata": {},
     "output_type": "execute_result"
    }
   ],
   "source": [
    "# does -ve index work?\n",
    "fruits_vegetables[-1,-1]\n",
    "fruits_vegetables[1,-1]"
   ]
  },
  {
   "cell_type": "code",
   "execution_count": 28,
   "id": "6f8214ce-609b-4b94-9acd-c11b6abb6d64",
   "metadata": {},
   "outputs": [],
   "source": [
    "fruits_price = [0.5, 0.7, 0.9]"
   ]
  },
  {
   "cell_type": "code",
   "execution_count": 29,
   "id": "a01a81fa-a1b3-47cb-9474-aad2f58c725c",
   "metadata": {},
   "outputs": [],
   "source": [
    "vegetables_price = [1.5, 1.7, 1.9]"
   ]
  },
  {
   "cell_type": "code",
   "execution_count": 40,
   "id": "3f50613c-1ede-49d3-af84-317b7e89c1c7",
   "metadata": {},
   "outputs": [
    {
     "data": {
      "text/plain": [
       "array([['apple', 'banana', 'orange'],\n",
       "       ['0.5', '0.7', '0.9'],\n",
       "       ['lettuce', 'tomato', 'cabbage'],\n",
       "       ['1.5', '1.7', '1.9']], dtype='<U32')"
      ]
     },
     "execution_count": 40,
     "metadata": {},
     "output_type": "execute_result"
    }
   ],
   "source": [
    "fruits_vegetables_price = np.array( [fruits, fruits_price, vegetables, vegetables_price] )\n",
    "\n",
    "fruits_vegetables_price\n",
    "\n",
    "# all the elements are string, cannot mix"
   ]
  },
  {
   "cell_type": "code",
   "execution_count": 41,
   "id": "ce496c4d-8c16-4d92-9294-70b4fc6d613b",
   "metadata": {},
   "outputs": [
    {
     "data": {
      "text/plain": [
       "array([[0.5, 0.7, 0.9],\n",
       "       [1.5, 1.7, 1.9]])"
      ]
     },
     "execution_count": 41,
     "metadata": {},
     "output_type": "execute_result"
    }
   ],
   "source": [
    "fruits_vegetables_prices = np.array( [fruits_price, vegetables_price])\n",
    "fruits_vegetables_prices\n",
    "\n",
    "#all the elements are int"
   ]
  },
  {
   "cell_type": "markdown",
   "id": "09463e0c-7d86-4a28-bb4d-b6085b5e74fa",
   "metadata": {},
   "source": [
    "# Array Properties"
   ]
  },
  {
   "cell_type": "code",
   "execution_count": 43,
   "id": "d1424611-fedb-40d4-ab6c-d93fc142ff82",
   "metadata": {},
   "outputs": [
    {
     "data": {
      "text/plain": [
       "2"
      ]
     },
     "execution_count": 43,
     "metadata": {},
     "output_type": "execute_result"
    }
   ],
   "source": [
    "fruits_vegetables.ndim #number of dimensions in array"
   ]
  },
  {
   "cell_type": "code",
   "execution_count": 45,
   "id": "c3f7f718-0b9f-49e0-b226-a1ff50dcc1d4",
   "metadata": {},
   "outputs": [
    {
     "data": {
      "text/plain": [
       "(2, 3)"
      ]
     },
     "execution_count": 45,
     "metadata": {},
     "output_type": "execute_result"
    }
   ],
   "source": [
    "fruits_vegetables.shape   #rows, columns"
   ]
  },
  {
   "cell_type": "code",
   "execution_count": 46,
   "id": "a4f5e715-45f8-4ad1-a490-749a5be58b96",
   "metadata": {},
   "outputs": [
    {
     "data": {
      "text/plain": [
       "6"
      ]
     },
     "execution_count": 46,
     "metadata": {},
     "output_type": "execute_result"
    }
   ],
   "source": [
    "fruits_vegetables.size   #total number of items"
   ]
  },
  {
   "cell_type": "code",
   "execution_count": 47,
   "id": "38d72842-1216-454d-b64d-cf41d5d9f29e",
   "metadata": {},
   "outputs": [
    {
     "data": {
      "text/plain": [
       "dtype('<U7')"
      ]
     },
     "execution_count": 47,
     "metadata": {},
     "output_type": "execute_result"
    }
   ],
   "source": [
    "fruits_vegetables.dtype   #type of the items stored"
   ]
  },
  {
   "cell_type": "code",
   "execution_count": 48,
   "id": "1ca06028-ea3a-471c-b425-ab11e3d009dc",
   "metadata": {},
   "outputs": [
    {
     "data": {
      "text/plain": [
       "array([0.62463958, 0.93941474, 0.79246737, 0.47150366, 0.54584296])"
      ]
     },
     "execution_count": 48,
     "metadata": {},
     "output_type": "execute_result"
    }
   ],
   "source": [
    "new_array1 = np.random.ranf(5)\n",
    "new_array1"
   ]
  },
  {
   "cell_type": "code",
   "execution_count": null,
   "id": "d44b4215-a70a-45bb-a25c-5d5da7f8cc4d",
   "metadata": {},
   "outputs": [],
   "source": []
  },
  {
   "cell_type": "markdown",
   "id": "31d331a0-88ea-44f0-a54d-1a0d2e76da36",
   "metadata": {},
   "source": [
    "# Work with numpy arrays"
   ]
  },
  {
   "cell_type": "code",
   "execution_count": 50,
   "id": "827fd403-8376-430d-836a-f5d2fd4bda2f",
   "metadata": {},
   "outputs": [
    {
     "data": {
      "text/plain": [
       "array([[  10,   20,   30,   40],\n",
       "       [1000, 2000, 3000, 4000]])"
      ]
     },
     "execution_count": 50,
     "metadata": {},
     "output_type": "execute_result"
    }
   ],
   "source": [
    "# axis\n",
    "\n",
    "n1 = [10,20,30,40]\n",
    "n2= [1000,2000,3000,4000]\n",
    "\n",
    "nArr = np.array([n1,n2])\n",
    "\n",
    "nArr"
   ]
  },
  {
   "cell_type": "code",
   "execution_count": 53,
   "id": "ab1b3e6a-17c4-4286-851c-be1ed258e7b5",
   "metadata": {},
   "outputs": [
    {
     "data": {
      "text/plain": [
       "1262.5"
      ]
     },
     "execution_count": 53,
     "metadata": {},
     "output_type": "execute_result"
    }
   ],
   "source": [
    "nArr.mean()"
   ]
  },
  {
   "cell_type": "code",
   "execution_count": 55,
   "id": "932d17c9-9d74-46c1-bdc5-fb98293c4072",
   "metadata": {
    "tags": []
   },
   "outputs": [
    {
     "data": {
      "text/plain": [
       "3990"
      ]
     },
     "execution_count": 55,
     "metadata": {},
     "output_type": "execute_result"
    }
   ],
   "source": [
    "range = nArr.max() - nArr.min()\n",
    "range"
   ]
  },
  {
   "cell_type": "code",
   "execution_count": 59,
   "id": "a618ea5f-9f59-4730-9067-7f5d6148075e",
   "metadata": {},
   "outputs": [
    {
     "data": {
      "text/plain": [
       "2250.0"
      ]
     },
     "execution_count": 59,
     "metadata": {},
     "output_type": "execute_result"
    }
   ],
   "source": [
    "Q3 = np.percentile(nArr,75)\n",
    "Q3"
   ]
  },
  {
   "cell_type": "code",
   "execution_count": 52,
   "id": "d531a733-7be4-43b1-8036-7a55132bfb41",
   "metadata": {},
   "outputs": [
    {
     "data": {
      "text/plain": [
       "array([ 505., 1010., 1515., 2020.])"
      ]
     },
     "execution_count": 52,
     "metadata": {},
     "output_type": "execute_result"
    }
   ],
   "source": [
    "nArr.mean(axis=0) #compute mean along the direction of rows ==> columns"
   ]
  },
  {
   "cell_type": "code",
   "execution_count": 60,
   "id": "20521e64-6276-417d-bdff-a010517be740",
   "metadata": {},
   "outputs": [
    {
     "data": {
      "text/plain": [
       "array([  25., 2500.])"
      ]
     },
     "execution_count": 60,
     "metadata": {},
     "output_type": "execute_result"
    }
   ],
   "source": [
    "nArr.mean(axis=1) #compute mean along the direction of cols ==> rows"
   ]
  },
  {
   "cell_type": "code",
   "execution_count": 67,
   "id": "31bf5ee9-9444-4e9e-b10f-78c835505430",
   "metadata": {},
   "outputs": [
    {
     "data": {
      "text/plain": [
       "10"
      ]
     },
     "execution_count": 67,
     "metadata": {},
     "output_type": "execute_result"
    }
   ],
   "source": [
    "#min of the first row\n",
    "\n",
    "nArr.min(axis=1)[0]\n",
    "\n",
    "nArr[0].min()"
   ]
  },
  {
   "cell_type": "markdown",
   "id": "dfbe5107-22e5-41ec-bf87-89a498622854",
   "metadata": {},
   "source": [
    "# Matplotlib"
   ]
  },
  {
   "cell_type": "code",
   "execution_count": null,
   "id": "4cee2c62-d831-47e6-b6d1-71a67c900654",
   "metadata": {},
   "outputs": [],
   "source": []
  },
  {
   "cell_type": "code",
   "execution_count": null,
   "id": "4ac63fd7-19dc-4a6c-9dd0-1fdd8e22335c",
   "metadata": {},
   "outputs": [],
   "source": []
  }
 ],
 "metadata": {
  "kernelspec": {
   "display_name": "Python 3 (ipykernel)",
   "language": "python",
   "name": "python3"
  },
  "language_info": {
   "codemirror_mode": {
    "name": "ipython",
    "version": 3
   },
   "file_extension": ".py",
   "mimetype": "text/x-python",
   "name": "python",
   "nbconvert_exporter": "python",
   "pygments_lexer": "ipython3",
   "version": "3.9.12"
  }
 },
 "nbformat": 4,
 "nbformat_minor": 5
}
