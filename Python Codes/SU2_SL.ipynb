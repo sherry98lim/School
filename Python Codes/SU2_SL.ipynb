{
 "cells": [
  {
   "cell_type": "markdown",
   "id": "11325bb6-c10f-49e6-9f04-c7dab55bf464",
   "metadata": {
    "tags": []
   },
   "source": [
    "# **SU2**"
   ]
  },
  {
   "cell_type": "code",
   "execution_count": 151,
   "id": "b25e00ed-8505-4afa-9621-526cc3d3d675",
   "metadata": {},
   "outputs": [],
   "source": [
    "fruits = (\"Apple\",\"Orange\", \"Banana\") #notice the round brackets"
   ]
  },
  {
   "cell_type": "code",
   "execution_count": 18,
   "id": "414143d9-3d61-4d58-bcf7-82e5fb23961e",
   "metadata": {},
   "outputs": [
    {
     "data": {
      "text/plain": [
       "tuple"
      ]
     },
     "execution_count": 18,
     "metadata": {},
     "output_type": "execute_result"
    }
   ],
   "source": [
    "type(fruits)"
   ]
  },
  {
   "cell_type": "code",
   "execution_count": 19,
   "id": "5818c8e8-8dcf-469f-9af4-fed16c36f0ff",
   "metadata": {},
   "outputs": [
    {
     "data": {
      "text/plain": [
       "('Apple', 'Orange', 'Banana')"
      ]
     },
     "execution_count": 19,
     "metadata": {},
     "output_type": "execute_result"
    }
   ],
   "source": [
    "fruits"
   ]
  },
  {
   "cell_type": "code",
   "execution_count": 20,
   "id": "909416ef-1bb7-4589-9970-39124e795ab3",
   "metadata": {},
   "outputs": [
    {
     "data": {
      "text/plain": [
       "'Banana'"
      ]
     },
     "execution_count": 20,
     "metadata": {},
     "output_type": "execute_result"
    }
   ],
   "source": [
    "fruits[2] #2 is the index, starts with 0"
   ]
  },
  {
   "cell_type": "code",
   "execution_count": 21,
   "id": "823f96ad-727a-4723-b4a7-d65f859e91ab",
   "metadata": {},
   "outputs": [
    {
     "data": {
      "text/plain": [
       "'Banana'"
      ]
     },
     "execution_count": 21,
     "metadata": {},
     "output_type": "execute_result"
    }
   ],
   "source": [
    "fruits[-1] #negative index"
   ]
  },
  {
   "cell_type": "code",
   "execution_count": 22,
   "id": "92602aa3-cdac-451e-aa58-87d8b4833139",
   "metadata": {},
   "outputs": [
    {
     "data": {
      "text/plain": [
       "('Apple', 'Orange')"
      ]
     },
     "execution_count": 22,
     "metadata": {},
     "output_type": "execute_result"
    }
   ],
   "source": [
    "fruits[0:2] #returns the index 0 , and not the index 2 element"
   ]
  },
  {
   "cell_type": "code",
   "execution_count": 23,
   "id": "c82fdb39-93a5-4943-a765-480f4f8d15f2",
   "metadata": {},
   "outputs": [
    {
     "data": {
      "text/plain": [
       "('Apple', 'Orange')"
      ]
     },
     "execution_count": 23,
     "metadata": {},
     "output_type": "execute_result"
    }
   ],
   "source": [
    "fruits[:2] #starting index assumed to be zero"
   ]
  },
  {
   "cell_type": "code",
   "execution_count": 24,
   "id": "f31258f1-1f0e-4fac-8751-217f04cd0b78",
   "metadata": {},
   "outputs": [
    {
     "data": {
      "text/plain": [
       "('Orange', 'Banana')"
      ]
     },
     "execution_count": 24,
     "metadata": {},
     "output_type": "execute_result"
    }
   ],
   "source": [
    "fruits [1:3]"
   ]
  },
  {
   "cell_type": "code",
   "execution_count": 25,
   "id": "c7201689-6053-483d-8057-b21191d0f117",
   "metadata": {},
   "outputs": [
    {
     "data": {
      "text/plain": [
       "('Orange', 'Banana')"
      ]
     },
     "execution_count": 25,
     "metadata": {},
     "output_type": "execute_result"
    }
   ],
   "source": [
    "fruits[1:]"
   ]
  },
  {
   "cell_type": "code",
   "execution_count": 26,
   "id": "75b72cf6-be19-40b8-8151-f5d3396b35af",
   "metadata": {},
   "outputs": [
    {
     "data": {
      "text/plain": [
       "('Apple', 'Orange', 'Banana')"
      ]
     },
     "execution_count": 26,
     "metadata": {},
     "output_type": "execute_result"
    }
   ],
   "source": [
    "fruits[:] #all the way, beginning to the end"
   ]
  },
  {
   "cell_type": "code",
   "execution_count": 27,
   "id": "52549ade-fd6d-427a-b3ed-2a263e737a17",
   "metadata": {},
   "outputs": [
    {
     "data": {
      "text/plain": [
       "('Apple', 'Orange')"
      ]
     },
     "execution_count": 27,
     "metadata": {},
     "output_type": "execute_result"
    }
   ],
   "source": [
    "fruits[-3:-1] #negative index, execept -2 index"
   ]
  },
  {
   "cell_type": "code",
   "execution_count": 28,
   "id": "5c8defc2-3b53-4dea-8368-107c60668a66",
   "metadata": {},
   "outputs": [
    {
     "data": {
      "text/plain": [
       "'Banana'"
      ]
     },
     "execution_count": 28,
     "metadata": {},
     "output_type": "execute_result"
    }
   ],
   "source": [
    "fruits[-1] #retrieve the last item"
   ]
  },
  {
   "cell_type": "code",
   "execution_count": 29,
   "id": "3c1c907e-13bf-46fe-8e9e-8619de3ff2d2",
   "metadata": {},
   "outputs": [
    {
     "data": {
      "text/plain": [
       "('Apple', 'Banana')"
      ]
     },
     "execution_count": 29,
     "metadata": {},
     "output_type": "execute_result"
    }
   ],
   "source": [
    "fruits[::2] #start to end, increment by 2, every 2 items"
   ]
  },
  {
   "cell_type": "markdown",
   "id": "2234d6c6-1bf6-4d66-8acd-3da2aebbe8d0",
   "metadata": {},
   "source": [
    "## **Immmutability**"
   ]
  },
  {
   "cell_type": "code",
   "execution_count": 30,
   "id": "e3f9d9e6-4a14-4ecb-8d93-e0d66fe8ef0d",
   "metadata": {},
   "outputs": [
    {
     "ename": "TypeError",
     "evalue": "'tuple' object does not support item assignment",
     "output_type": "error",
     "traceback": [
      "\u001b[1;31m---------------------------------------------------------------------------\u001b[0m",
      "\u001b[1;31mTypeError\u001b[0m                                 Traceback (most recent call last)",
      "Cell \u001b[1;32mIn[30], line 1\u001b[0m\n\u001b[1;32m----> 1\u001b[0m fruits[\u001b[38;5;241m0\u001b[39m] \u001b[38;5;241m=\u001b[39m \u001b[38;5;124m\"\u001b[39m\u001b[38;5;124mAvogado\u001b[39m\u001b[38;5;124m\"\u001b[39m\n",
      "\u001b[1;31mTypeError\u001b[0m: 'tuple' object does not support item assignment"
     ]
    }
   ],
   "source": [
    "fruits[0] = \"Avogado\""
   ]
  },
  {
   "cell_type": "code",
   "execution_count": 31,
   "id": "148ff02a-b7ff-423c-aa1c-e97831049be4",
   "metadata": {},
   "outputs": [
    {
     "name": "stdout",
     "output_type": "stream",
     "text": [
      "Fruit 1 is: Apple\n",
      "Fruit 2 is: Orange\n",
      "Fruit 3 is: Banana\n"
     ]
    }
   ],
   "source": [
    "i = 0                         #track fruit number\n",
    "for e in fruits:              #loop through the fruits tuple\n",
    "    i+=1                      #increment i\n",
    "    print(f\"Fruit {i} is: {e}\") #print out the fruit"
   ]
  },
  {
   "cell_type": "code",
   "execution_count": 32,
   "id": "fca53cf0-100a-42d3-b82e-d68e12054144",
   "metadata": {},
   "outputs": [
    {
     "name": "stdout",
     "output_type": "stream",
     "text": [
      "('Lilac', 'Rabbit', 6, 1.2, False, 'Grey')\n",
      "('Crystal', 'Mini Poodle', 11, 6.5, True, 'Brown')\n"
     ]
    }
   ],
   "source": [
    "# Let's create a tuple that contains information about your pet\n",
    "\n",
    "    #name, breed, age, weight,isAdopted, Colour\n",
    "myPet = (\"Lilac\", \"Rabbit\", 6, 1.2, False, \"Grey\")\n",
    "profPet = (\"Crystal\", \"Mini Poodle\", 11, 6.5, True, \"Brown\")\n",
    "\n",
    "print (myPet)\n",
    "print (profPet)"
   ]
  },
  {
   "cell_type": "code",
   "execution_count": 33,
   "id": "1abc5985-682f-4ebe-b946-b0a7ba88bf13",
   "metadata": {},
   "outputs": [
    {
     "name": "stdout",
     "output_type": "stream",
     "text": [
      "(('Lilac', 'Rabbit', 6, 1.2, False, 'Grey'), ('Crystal', 'Mini Poodle', 11, 6.5, True, 'Brown'))\n"
     ]
    }
   ],
   "source": [
    "classPetsTuple = (myPet, profPet)\n",
    "\n",
    "print(classPetsTuple)"
   ]
  },
  {
   "cell_type": "code",
   "execution_count": 34,
   "id": "86f90c50-2a72-4e97-a138-b326bd5d5358",
   "metadata": {},
   "outputs": [
    {
     "name": "stdout",
     "output_type": "stream",
     "text": [
      "('Crystal', 'Mini Poodle', 11, 6.5, True, 'Brown')\n",
      "Crystal\n"
     ]
    }
   ],
   "source": [
    "#retrieve name of Prof's Pet?\n",
    "print ( classPetsTuple[1] )\n",
    "\n",
    "print(classPetsTuple[1][0])"
   ]
  },
  {
   "cell_type": "code",
   "execution_count": 35,
   "id": "8677a401-f3df-4927-a781-2bb25324c8aa",
   "metadata": {},
   "outputs": [
    {
     "name": "stdout",
     "output_type": "stream",
     "text": [
      "2\n"
     ]
    }
   ],
   "source": [
    "print (len(classPetsTuple) ) #length of tuples"
   ]
  },
  {
   "cell_type": "code",
   "execution_count": 36,
   "id": "1ea5d18b-9f5d-4b4a-8ca9-99c22628da77",
   "metadata": {},
   "outputs": [
    {
     "name": "stdout",
     "output_type": "stream",
     "text": [
      "6\n"
     ]
    }
   ],
   "source": [
    "print (len(classPetsTuple[1]) )"
   ]
  },
  {
   "cell_type": "markdown",
   "id": "bcc0408f-7182-4c97-be31-0786f3630461",
   "metadata": {},
   "source": [
    "## **Lists**"
   ]
  },
  {
   "cell_type": "code",
   "execution_count": 159,
   "id": "6a4d9132-9344-4bda-aa6b-0141544a3b98",
   "metadata": {},
   "outputs": [
    {
     "name": "stdout",
     "output_type": "stream",
     "text": [
      "['Apple', 'Orange', 'Banana']\n"
     ]
    }
   ],
   "source": [
    "fruitsList = [\"Apple\", \"Orange\", \"Banana\"]   # notice the square brackets\n",
    "\n",
    "print(fruitsList)"
   ]
  },
  {
   "cell_type": "markdown",
   "id": "fce79aa7-7e90-4253-b57e-20d863f0f9b2",
   "metadata": {},
   "source": [
    "## **Subsetting**"
   ]
  },
  {
   "cell_type": "code",
   "execution_count": 42,
   "id": "d24e517d-2703-48ba-8f9e-4a630c7993c5",
   "metadata": {},
   "outputs": [
    {
     "name": "stdout",
     "output_type": "stream",
     "text": [
      "['Apple', 3.0, True, ('Apple', 'Orange', 'Banana')]\n"
     ]
    }
   ],
   "source": [
    "rojakList = [\"Apple\", 3.0, True, fruits]   # a lsit can contain many types of objects\n",
    "\n",
    "print (rojakList)"
   ]
  },
  {
   "cell_type": "code",
   "execution_count": 43,
   "id": "b0066183-56e3-4689-9384-9693ca56eb16",
   "metadata": {},
   "outputs": [
    {
     "data": {
      "text/plain": [
       "'Apple'"
      ]
     },
     "execution_count": 43,
     "metadata": {},
     "output_type": "execute_result"
    }
   ],
   "source": [
    " # how can i get apple from rojakList\n",
    "    \n",
    "rojakList[0]"
   ]
  },
  {
   "cell_type": "code",
   "execution_count": 46,
   "id": "9da9f87a-33b7-4022-82ed-a2cb9b2264ee",
   "metadata": {},
   "outputs": [
    {
     "data": {
      "text/plain": [
       "[3.0, True]"
      ]
     },
     "execution_count": 46,
     "metadata": {},
     "output_type": "execute_result"
    }
   ],
   "source": [
    "# how can i get subset of 2nd and 3rd element from rojackList?\n",
    "\n",
    "rojakList[1:3]"
   ]
  },
  {
   "cell_type": "code",
   "execution_count": 47,
   "id": "775feb75-12b4-43af-a83f-aaea0cb487be",
   "metadata": {},
   "outputs": [
    {
     "data": {
      "text/plain": [
       "('Apple', 'Orange', 'Banana')"
      ]
     },
     "execution_count": 47,
     "metadata": {},
     "output_type": "execute_result"
    }
   ],
   "source": [
    "# how can i get the tuple from rojakList?\n",
    "\n",
    "rojakList[-1]"
   ]
  },
  {
   "cell_type": "code",
   "execution_count": 51,
   "id": "40e6c2d7-f6a9-475f-814d-219a56d47308",
   "metadata": {},
   "outputs": [
    {
     "name": "stdout",
     "output_type": "stream",
     "text": [
      "Orange\n",
      "Orange\n"
     ]
    }
   ],
   "source": [
    "# how can i get only Orange from rojakList?\n",
    "\n",
    "print ( rojakList[-1][1] ) \n",
    "print ( rojakList[-1][-2] )"
   ]
  },
  {
   "cell_type": "markdown",
   "id": "0b8ecb25-627a-4a8b-b5af-2930807d03ff",
   "metadata": {},
   "source": [
    "## **Modify List**"
   ]
  },
  {
   "cell_type": "code",
   "execution_count": 53,
   "id": "4b9d1ce4-13bc-4006-bf57-6ab8ef32ff04",
   "metadata": {},
   "outputs": [
    {
     "name": "stdout",
     "output_type": "stream",
     "text": [
      "['Apple', 'Orange', 'Banana']\n"
     ]
    }
   ],
   "source": [
    "print(fruitsList)"
   ]
  },
  {
   "cell_type": "code",
   "execution_count": 54,
   "id": "61f211ca-4a2d-4e6c-9a4a-e2d36534d843",
   "metadata": {},
   "outputs": [
    {
     "data": {
      "text/plain": [
       "list"
      ]
     },
     "execution_count": 54,
     "metadata": {},
     "output_type": "execute_result"
    }
   ],
   "source": [
    "type(fruitsList)"
   ]
  },
  {
   "cell_type": "code",
   "execution_count": 56,
   "id": "7036cbe9-ed31-44ef-b0d4-bd70724e55b3",
   "metadata": {},
   "outputs": [
    {
     "name": "stdout",
     "output_type": "stream",
     "text": [
      "['Apple', 'Papaya', 'Banana']\n"
     ]
    }
   ],
   "source": [
    "fruitsList[1] = \"Papaya\"\n",
    "\n",
    "print(fruitsList)"
   ]
  },
  {
   "cell_type": "code",
   "execution_count": 57,
   "id": "30bc57b2-86e5-4723-8b81-11a99a87c77b",
   "metadata": {},
   "outputs": [
    {
     "name": "stdout",
     "output_type": "stream",
     "text": [
      "[['aa', 'bb', 'cc'], 'Papaya', 'Banana']\n"
     ]
    }
   ],
   "source": [
    "# replace Apple with a list [\"aa\", \"bb\", \"cc\"]\n",
    "\n",
    "fruitsList[0] = [\"aa\", \"bb\", \"cc\"]\n",
    "\n",
    "print(fruitsList)"
   ]
  },
  {
   "cell_type": "code",
   "execution_count": 63,
   "id": "cafbde6c-e46e-4871-9968-bbe78312d98e",
   "metadata": {},
   "outputs": [
    {
     "name": "stdout",
     "output_type": "stream",
     "text": [
      "['Apple']\n",
      "Apple\n",
      "['Papaya', 'Orange', 'Banana']\n"
     ]
    }
   ],
   "source": [
    "# note that you need to replace list with a list\n",
    "\n",
    "print (fruitsList[0:1])   # returns a list\n",
    "print (fruits[0])         # returns a string\n",
    "\n",
    "#fruitsList[0:1] = 'Apple'   #returns as individual item in list\n",
    "\n",
    "fruitsList[0:1] = [\"Papaya\"]\n",
    "\n",
    "print(fruitsList)"
   ]
  },
  {
   "cell_type": "markdown",
   "id": "44c28345-bf07-47ea-9670-681e32b28392",
   "metadata": {},
   "source": [
    "## **Concatenate Lists** \n",
    "### Adding lists together"
   ]
  },
  {
   "cell_type": "code",
   "execution_count": 64,
   "id": "6435c689-9cb2-4a0e-9005-886205203d3c",
   "metadata": {},
   "outputs": [
    {
     "data": {
      "text/plain": [
       "['Spinach', 'Lettuce', 'Cabbage']"
      ]
     },
     "execution_count": 64,
     "metadata": {},
     "output_type": "execute_result"
    }
   ],
   "source": [
    "vegetablesList = [\"Spinach\", \"Lettuce\", \"Cabbage\"]\n",
    "\n",
    "vegetablesList"
   ]
  },
  {
   "cell_type": "code",
   "execution_count": 67,
   "id": "c2301e89-dc20-4e7c-a1a8-360d4916ddd4",
   "metadata": {},
   "outputs": [
    {
     "name": "stdout",
     "output_type": "stream",
     "text": [
      "['Apple', 'Orange', 'Banana', 'Spinach', 'Lettuce', 'Cabbage']\n"
     ]
    }
   ],
   "source": [
    "print(fruitsList + vegetablesList)   # con"
   ]
  },
  {
   "cell_type": "markdown",
   "id": "1d9d705a-e681-4b26-83d5-4c3c90a9654d",
   "metadata": {},
   "source": [
    "### Merging Lists"
   ]
  },
  {
   "cell_type": "code",
   "execution_count": 68,
   "id": "096ebe22-7542-4f87-b820-011f4808625c",
   "metadata": {},
   "outputs": [
    {
     "name": "stdout",
     "output_type": "stream",
     "text": [
      "[['Apple', 'Orange', 'Banana'], ['Spinach', 'Lettuce', 'Cabbage']]\n"
     ]
    }
   ],
   "source": [
    "# how can I merge fruitsList and vegetablesList together?\n",
    "\n",
    "combinedList = [ fruitsList, vegetablesList ] \n",
    "\n",
    "print ( combinedList )"
   ]
  },
  {
   "cell_type": "code",
   "execution_count": 69,
   "id": "804ee315-48ed-489b-a087-2727de95a76a",
   "metadata": {},
   "outputs": [
    {
     "data": {
      "text/plain": [
       "2"
      ]
     },
     "execution_count": 69,
     "metadata": {},
     "output_type": "execute_result"
    }
   ],
   "source": [
    "len(combinedList)"
   ]
  },
  {
   "cell_type": "markdown",
   "id": "d48aef40-b007-4811-b602-18bcd0816049",
   "metadata": {},
   "source": [
    "### Looping through Lists"
   ]
  },
  {
   "cell_type": "code",
   "execution_count": 70,
   "id": "2de7157f-2a36-45b1-9096-2dacbc7ea275",
   "metadata": {},
   "outputs": [
    {
     "name": "stdout",
     "output_type": "stream",
     "text": [
      "Apple\n",
      "Orange\n",
      "Banana\n"
     ]
    }
   ],
   "source": [
    "# how to loop through fruitsList\n",
    "\n",
    "for fruit in fruitsList:\n",
    "    print(fruit)"
   ]
  },
  {
   "cell_type": "code",
   "execution_count": 87,
   "id": "2a425ad7-bf51-4bd5-8048-d8842dfb0c56",
   "metadata": {},
   "outputs": [
    {
     "name": "stdout",
     "output_type": "stream",
     "text": [
      "Apple\n",
      "Orange\n",
      "Banana\n",
      "Spinach\n",
      "Lettuce\n",
      "Cabbage\n"
     ]
    }
   ],
   "source": [
    "# how to loop through all individual elements in combinedList?\n",
    "\n",
    "for a in combinedList:    #nested loop\n",
    "    for item in a :\n",
    "        print(item)"
   ]
  },
  {
   "cell_type": "markdown",
   "id": "141f8797-7976-456f-b5ff-65db58b50b5b",
   "metadata": {},
   "source": [
    "### Mini Exercise"
   ]
  },
  {
   "cell_type": "code",
   "execution_count": 99,
   "id": "5641cbf1-1a0f-401a-8f2c-e2f03e6bf7b3",
   "metadata": {},
   "outputs": [
    {
     "name": "stdin",
     "output_type": "stream",
     "text": [
      "Enter a guess:  3\n",
      "Enter a guess:  5\n",
      "Enter a guess:  -99\n"
     ]
    },
    {
     "name": "stdout",
     "output_type": "stream",
     "text": [
      "[3, 5]\n"
     ]
    }
   ],
   "source": [
    "# implement what is in the slide\n",
    "\n",
    "# ask user to enter a guess\n",
    "# keep all the history of guesses in a list\n",
    "# quit when user enter -99\n",
    "\n",
    "historyList = []    #start with an empty list\n",
    "\n",
    "while True:\n",
    "    guess = int(input(\"Enter a guess: \"))\n",
    "    if guess == -99:                          #exit from the loop\n",
    "        break\n",
    "    else:                                     #add the guess\n",
    "        historyList = historyList + [guess]   #concat\n",
    "        #historyList.append(guess)\n",
    "print(historyList)\n"
   ]
  },
  {
   "cell_type": "markdown",
   "id": "6498af80-3ba8-4899-a673-3f0817381645",
   "metadata": {},
   "source": [
    "## **Dictionaries**"
   ]
  },
  {
   "cell_type": "code",
   "execution_count": 100,
   "id": "1112c756-c96c-417a-8350-8ceffe74b4d3",
   "metadata": {},
   "outputs": [
    {
     "name": "stdout",
     "output_type": "stream",
     "text": [
      "{'Apple': 1.2, 'Orange': 0.7, 'Banana': 0.9}\n"
     ]
    }
   ],
   "source": [
    "fruitsPrice = {\"Apple\" : 1.20,\n",
    "               \"Orange\" : 0.70,\n",
    "               \"Banana\" : 0.90 }\n",
    "\n",
    "print(fruitsPrice)"
   ]
  },
  {
   "cell_type": "code",
   "execution_count": 101,
   "id": "9ac0623f-d45e-4313-be23-866db0790f92",
   "metadata": {},
   "outputs": [
    {
     "data": {
      "text/plain": [
       "dict"
      ]
     },
     "execution_count": 101,
     "metadata": {},
     "output_type": "execute_result"
    }
   ],
   "source": [
    "type(fruitsPrice)"
   ]
  },
  {
   "cell_type": "code",
   "execution_count": 103,
   "id": "25671b6b-6338-4de1-87b7-cfcc7607aee9",
   "metadata": {},
   "outputs": [
    {
     "data": {
      "text/plain": [
       "1.2"
      ]
     },
     "execution_count": 103,
     "metadata": {},
     "output_type": "execute_result"
    }
   ],
   "source": [
    "#price of apple?\n",
    "\n",
    "fruitsPrice[\"Apple\"]    #index is the key"
   ]
  },
  {
   "cell_type": "code",
   "execution_count": 104,
   "id": "c8e3d5a0-253d-4f48-b401-efd713da19c0",
   "metadata": {},
   "outputs": [
    {
     "ename": "KeyError",
     "evalue": "0",
     "output_type": "error",
     "traceback": [
      "\u001b[1;31m---------------------------------------------------------------------------\u001b[0m",
      "\u001b[1;31mKeyError\u001b[0m                                  Traceback (most recent call last)",
      "Cell \u001b[1;32mIn[104], line 1\u001b[0m\n\u001b[1;32m----> 1\u001b[0m \u001b[43mfruitsPrice\u001b[49m\u001b[43m[\u001b[49m\u001b[38;5;241;43m0\u001b[39;49m\u001b[43m]\u001b[49m\n",
      "\u001b[1;31mKeyError\u001b[0m: 0"
     ]
    }
   ],
   "source": [
    "fruitsPrice[0]    #numeric indexing does not work"
   ]
  },
  {
   "cell_type": "code",
   "execution_count": 106,
   "id": "d80fe18d-face-49e9-bcde-028afa66d89b",
   "metadata": {},
   "outputs": [
    {
     "ename": "TypeError",
     "evalue": "unhashable type: 'slice'",
     "output_type": "error",
     "traceback": [
      "\u001b[1;31m---------------------------------------------------------------------------\u001b[0m",
      "\u001b[1;31mTypeError\u001b[0m                                 Traceback (most recent call last)",
      "Cell \u001b[1;32mIn[106], line 1\u001b[0m\n\u001b[1;32m----> 1\u001b[0m \u001b[43mfruitsPrice\u001b[49m\u001b[43m[\u001b[49m\u001b[38;5;241;43m0\u001b[39;49m\u001b[43m:\u001b[49m\u001b[38;5;241;43m2\u001b[39;49m\u001b[43m]\u001b[49m\n",
      "\u001b[1;31mTypeError\u001b[0m: unhashable type: 'slice'"
     ]
    }
   ],
   "source": [
    "fruitsPrice[0:2]"
   ]
  },
  {
   "cell_type": "markdown",
   "id": "265e4af1-94a9-481d-b87a-808a5afff958",
   "metadata": {},
   "source": [
    "### Printing Dictionaries"
   ]
  },
  {
   "cell_type": "code",
   "execution_count": 105,
   "id": "bfd3d0e4-7d43-4752-a298-00e29c3e5f2e",
   "metadata": {},
   "outputs": [
    {
     "data": {
      "text/plain": [
       "dict_keys(['Apple', 'Orange', 'Banana'])"
      ]
     },
     "execution_count": 105,
     "metadata": {},
     "output_type": "execute_result"
    }
   ],
   "source": [
    "# get the keys\n",
    "\n",
    "fruitsPrice.keys()    # use the keys method"
   ]
  },
  {
   "cell_type": "code",
   "execution_count": 107,
   "id": "ff2e6a18-d306-401a-8544-baeebc39bfeb",
   "metadata": {},
   "outputs": [
    {
     "data": {
      "text/plain": [
       "dict_values([1.2, 0.7, 0.9])"
      ]
     },
     "execution_count": 107,
     "metadata": {},
     "output_type": "execute_result"
    }
   ],
   "source": [
    "# get the values\n",
    "\n",
    "fruitsPrice.values()   # use the values method"
   ]
  },
  {
   "cell_type": "code",
   "execution_count": 109,
   "id": "60ccabf6-ee27-4c3f-98f6-2b44b1de0046",
   "metadata": {},
   "outputs": [
    {
     "data": {
      "text/plain": [
       "dict_items([('Apple', 1.2), ('Orange', 0.7), ('Banana', 0.9)])"
      ]
     },
     "execution_count": 109,
     "metadata": {},
     "output_type": "execute_result"
    }
   ],
   "source": [
    "# get the key-value pairs\n",
    "\n",
    "fruitsPrice.items()    # use the items method"
   ]
  },
  {
   "cell_type": "markdown",
   "id": "fa0c3bda-ac22-47a7-bfaf-bc12992cfe2d",
   "metadata": {},
   "source": [
    "### Printing Key-Value pairs in dicts"
   ]
  },
  {
   "cell_type": "code",
   "execution_count": 114,
   "id": "fe916355-9781-423c-a99f-517c8d82a8a2",
   "metadata": {},
   "outputs": [
    {
     "name": "stdout",
     "output_type": "stream",
     "text": [
      "Apple 1.2\n",
      "Orange 0.7\n",
      "Banana 0.9\n",
      "('Apple', 1.2)\n",
      "('Orange', 0.7)\n",
      "('Banana', 0.9)\n"
     ]
    }
   ],
   "source": [
    "for key, value, in fruitsPrice.items():\n",
    "    print(key,value)\n",
    "    \n",
    "for i in fruitsPrice.items():\n",
    "    print(i)"
   ]
  },
  {
   "cell_type": "code",
   "execution_count": 113,
   "id": "1be3d908-f0e9-4329-a2de-8c8dc505c73d",
   "metadata": {},
   "outputs": [
    {
     "name": "stdout",
     "output_type": "stream",
     "text": [
      "Apple 1.2\n",
      "Orange 0.7\n",
      "Banana 0.9\n"
     ]
    }
   ],
   "source": [
    "for key, value in list(fruitsPrice.items()):     #convert into list\n",
    "    print(key, value)"
   ]
  },
  {
   "cell_type": "markdown",
   "id": "c691fb18-e03a-40af-91de-4a1a4de5855d",
   "metadata": {},
   "source": [
    "### Edit Dictionaries"
   ]
  },
  {
   "cell_type": "code",
   "execution_count": 118,
   "id": "e042aff9-3e2b-41b3-955b-48538e1c7bfe",
   "metadata": {},
   "outputs": [
    {
     "name": "stdout",
     "output_type": "stream",
     "text": [
      "120\n"
     ]
    }
   ],
   "source": [
    "# change the price of Apple and keep the old price to 120?\n",
    "\n",
    "old_price = fruitsPrice[\"Apple\"]\n",
    "\n",
    "fruitsPrice[\"Apple\"] = 120\n",
    "            \n",
    "print(fruitsPrice[\"Apple\"])"
   ]
  },
  {
   "cell_type": "code",
   "execution_count": 119,
   "id": "79679ad6-0b1e-42f9-82a7-73c8ff3131ad",
   "metadata": {},
   "outputs": [
    {
     "name": "stdout",
     "output_type": "stream",
     "text": [
      "{'Orange': 0.7, 'Banana': 0.9}\n"
     ]
    }
   ],
   "source": [
    "# delete apple fruits price\n",
    "\n",
    "del fruitsPrice[\"Apple\"]\n",
    "print(fruitsPrice)"
   ]
  },
  {
   "cell_type": "code",
   "execution_count": 124,
   "id": "025c7f6b-8ded-406b-bdae-4c491eaf349c",
   "metadata": {},
   "outputs": [
    {
     "name": "stdout",
     "output_type": "stream",
     "text": [
      "{'Orange': 0.7, 'Banana': 0.9, 'Pear': 2.2}\n"
     ]
    }
   ],
   "source": [
    "# add Pear with a price of 2.2\n",
    "\n",
    "fruitsPrice[\"Pear\"] = 2.2\n",
    "print(fruitsPrice)"
   ]
  },
  {
   "cell_type": "markdown",
   "id": "2fd2d211-c69c-4b7c-9f20-fb7ba96d703b",
   "metadata": {},
   "source": [
    "### Merge Dictionaries"
   ]
  },
  {
   "cell_type": "code",
   "execution_count": 121,
   "id": "a877c054-140c-40a8-b4fe-416373be8b77",
   "metadata": {},
   "outputs": [
    {
     "data": {
      "text/plain": [
       "['Spinach', 'Lettuce', 'Cabbage']"
      ]
     },
     "execution_count": 121,
     "metadata": {},
     "output_type": "execute_result"
    }
   ],
   "source": [
    "vegetablesList"
   ]
  },
  {
   "cell_type": "code",
   "execution_count": 122,
   "id": "e0aba4be-a091-4397-bfd0-46a72aee8b59",
   "metadata": {},
   "outputs": [
    {
     "name": "stdout",
     "output_type": "stream",
     "text": [
      "{'Spinach': 3.1, 'Lettuce': 2.0, 'Cabbage': 3.5}\n"
     ]
    }
   ],
   "source": [
    "# create vegePrice dict\n",
    "\n",
    "vegePrice = { \"Spinach\" : 3.10,\n",
    "              \"Lettuce\" : 2.00,\n",
    "              \"Cabbage\" : 3.50 }    #vegetable prices\n",
    "\n",
    "print(vegePrice)"
   ]
  },
  {
   "cell_type": "code",
   "execution_count": 129,
   "id": "2e16c11d-77a6-4f1d-9994-f3cad57b939e",
   "metadata": {},
   "outputs": [
    {
     "name": "stdout",
     "output_type": "stream",
     "text": [
      "\t {'Orange': 0.7, 'Banana': 0.9, 'Pear': 2.2} \n",
      "\t {'Spinach': 3.1, 'Lettuce': 2.0, 'Cabbage': 3.5}\n"
     ]
    }
   ],
   "source": [
    "print( \"\\t\", fruitsPrice, \"\\n\\t\", vegePrice)"
   ]
  },
  {
   "cell_type": "code",
   "execution_count": 128,
   "id": "8b76124d-4ab3-497e-97e7-6e66a97ad478",
   "metadata": {},
   "outputs": [
    {
     "name": "stdout",
     "output_type": "stream",
     "text": [
      "{'Orange': 0.7, 'Banana': 0.9, 'Pear': 2.2, 'Spinach': 3.1, 'Lettuce': 2.0, 'Cabbage': 3.5}\n"
     ]
    }
   ],
   "source": [
    "# Merge both dicts\n",
    "\n",
    "combinedPrice = fruitsPrice | vegePrice\n",
    "\n",
    "print(combinedPrice)\n"
   ]
  },
  {
   "cell_type": "markdown",
   "id": "d8024928-4030-44e3-bd04-38b40d59ef26",
   "metadata": {},
   "source": [
    "## **Functions**"
   ]
  },
  {
   "cell_type": "code",
   "execution_count": null,
   "id": "a584ef2a-2215-48b2-8bc0-7d3c5de49a97",
   "metadata": {},
   "outputs": [],
   "source": [
    "# use the help() function\n",
    "\n",
    "help(zip)"
   ]
  },
  {
   "cell_type": "code",
   "execution_count": 131,
   "id": "8e82b356-c9ea-47f3-b81b-ccc6d70b7cf8",
   "metadata": {},
   "outputs": [
    {
     "data": {
      "text/plain": [
       "[(1, 10), (2, 20), (3, 30)]"
      ]
     },
     "execution_count": 131,
     "metadata": {},
     "output_type": "execute_result"
    }
   ],
   "source": [
    "list( zip((1,2,3), (10,20,30,40)) )"
   ]
  },
  {
   "cell_type": "code",
   "execution_count": null,
   "id": "7e087c72-cdb2-421d-8a18-4e44d2b9905b",
   "metadata": {},
   "outputs": [],
   "source": [
    "help(dict)"
   ]
  },
  {
   "cell_type": "code",
   "execution_count": 133,
   "id": "4143b4dc-f7db-4589-94ea-2736fbbcc22a",
   "metadata": {},
   "outputs": [
    {
     "name": "stdout",
     "output_type": "stream",
     "text": [
      "Help on built-in function append:\n",
      "\n",
      "append(object, /) method of builtins.list instance\n",
      "    Append object to the end of the list.\n",
      "\n"
     ]
    }
   ],
   "source": [
    "help(fruitsList.append)"
   ]
  },
  {
   "cell_type": "markdown",
   "id": "9d603c87-82ad-4eb8-bf46-d7777b06cdf2",
   "metadata": {},
   "source": [
    "## User Defined Functions"
   ]
  },
  {
   "cell_type": "code",
   "execution_count": 135,
   "id": "afa2d990-ac1b-4ce7-81ea-1b5d3be9a937",
   "metadata": {},
   "outputs": [],
   "source": [
    "# A simple function\n",
    "\n",
    "def square (x,y):                       # function starts with def and should have an arguement\n",
    "    result = x**2 + 2*x*y + y**2\n",
    "    return(result)                      # function should return something"
   ]
  },
  {
   "cell_type": "code",
   "execution_count": 136,
   "id": "e35adf7b-6e6d-472a-b8b0-a95239c4a3c4",
   "metadata": {},
   "outputs": [
    {
     "data": {
      "text/plain": [
       "49"
      ]
     },
     "execution_count": 136,
     "metadata": {},
     "output_type": "execute_result"
    }
   ],
   "source": [
    "square(3,4)"
   ]
  },
  {
   "cell_type": "code",
   "execution_count": 160,
   "id": "13fbc568-dbbc-42db-84a2-a0056fde52fa",
   "metadata": {},
   "outputs": [
    {
     "data": {
      "text/plain": [
       "['Apple', 'Orange', 'Banana']"
      ]
     },
     "execution_count": 160,
     "metadata": {},
     "output_type": "execute_result"
    }
   ],
   "source": [
    "# Create a fucntion to reverse the items in a list\n",
    "\n",
    "def reverseList (aList): \n",
    "    \n",
    "    newList = aList[::-1]    #start from beginning to end, increment -1\n",
    "    \n",
    "    return newList\n",
    "\n",
    "fruitsList"
   ]
  },
  {
   "cell_type": "code",
   "execution_count": 161,
   "id": "cba72abb-93ba-4e8e-9682-d52876a5e4a2",
   "metadata": {},
   "outputs": [
    {
     "data": {
      "text/plain": [
       "['Banana', 'Orange', 'Apple']"
      ]
     },
     "execution_count": 161,
     "metadata": {},
     "output_type": "execute_result"
    }
   ],
   "source": [
    "reverseList(fruitsList)"
   ]
  },
  {
   "cell_type": "code",
   "execution_count": null,
   "id": "1abbed27-7634-4b60-b8f1-a56e72ecfddb",
   "metadata": {},
   "outputs": [],
   "source": [
    "help(str)"
   ]
  },
  {
   "cell_type": "code",
   "execution_count": 176,
   "id": "281b3fb1-1286-4578-9572-c09b92a15140",
   "metadata": {},
   "outputs": [
    {
     "data": {
      "text/plain": [
       "(11, 11)"
      ]
     },
     "execution_count": 176,
     "metadata": {},
     "output_type": "execute_result"
    }
   ],
   "source": [
    "def countLetters (aString):\n",
    "    \n",
    "    lower_count = 0\n",
    "    upper_count = 0\n",
    "    \n",
    "    for char in aString :               #loop through char by char\n",
    "        if (char.islower()) == True:    #test for uppercase\n",
    "            lower_count +=1\n",
    "        \n",
    "        elif (char.isupper()) == True:  #test for lowercase\n",
    "            upper_count += 1\n",
    "    \n",
    "    return lower_count, upper_count     #return the 2 counts\n",
    "\n",
    "countLetters(\"Banana Split is DELICIOUS!\")"
   ]
  },
  {
   "cell_type": "markdown",
   "id": "5469ce6c-3c5b-480c-a979-de680addae51",
   "metadata": {},
   "source": [
    "## Modules, Packages, Libraries"
   ]
  },
  {
   "cell_type": "code",
   "execution_count": null,
   "id": "618ef084-1b77-4f89-9e1b-49ca987f6700",
   "metadata": {},
   "outputs": [],
   "source": [
    "!pip3 install pandas"
   ]
  },
  {
   "cell_type": "code",
   "execution_count": 181,
   "id": "ef007d1b-2eeb-4252-acd2-ba3a7f064fc6",
   "metadata": {},
   "outputs": [],
   "source": [
    "import pandas as pd\n",
    "import numpy as np"
   ]
  }
 ],
 "metadata": {
  "kernelspec": {
   "display_name": "Python 3 (ipykernel)",
   "language": "python",
   "name": "python3"
  },
  "language_info": {
   "codemirror_mode": {
    "name": "ipython",
    "version": 3
   },
   "file_extension": ".py",
   "mimetype": "text/x-python",
   "name": "python",
   "nbconvert_exporter": "python",
   "pygments_lexer": "ipython3",
   "version": "3.9.12"
  }
 },
 "nbformat": 4,
 "nbformat_minor": 5
}
